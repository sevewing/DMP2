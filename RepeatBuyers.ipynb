{
 "cells": [
  {
   "cell_type": "code",
   "execution_count": 1,
   "metadata": {},
   "outputs": [],
   "source": [
    "import pandas as pd\n",
    "import numpy as np\n",
    "import matplotlib.pyplot as plt\n",
    "from sklearn.cluster import KMeans"
   ]
  },
  {
   "cell_type": "markdown",
   "metadata": {},
   "source": [
    "# Load dataset"
   ]
  },
  {
   "cell_type": "code",
   "execution_count": 31,
   "metadata": {
    "scrolled": true
   },
   "outputs": [
    {
     "name": "stdout",
     "output_type": "stream",
     "text": [
      "Loading\n",
      "Load success\n"
     ]
    }
   ],
   "source": [
    "print(\"Loading\")\n",
    "train = pd.read_csv('data/data_format1/train_format1.csv').drop_duplicates()\n",
    "test = pd.read_csv('data/data_format1/test_format1.csv').drop_duplicates()\n",
    "user_info = pd.read_csv('data/data_format1/user_info_format1.csv').drop_duplicates()\n",
    "user_log = pd.read_csv('data/data_format1/user_log_format1.csv')\n",
    "print(\"Load success\")"
   ]
  },
  {
   "cell_type": "markdown",
   "metadata": {},
   "source": [
    "<b>1. Train data</b>\n",
    "<ul>\n",
    "<li>user_id</li>\n",
    "<li>merchant_id</li>\n",
    "<li>label: '1' denotes 'user_id' is a repeat buyer for 'merchant_id', while '0' is the opposite. </li>\n",
    "</ul>"
   ]
  },
  {
   "cell_type": "code",
   "execution_count": 55,
   "metadata": {
    "scrolled": true
   },
   "outputs": [
    {
     "data": {
      "text/html": [
       "<div>\n",
       "<style scoped>\n",
       "    .dataframe tbody tr th:only-of-type {\n",
       "        vertical-align: middle;\n",
       "    }\n",
       "\n",
       "    .dataframe tbody tr th {\n",
       "        vertical-align: top;\n",
       "    }\n",
       "\n",
       "    .dataframe thead th {\n",
       "        text-align: right;\n",
       "    }\n",
       "</style>\n",
       "<table border=\"1\" class=\"dataframe\">\n",
       "  <thead>\n",
       "    <tr style=\"text-align: right;\">\n",
       "      <th></th>\n",
       "      <th>user_id</th>\n",
       "      <th>merchant_id</th>\n",
       "      <th>label</th>\n",
       "    </tr>\n",
       "  </thead>\n",
       "  <tbody>\n",
       "    <tr>\n",
       "      <td>0</td>\n",
       "      <td>34176</td>\n",
       "      <td>3906</td>\n",
       "      <td>0</td>\n",
       "    </tr>\n",
       "    <tr>\n",
       "      <td>1</td>\n",
       "      <td>34176</td>\n",
       "      <td>121</td>\n",
       "      <td>0</td>\n",
       "    </tr>\n",
       "    <tr>\n",
       "      <td>2</td>\n",
       "      <td>34176</td>\n",
       "      <td>4356</td>\n",
       "      <td>1</td>\n",
       "    </tr>\n",
       "  </tbody>\n",
       "</table>\n",
       "</div>"
      ],
      "text/plain": [
       "   user_id  merchant_id  label\n",
       "0    34176         3906      0\n",
       "1    34176          121      0\n",
       "2    34176         4356      1"
      ]
     },
     "execution_count": 55,
     "metadata": {},
     "output_type": "execute_result"
    }
   ],
   "source": [
    "train.head(3)"
   ]
  },
  {
   "cell_type": "markdown",
   "metadata": {},
   "source": [
    "<b>2. Teat data</b>\n",
    "<ul>\n",
    "<li>user_id</li>\n",
    "<li>merchant_id</li>\n",
    "<li>prob: probability </li>\n",
    "</ul>"
   ]
  },
  {
   "cell_type": "code",
   "execution_count": 56,
   "metadata": {
    "scrolled": true
   },
   "outputs": [
    {
     "data": {
      "text/html": [
       "<div>\n",
       "<style scoped>\n",
       "    .dataframe tbody tr th:only-of-type {\n",
       "        vertical-align: middle;\n",
       "    }\n",
       "\n",
       "    .dataframe tbody tr th {\n",
       "        vertical-align: top;\n",
       "    }\n",
       "\n",
       "    .dataframe thead th {\n",
       "        text-align: right;\n",
       "    }\n",
       "</style>\n",
       "<table border=\"1\" class=\"dataframe\">\n",
       "  <thead>\n",
       "    <tr style=\"text-align: right;\">\n",
       "      <th></th>\n",
       "      <th>user_id</th>\n",
       "      <th>merchant_id</th>\n",
       "      <th>prob</th>\n",
       "    </tr>\n",
       "  </thead>\n",
       "  <tbody>\n",
       "    <tr>\n",
       "      <td>0</td>\n",
       "      <td>163968</td>\n",
       "      <td>4605</td>\n",
       "      <td>NaN</td>\n",
       "    </tr>\n",
       "    <tr>\n",
       "      <td>1</td>\n",
       "      <td>360576</td>\n",
       "      <td>1581</td>\n",
       "      <td>NaN</td>\n",
       "    </tr>\n",
       "    <tr>\n",
       "      <td>2</td>\n",
       "      <td>98688</td>\n",
       "      <td>1964</td>\n",
       "      <td>NaN</td>\n",
       "    </tr>\n",
       "  </tbody>\n",
       "</table>\n",
       "</div>"
      ],
      "text/plain": [
       "   user_id  merchant_id  prob\n",
       "0   163968         4605   NaN\n",
       "1   360576         1581   NaN\n",
       "2    98688         1964   NaN"
      ]
     },
     "execution_count": 56,
     "metadata": {},
     "output_type": "execute_result"
    }
   ],
   "source": [
    "test.head(3)"
   ]
  },
  {
   "cell_type": "markdown",
   "metadata": {},
   "source": [
    "<b>3. User information data</b>\n",
    "<ul>\n",
    "<li>user_id</li>\n",
    "<li>age_range: 1 for [,18];\n",
    "            2 for [18,24];  \n",
    "            3 for [25,29];  \n",
    "            4 for [30,34]; \n",
    "            5 for [35,39]; \n",
    "            6 for [40,49]; \n",
    "            7 and 8 for >= [50,];\n",
    "0 and NULL for unknown.</li>\n",
    "<li>gender:  0 for female, 1 for male, 2 and NULL for unknown.</li>\n",
    "</ul>"
   ]
  },
  {
   "cell_type": "code",
   "execution_count": 57,
   "metadata": {},
   "outputs": [
    {
     "data": {
      "text/html": [
       "<div>\n",
       "<style scoped>\n",
       "    .dataframe tbody tr th:only-of-type {\n",
       "        vertical-align: middle;\n",
       "    }\n",
       "\n",
       "    .dataframe tbody tr th {\n",
       "        vertical-align: top;\n",
       "    }\n",
       "\n",
       "    .dataframe thead th {\n",
       "        text-align: right;\n",
       "    }\n",
       "</style>\n",
       "<table border=\"1\" class=\"dataframe\">\n",
       "  <thead>\n",
       "    <tr style=\"text-align: right;\">\n",
       "      <th></th>\n",
       "      <th>user_id</th>\n",
       "      <th>age_range</th>\n",
       "      <th>gender</th>\n",
       "    </tr>\n",
       "  </thead>\n",
       "  <tbody>\n",
       "    <tr>\n",
       "      <td>0</td>\n",
       "      <td>376517</td>\n",
       "      <td>6.0</td>\n",
       "      <td>1.0</td>\n",
       "    </tr>\n",
       "    <tr>\n",
       "      <td>1</td>\n",
       "      <td>234512</td>\n",
       "      <td>5.0</td>\n",
       "      <td>0.0</td>\n",
       "    </tr>\n",
       "    <tr>\n",
       "      <td>2</td>\n",
       "      <td>344532</td>\n",
       "      <td>5.0</td>\n",
       "      <td>0.0</td>\n",
       "    </tr>\n",
       "  </tbody>\n",
       "</table>\n",
       "</div>"
      ],
      "text/plain": [
       "   user_id  age_range  gender\n",
       "0   376517        6.0     1.0\n",
       "1   234512        5.0     0.0\n",
       "2   344532        5.0     0.0"
      ]
     },
     "execution_count": 57,
     "metadata": {},
     "output_type": "execute_result"
    }
   ],
   "source": [
    "user_info.head(3)"
   ]
  },
  {
   "cell_type": "markdown",
   "metadata": {},
   "source": [
    "<b>4. User Log data</b>\n",
    "<ul>\n",
    "<li>user_id</li>\n",
    "<li>item_id: goods</li>\n",
    "<li>cat_id: category</li>\n",
    "<li>seller_id: merchant_id</li>\n",
    "<li>brand_id</li>\n",
    "<li>time_stamp: mmdd</li>\n",
    "<li>action_type: 0 is for click, 1 is for add-to-cart, 2 is for purchase and 3 is for add-to-favourite</li>\n",
    "</ul>"
   ]
  },
  {
   "cell_type": "code",
   "execution_count": 58,
   "metadata": {},
   "outputs": [
    {
     "data": {
      "text/html": [
       "<div>\n",
       "<style scoped>\n",
       "    .dataframe tbody tr th:only-of-type {\n",
       "        vertical-align: middle;\n",
       "    }\n",
       "\n",
       "    .dataframe tbody tr th {\n",
       "        vertical-align: top;\n",
       "    }\n",
       "\n",
       "    .dataframe thead th {\n",
       "        text-align: right;\n",
       "    }\n",
       "</style>\n",
       "<table border=\"1\" class=\"dataframe\">\n",
       "  <thead>\n",
       "    <tr style=\"text-align: right;\">\n",
       "      <th></th>\n",
       "      <th>user_id</th>\n",
       "      <th>item_id</th>\n",
       "      <th>cat_id</th>\n",
       "      <th>seller_id</th>\n",
       "      <th>brand_id</th>\n",
       "      <th>time_stamp</th>\n",
       "      <th>action_type</th>\n",
       "    </tr>\n",
       "  </thead>\n",
       "  <tbody>\n",
       "    <tr>\n",
       "      <td>0</td>\n",
       "      <td>328862</td>\n",
       "      <td>323294</td>\n",
       "      <td>833</td>\n",
       "      <td>2882</td>\n",
       "      <td>2661.0</td>\n",
       "      <td>829</td>\n",
       "      <td>0</td>\n",
       "    </tr>\n",
       "    <tr>\n",
       "      <td>1</td>\n",
       "      <td>328862</td>\n",
       "      <td>844400</td>\n",
       "      <td>1271</td>\n",
       "      <td>2882</td>\n",
       "      <td>2661.0</td>\n",
       "      <td>829</td>\n",
       "      <td>0</td>\n",
       "    </tr>\n",
       "    <tr>\n",
       "      <td>2</td>\n",
       "      <td>328862</td>\n",
       "      <td>575153</td>\n",
       "      <td>1271</td>\n",
       "      <td>2882</td>\n",
       "      <td>2661.0</td>\n",
       "      <td>829</td>\n",
       "      <td>0</td>\n",
       "    </tr>\n",
       "  </tbody>\n",
       "</table>\n",
       "</div>"
      ],
      "text/plain": [
       "   user_id  item_id  cat_id  seller_id  brand_id  time_stamp  action_type\n",
       "0   328862   323294     833       2882    2661.0         829            0\n",
       "1   328862   844400    1271       2882    2661.0         829            0\n",
       "2   328862   575153    1271       2882    2661.0         829            0"
      ]
     },
     "execution_count": 58,
     "metadata": {},
     "output_type": "execute_result"
    }
   ],
   "source": [
    "user_log.head(3)"
   ]
  },
  {
   "cell_type": "markdown",
   "metadata": {},
   "source": [
    "# Data Cleaning\n",
    "## A. Drop all nan and rename\n",
    "1. Drop nan  \n",
    "2. Rename seller_id to merchant_id  \n",
    "In user_log, \"seller_id\" should be called as \"merchant_id\".  \n",
    "It is a mistake by data provider.  "
   ]
  },
  {
   "cell_type": "code",
   "execution_count": 32,
   "metadata": {},
   "outputs": [],
   "source": [
    "user_info.dropna(axis=0,how='all',inplace = True)\n",
    "user_log.dropna(axis=0,how='all',inplace = True)"
   ]
  },
  {
   "cell_type": "code",
   "execution_count": 4,
   "metadata": {},
   "outputs": [],
   "source": [
    "user_log.rename(columns={'seller_id':'merchant_id'}, inplace=True)"
   ]
  },
  {
   "cell_type": "markdown",
   "metadata": {},
   "source": [
    "## B. Deal with missing value\n",
    "### Find out missing colunms"
   ]
  },
  {
   "cell_type": "code",
   "execution_count": 21,
   "metadata": {},
   "outputs": [],
   "source": [
    "def num_missing(x):\n",
    "  return sum(x.isnull())"
   ]
  },
  {
   "cell_type": "code",
   "execution_count": 64,
   "metadata": {},
   "outputs": [
    {
     "name": "stdout",
     "output_type": "stream",
     "text": [
      "Missing values per column:\n",
      "Train data missing: \n",
      " user_id        0\n",
      "merchant_id    0\n",
      "label          0\n",
      "dtype: int64 \n",
      "\n",
      "User_info data missing: \n",
      " user_id         0\n",
      "age_range    2217\n",
      "gender       6436\n",
      "dtype: int64 \n",
      "\n",
      "User_log data missing: \n",
      " user_id            0\n",
      "item_id            0\n",
      "cat_id             0\n",
      "merchant_id        0\n",
      "brand_id       91015\n",
      "time_stamp         0\n",
      "action_type        0\n",
      "dtype: int64\n"
     ]
    }
   ],
   "source": [
    "print(\"Missing values per column:\")\n",
    "print(\"Train data missing: \\n\", train.apply(num_missing, axis=0),'\\n')\n",
    "print(\"User_info data missing: \\n\", user_info.apply(num_missing, axis=0),'\\n')\n",
    "print(\"User_log data missing: \\n\", user_log.apply(num_missing, axis=0))"
   ]
  },
  {
   "cell_type": "markdown",
   "metadata": {},
   "source": [
    "### For User_info data\n",
    "1. Observation of \"age_range\" and \"gender\" in histogram."
   ]
  },
  {
   "cell_type": "code",
   "execution_count": 65,
   "metadata": {},
   "outputs": [
    {
     "data": {
      "text/plain": [
       "<matplotlib.axes._subplots.AxesSubplot at 0x122e59198>"
      ]
     },
     "execution_count": 65,
     "metadata": {},
     "output_type": "execute_result"
    },
    {
     "data": {
      "image/png": "[encoded data removed]",
      "text/plain": [
       "<Figure size 1080x432 with 2 Axes>"
      ]
     },
     "metadata": {
      "needs_background": "light"
     },
     "output_type": "display_data"
    }
   ],
   "source": [
    "fig, axes = plt.subplots(nrows=1, ncols=2,figsize=(15, 6), sharey=False)\n",
    "user_info['gender'].plot.hist(ax=axes[0],bins=3,edgecolor='black', title=\"Gender\")\n",
    "user_info['age_range'].plot.hist(ax=axes[1],bins=7,edgecolor='black', title=\"Age Range\")"
   ]
  },
  {
   "cell_type": "markdown",
   "metadata": {},
   "source": [
    "2. Drop empty \"gender\" and \"age_range\" data"
   ]
  },
  {
   "cell_type": "code",
   "execution_count": 34,
   "metadata": {},
   "outputs": [],
   "source": [
    "# fillna by by previous value\n",
    "# user_info.fillna(method='ffill',inplace=True)\n",
    "# dropna\n",
    "user_info['age_range'] = user_info['age_range'].fillna(value=0)\n",
    "user_info.dropna(subset=['gender'],inplace=True)"
   ]
  },
  {
   "cell_type": "markdown",
   "metadata": {},
   "source": [
    "3. Check result.  "
   ]
  },
  {
   "cell_type": "code",
   "execution_count": 69,
   "metadata": {},
   "outputs": [
    {
     "name": "stdout",
     "output_type": "stream",
     "text": [
      "User_info data missing: \n",
      " user_id      0\n",
      "age_range    0\n",
      "gender       0\n",
      "dtype: int64 \n",
      "\n"
     ]
    }
   ],
   "source": [
    "print(\"User_info data missing: \\n\", user_info.apply(num_missing, axis=0),'\\n')"
   ]
  },
  {
   "cell_type": "code",
   "execution_count": 70,
   "metadata": {
    "scrolled": false
   },
   "outputs": [
    {
     "data": {
      "text/plain": [
       "<matplotlib.axes._subplots.AxesSubplot at 0x117eee240>"
      ]
     },
     "execution_count": 70,
     "metadata": {},
     "output_type": "execute_result"
    },
    {
     "data": {
      "image/png": "[encoded data removed]",
      "text/plain": [
       "<Figure size 1008x360 with 2 Axes>"
      ]
     },
     "metadata": {
      "needs_background": "light"
     },
     "output_type": "display_data"
    }
   ],
   "source": [
    "fig, axes = plt.subplots(nrows=1, ncols=2,figsize=(14, 5), sharey=False)\n",
    "user_info['gender'].plot.hist(ax=axes[0],bins=3,edgecolor='black', title=\"Gender\")\n",
    "user_info['age_range'].plot.hist(ax=axes[1],bins=7,edgecolor='black', title=\"Age Range\")"
   ]
  },
  {
   "cell_type": "markdown",
   "metadata": {},
   "source": [
    "### For User_log data\n",
    "1. Principle: One brand contains multi items, but one item only belongs to one brand."
   ]
  },
  {
   "cell_type": "code",
   "execution_count": 71,
   "metadata": {},
   "outputs": [
    {
     "data": {
      "text/html": [
       "<div>\n",
       "<style scoped>\n",
       "    .dataframe tbody tr th:only-of-type {\n",
       "        vertical-align: middle;\n",
       "    }\n",
       "\n",
       "    .dataframe tbody tr th {\n",
       "        vertical-align: top;\n",
       "    }\n",
       "\n",
       "    .dataframe thead th {\n",
       "        text-align: right;\n",
       "    }\n",
       "</style>\n",
       "<table border=\"1\" class=\"dataframe\">\n",
       "  <thead>\n",
       "    <tr style=\"text-align: right;\">\n",
       "      <th></th>\n",
       "      <th>item_id</th>\n",
       "      <th>brand_id</th>\n",
       "    </tr>\n",
       "  </thead>\n",
       "  <tbody>\n",
       "    <tr>\n",
       "      <td>10</td>\n",
       "      <td>239288</td>\n",
       "      <td>4953.0</td>\n",
       "    </tr>\n",
       "    <tr>\n",
       "      <td>40817</td>\n",
       "      <td>239288</td>\n",
       "      <td>4953.0</td>\n",
       "    </tr>\n",
       "    <tr>\n",
       "      <td>55038</td>\n",
       "      <td>239288</td>\n",
       "      <td>4953.0</td>\n",
       "    </tr>\n",
       "  </tbody>\n",
       "</table>\n",
       "</div>"
      ],
      "text/plain": [
       "       item_id  brand_id\n",
       "10      239288    4953.0\n",
       "40817   239288    4953.0\n",
       "55038   239288    4953.0"
      ]
     },
     "execution_count": 71,
     "metadata": {},
     "output_type": "execute_result"
    }
   ],
   "source": [
    "# Test relationship/principle\n",
    "user_log[['item_id','brand_id']][user_log['item_id']==239288].head(3)"
   ]
  },
  {
   "cell_type": "code",
   "execution_count": 72,
   "metadata": {},
   "outputs": [
    {
     "data": {
      "text/html": [
       "<div>\n",
       "<style scoped>\n",
       "    .dataframe tbody tr th:only-of-type {\n",
       "        vertical-align: middle;\n",
       "    }\n",
       "\n",
       "    .dataframe tbody tr th {\n",
       "        vertical-align: top;\n",
       "    }\n",
       "\n",
       "    .dataframe thead th {\n",
       "        text-align: right;\n",
       "    }\n",
       "</style>\n",
       "<table border=\"1\" class=\"dataframe\">\n",
       "  <thead>\n",
       "    <tr style=\"text-align: right;\">\n",
       "      <th></th>\n",
       "      <th>item_id</th>\n",
       "      <th>brand_id</th>\n",
       "    </tr>\n",
       "  </thead>\n",
       "  <tbody>\n",
       "    <tr>\n",
       "      <td>32109</td>\n",
       "      <td>157368</td>\n",
       "      <td>NaN</td>\n",
       "    </tr>\n",
       "  </tbody>\n",
       "</table>\n",
       "</div>"
      ],
      "text/plain": [
       "       item_id  brand_id\n",
       "32109   157368       NaN"
      ]
     },
     "execution_count": 72,
     "metadata": {},
     "output_type": "execute_result"
    }
   ],
   "source": [
    "# Also have some items does not have brand_id\n",
    "user_log[['item_id','brand_id']][user_log['item_id']==157368].head()"
   ]
  },
  {
   "cell_type": "markdown",
   "metadata": {},
   "source": [
    "2. Fill missing value  \n",
    "We can see that after fill lots of brand_id, user_log still has missing brand_id.\n",
    "Some items don't have a mapped brand_id."
   ]
  },
  {
   "cell_type": "code",
   "execution_count": 7,
   "metadata": {
    "scrolled": true
   },
   "outputs": [
    {
     "name": "stdout",
     "output_type": "stream",
     "text": [
      "Done\n"
     ]
    }
   ],
   "source": [
    "item_brand_dict = user_log.drop_duplicates(subset=['item_id','brand_id']).set_index('item_id')['brand_id'].to_dict()\n",
    "user_log[user_log['brand_id'].isna()] = user_log[user_log['brand_id'].isna()].apply(lambda x: x.fillna(item_brand_dict[x['item_id']]), axis=1)\n",
    "print(\"Done\")"
   ]
  },
  {
   "cell_type": "markdown",
   "metadata": {},
   "source": [
    "4. Check the result."
   ]
  },
  {
   "cell_type": "code",
   "execution_count": 75,
   "metadata": {},
   "outputs": [
    {
     "name": "stdout",
     "output_type": "stream",
     "text": [
      "In User_log, 'brand_id' still missing: \n",
      " 86604\n"
     ]
    }
   ],
   "source": [
    "print(\"In User_log, 'brand_id' still missing: \\n\", len(user_log[user_log['brand_id'].isna()]))"
   ]
  },
  {
   "cell_type": "markdown",
   "metadata": {},
   "source": [
    "### Change Data Type\n",
    "Save some space/memory"
   ]
  },
  {
   "cell_type": "code",
   "execution_count": 37,
   "metadata": {},
   "outputs": [],
   "source": [
    "user_info[['age_range','gender']] = user_info[['age_range','gender']].astype('Int8')  # int8 : (from -128 to 127)\n",
    "user_log[['user_id','item_id','cat_id']] = user_log[['user_id','item_id','cat_id']].astype('Int64')\n",
    "user_log[['merchant_id','brand_id','time_stamp']] = user_log[['merchant_id','brand_id','time_stamp']].astype('Int16')\n",
    "user_log[['action_type']] = user_log[['action_type']].astype('Int8')"
   ]
  },
  {
   "cell_type": "code",
   "execution_count": 38,
   "metadata": {
    "scrolled": true
   },
   "outputs": [
    {
     "name": "stdout",
     "output_type": "stream",
     "text": [
      "<class 'pandas.core.frame.DataFrame'>\n",
      "Int64Index: 417734 entries, 0 to 424169\n",
      "Data columns (total 3 columns):\n",
      "user_id      417734 non-null int64\n",
      "age_range    417734 non-null Int8\n",
      "gender       417734 non-null Int8\n",
      "dtypes: Int8(2), int64(1)\n",
      "memory usage: 8.0 MB\n"
     ]
    }
   ],
   "source": [
    "user_info.info()"
   ]
  },
  {
   "cell_type": "code",
   "execution_count": 82,
   "metadata": {
    "scrolled": false
   },
   "outputs": [
    {
     "name": "stdout",
     "output_type": "stream",
     "text": [
      "<class 'pandas.core.frame.DataFrame'>\n",
      "Int64Index: 54925330 entries, 0 to 54925329\n",
      "Data columns (total 7 columns):\n",
      "user_id        Int64\n",
      "item_id        Int64\n",
      "cat_id         Int64\n",
      "merchant_id    Int16\n",
      "brand_id       Int16\n",
      "time_stamp     Int16\n",
      "action_type    Int8\n",
      "dtypes: Int16(3), Int64(3), Int8(1)\n",
      "memory usage: 2.4 GB\n"
     ]
    }
   ],
   "source": [
    "user_log.info()"
   ]
  },
  {
   "cell_type": "markdown",
   "metadata": {},
   "source": [
    "# Feature Extraction\n",
    "## A. Method"
   ]
  },
  {
   "cell_type": "code",
   "execution_count": 103,
   "metadata": {},
   "outputs": [],
   "source": [
    "def feature_extract(df:pd.DataFrame, cols, grop, aggs, rname, types):\n",
    "    if types == 'cnt':\n",
    "        return df[cols].groupby(grop, as_index=False).count().rename(columns=rname)\n",
    "    \n",
    "    if types == 'sub_agg':\n",
    "        return df.groupby(grop, as_index=False).agg(aggs).rename(columns=rname)"
   ]
  },
  {
   "cell_type": "markdown",
   "metadata": {},
   "source": [
    "### For User"
   ]
  },
  {
   "cell_type": "markdown",
   "metadata": {},
   "source": [
    "1. Integrate user_info,  age_range and gender."
   ]
  },
  {
   "cell_type": "code",
   "execution_count": 40,
   "metadata": {},
   "outputs": [
    {
     "data": {
      "text/plain": [
       "<matplotlib.collections.PathCollection at 0x11e618048>"
      ]
     },
     "execution_count": 40,
     "metadata": {},
     "output_type": "execute_result"
    },
    {
     "data": {
      "image/png": "[encoded data removed]",
      "text/plain": [
       "<Figure size 432x288 with 1 Axes>"
      ]
     },
     "metadata": {
      "needs_background": "light"
     },
     "output_type": "display_data"
    }
   ],
   "source": [
    "plt.scatter(user_info['age_range'], user_info['gender'])"
   ]
  },
  {
   "cell_type": "code",
   "execution_count": 71,
   "metadata": {},
   "outputs": [],
   "source": [
    "kmeans = KMeans(init='k-means++', n_clusters=23) # the number of 23 is from the graph above\n",
    "f_u_ag = kmeans.fit_predict(user_info[['age_range','gender']])\n",
    "user_info['f_u_ag'] = f_u_ag\n"
   ]
  },
  {
   "cell_type": "code",
   "execution_count": 89,
   "metadata": {},
   "outputs": [],
   "source": [
    "f_user = user_info.drop(columns=['age_range','gender'])\n",
    "# user_info.drop(columns=['f_u_ag'], inplace=True)"
   ]
  },
  {
   "cell_type": "markdown",
   "metadata": {},
   "source": [
    "2. Extract the count of action_types for all of the merchant  \n",
    "3. Extract the count of merchant_id  \n",
    "4. Extract the count of item_id  \n",
    "5. Extract the count of cat_id(categary)  \n",
    "5. Extract the count of brand_id"
   ]
  },
  {
   "cell_type": "code",
   "execution_count": 90,
   "metadata": {},
   "outputs": [
    {
     "name": "stdout",
     "output_type": "stream",
     "text": [
      "Start\n",
      "Done\n"
     ]
    }
   ],
   "source": [
    "print('------Start------')\n",
    "\n",
    "f_u_temp = feature_extract(user_log,['user_id','action_type'],['user_id'],None,{'action_type':'f_u_action'},'cnt')\n",
    "f_user = pd.merge(f_user, f_u_temp, on=['user_id'])\n",
    "\n",
    "aggs = {'merchant_id':lambda x: len(set(x)), \n",
    "        'item_id':lambda x: len(set(x)),\n",
    "        'cat_id':lambda x: len(set(x)),\n",
    "        'brand_id':lambda x: len(set(x))}\n",
    "rnames = {'merchant_id':'f_u_merchant','item_id':'f_u_item','cat_id':'f_u_cat','brand_id':'f_u_brand'}\n",
    "f_u_temp = feature_extract(user_log, None, ['user_id'], aggs, rnames, 'sub_agg')\n",
    "f_user = pd.merge(f_user, f_u_temp, on=['user_id'])\n",
    "\n",
    "print('------Done------')"
   ]
  },
  {
   "cell_type": "code",
   "execution_count": 98,
   "metadata": {},
   "outputs": [
    {
     "data": {
      "text/html": [
       "<div>\n",
       "<style scoped>\n",
       "    .dataframe tbody tr th:only-of-type {\n",
       "        vertical-align: middle;\n",
       "    }\n",
       "\n",
       "    .dataframe tbody tr th {\n",
       "        vertical-align: top;\n",
       "    }\n",
       "\n",
       "    .dataframe thead th {\n",
       "        text-align: right;\n",
       "    }\n",
       "</style>\n",
       "<table border=\"1\" class=\"dataframe\">\n",
       "  <thead>\n",
       "    <tr style=\"text-align: right;\">\n",
       "      <th></th>\n",
       "      <th>user_id</th>\n",
       "      <th>f_u_action</th>\n",
       "      <th>f_u_merchant</th>\n",
       "      <th>f_u_item</th>\n",
       "      <th>f_u_cat</th>\n",
       "      <th>f_u_brand</th>\n",
       "    </tr>\n",
       "  </thead>\n",
       "  <tbody>\n",
       "    <tr>\n",
       "      <td>0</td>\n",
       "      <td>376517</td>\n",
       "      <td>79</td>\n",
       "      <td>20</td>\n",
       "      <td>39</td>\n",
       "      <td>17</td>\n",
       "      <td>20</td>\n",
       "    </tr>\n",
       "    <tr>\n",
       "      <td>1</td>\n",
       "      <td>234512</td>\n",
       "      <td>56</td>\n",
       "      <td>21</td>\n",
       "      <td>29</td>\n",
       "      <td>18</td>\n",
       "      <td>20</td>\n",
       "    </tr>\n",
       "    <tr>\n",
       "      <td>2</td>\n",
       "      <td>344532</td>\n",
       "      <td>91</td>\n",
       "      <td>20</td>\n",
       "      <td>54</td>\n",
       "      <td>25</td>\n",
       "      <td>21</td>\n",
       "    </tr>\n",
       "    <tr>\n",
       "      <td>3</td>\n",
       "      <td>186135</td>\n",
       "      <td>200</td>\n",
       "      <td>11</td>\n",
       "      <td>21</td>\n",
       "      <td>11</td>\n",
       "      <td>10</td>\n",
       "    </tr>\n",
       "    <tr>\n",
       "      <td>4</td>\n",
       "      <td>30230</td>\n",
       "      <td>32</td>\n",
       "      <td>14</td>\n",
       "      <td>24</td>\n",
       "      <td>13</td>\n",
       "      <td>14</td>\n",
       "    </tr>\n",
       "    <tr>\n",
       "      <td>...</td>\n",
       "      <td>...</td>\n",
       "      <td>...</td>\n",
       "      <td>...</td>\n",
       "      <td>...</td>\n",
       "      <td>...</td>\n",
       "      <td>...</td>\n",
       "    </tr>\n",
       "    <tr>\n",
       "      <td>417729</td>\n",
       "      <td>297789</td>\n",
       "      <td>18</td>\n",
       "      <td>1</td>\n",
       "      <td>1</td>\n",
       "      <td>1</td>\n",
       "      <td>1</td>\n",
       "    </tr>\n",
       "    <tr>\n",
       "      <td>417730</td>\n",
       "      <td>395814</td>\n",
       "      <td>65</td>\n",
       "      <td>20</td>\n",
       "      <td>40</td>\n",
       "      <td>6</td>\n",
       "      <td>20</td>\n",
       "    </tr>\n",
       "    <tr>\n",
       "      <td>417731</td>\n",
       "      <td>245950</td>\n",
       "      <td>33</td>\n",
       "      <td>5</td>\n",
       "      <td>14</td>\n",
       "      <td>11</td>\n",
       "      <td>6</td>\n",
       "    </tr>\n",
       "    <tr>\n",
       "      <td>417732</td>\n",
       "      <td>272535</td>\n",
       "      <td>38</td>\n",
       "      <td>13</td>\n",
       "      <td>16</td>\n",
       "      <td>7</td>\n",
       "      <td>13</td>\n",
       "    </tr>\n",
       "    <tr>\n",
       "      <td>417733</td>\n",
       "      <td>18031</td>\n",
       "      <td>19</td>\n",
       "      <td>1</td>\n",
       "      <td>4</td>\n",
       "      <td>2</td>\n",
       "      <td>2</td>\n",
       "    </tr>\n",
       "  </tbody>\n",
       "</table>\n",
       "<p>417734 rows × 6 columns</p>\n",
       "</div>"
      ],
      "text/plain": [
       "        user_id  f_u_action  f_u_merchant  f_u_item  f_u_cat  f_u_brand\n",
       "0        376517          79            20        39       17         20\n",
       "1        234512          56            21        29       18         20\n",
       "2        344532          91            20        54       25         21\n",
       "3        186135         200            11        21       11         10\n",
       "4         30230          32            14        24       13         14\n",
       "...         ...         ...           ...       ...      ...        ...\n",
       "417729   297789          18             1         1        1          1\n",
       "417730   395814          65            20        40        6         20\n",
       "417731   245950          33             5        14       11          6\n",
       "417732   272535          38            13        16        7         13\n",
       "417733    18031          19             1         4        2          2\n",
       "\n",
       "[417734 rows x 6 columns]"
      ]
     },
     "execution_count": 98,
     "metadata": {},
     "output_type": "execute_result"
    }
   ],
   "source": [
    "f_user"
   ]
  },
  {
   "cell_type": "code",
   "execution_count": 113,
   "metadata": {},
   "outputs": [
    {
     "ename": "SyntaxError",
     "evalue": "invalid syntax (<ipython-input-113-ae3cb7f5fb17>, line 1)",
     "output_type": "error",
     "traceback": [
      "\u001b[0;36m  File \u001b[0;32m\"<ipython-input-113-ae3cb7f5fb17>\"\u001b[0;36m, line \u001b[0;32m1\u001b[0m\n\u001b[0;31m    Normolization!!!! Meow\u001b[0m\n\u001b[0m                 ^\u001b[0m\n\u001b[0;31mSyntaxError\u001b[0m\u001b[0;31m:\u001b[0m invalid syntax\n"
     ]
    }
   ],
   "source": [
    "Normolization!!!! Meow"
   ]
  },
  {
   "cell_type": "markdown",
   "metadata": {},
   "source": [
    "### For Merchant\n",
    "商铺下所有交互总次数  \n",
    "商铺下交互的总用户数  \n",
    "商铺下有多少被交互的商品，商品类别和商品品牌数量  \n",
    "商铺每个月有多少用户交互  \n",
    "商铺下交互的用户按年龄段和性别分别统计  \n",
    "商铺在各个年龄段和性别组合的交互用户中交互的商品、商品类别和商品品牌总数  \n",
    "商铺在各个年龄段和性别组合的购买用户中购买的商品、商品类别和商品品牌总数"
   ]
  },
  {
   "cell_type": "code",
   "execution_count": 105,
   "metadata": {},
   "outputs": [],
   "source": [
    "f_merchant = pd.DataFrame(train['merchant_id']).drop_duplicates()"
   ]
  },
  {
   "cell_type": "code",
   "execution_count": 110,
   "metadata": {},
   "outputs": [
    {
     "name": "stdout",
     "output_type": "stream",
     "text": [
      "------Start------\n",
      "------Done------\n"
     ]
    }
   ],
   "source": [
    "print('------Start------')\n",
    "\n",
    "f_m_temp = feature_extract(user_log,['merchant_id','action_type'],['merchant_id'],None,{'action_type':'f_m_action'},'cnt')\n",
    "f_merchant = pd.merge(f_merchant, f_m_temp, on=['merchant_id'])\n",
    "\n",
    "aggs = {'user_id':lambda x: len(set(x)), \n",
    "        'item_id':lambda x: len(set(x)),\n",
    "        'cat_id':lambda x: len(set(x)),\n",
    "        'brand_id':lambda x: len(set(x))}\n",
    "rnames = {'user_id':'f_m_user','item_id':'f_m_item','cat_id':'f_m_cat','brand_id':'f_m_brand'}\n",
    "f_m_temp = feature_extract(user_log, None, ['merchant_id'], aggs, rnames, 'sub_agg')\n",
    "f_merchant = pd.merge(f_merchant, f_m_temp, on=['merchant_id'])\n",
    "\n",
    "print('------Done------')"
   ]
  },
  {
   "cell_type": "code",
   "execution_count": 111,
   "metadata": {},
   "outputs": [
    {
     "data": {
      "text/html": [
       "<div>\n",
       "<style scoped>\n",
       "    .dataframe tbody tr th:only-of-type {\n",
       "        vertical-align: middle;\n",
       "    }\n",
       "\n",
       "    .dataframe tbody tr th {\n",
       "        vertical-align: top;\n",
       "    }\n",
       "\n",
       "    .dataframe thead th {\n",
       "        text-align: right;\n",
       "    }\n",
       "</style>\n",
       "<table border=\"1\" class=\"dataframe\">\n",
       "  <thead>\n",
       "    <tr style=\"text-align: right;\">\n",
       "      <th></th>\n",
       "      <th>merchant_id</th>\n",
       "      <th>f_m_action_x</th>\n",
       "      <th>f_m_action_y</th>\n",
       "      <th>f_m_user</th>\n",
       "      <th>f_m_item</th>\n",
       "      <th>f_m_cat</th>\n",
       "      <th>f_m_brand</th>\n",
       "    </tr>\n",
       "  </thead>\n",
       "  <tbody>\n",
       "    <tr>\n",
       "      <td>0</td>\n",
       "      <td>3906</td>\n",
       "      <td>16269</td>\n",
       "      <td>16269</td>\n",
       "      <td>5819</td>\n",
       "      <td>308</td>\n",
       "      <td>20</td>\n",
       "      <td>2</td>\n",
       "    </tr>\n",
       "    <tr>\n",
       "      <td>1</td>\n",
       "      <td>121</td>\n",
       "      <td>79865</td>\n",
       "      <td>79865</td>\n",
       "      <td>10931</td>\n",
       "      <td>1179</td>\n",
       "      <td>26</td>\n",
       "      <td>2</td>\n",
       "    </tr>\n",
       "    <tr>\n",
       "      <td>2</td>\n",
       "      <td>4356</td>\n",
       "      <td>7269</td>\n",
       "      <td>7269</td>\n",
       "      <td>2281</td>\n",
       "      <td>67</td>\n",
       "      <td>15</td>\n",
       "      <td>2</td>\n",
       "    </tr>\n",
       "    <tr>\n",
       "      <td>3</td>\n",
       "      <td>2217</td>\n",
       "      <td>60202</td>\n",
       "      <td>60202</td>\n",
       "      <td>16870</td>\n",
       "      <td>377</td>\n",
       "      <td>5</td>\n",
       "      <td>2</td>\n",
       "    </tr>\n",
       "    <tr>\n",
       "      <td>4</td>\n",
       "      <td>4818</td>\n",
       "      <td>48089</td>\n",
       "      <td>48089</td>\n",
       "      <td>7500</td>\n",
       "      <td>461</td>\n",
       "      <td>27</td>\n",
       "      <td>2</td>\n",
       "    </tr>\n",
       "    <tr>\n",
       "      <td>...</td>\n",
       "      <td>...</td>\n",
       "      <td>...</td>\n",
       "      <td>...</td>\n",
       "      <td>...</td>\n",
       "      <td>...</td>\n",
       "      <td>...</td>\n",
       "      <td>...</td>\n",
       "    </tr>\n",
       "    <tr>\n",
       "      <td>1988</td>\n",
       "      <td>3389</td>\n",
       "      <td>6691</td>\n",
       "      <td>6691</td>\n",
       "      <td>3436</td>\n",
       "      <td>154</td>\n",
       "      <td>16</td>\n",
       "      <td>2</td>\n",
       "    </tr>\n",
       "    <tr>\n",
       "      <td>1989</td>\n",
       "      <td>4986</td>\n",
       "      <td>2995</td>\n",
       "      <td>2995</td>\n",
       "      <td>1454</td>\n",
       "      <td>360</td>\n",
       "      <td>17</td>\n",
       "      <td>3</td>\n",
       "    </tr>\n",
       "    <tr>\n",
       "      <td>1990</td>\n",
       "      <td>681</td>\n",
       "      <td>234</td>\n",
       "      <td>234</td>\n",
       "      <td>65</td>\n",
       "      <td>68</td>\n",
       "      <td>12</td>\n",
       "      <td>2</td>\n",
       "    </tr>\n",
       "    <tr>\n",
       "      <td>1991</td>\n",
       "      <td>3966</td>\n",
       "      <td>822</td>\n",
       "      <td>822</td>\n",
       "      <td>378</td>\n",
       "      <td>52</td>\n",
       "      <td>10</td>\n",
       "      <td>7</td>\n",
       "    </tr>\n",
       "    <tr>\n",
       "      <td>1992</td>\n",
       "      <td>2350</td>\n",
       "      <td>887</td>\n",
       "      <td>887</td>\n",
       "      <td>478</td>\n",
       "      <td>107</td>\n",
       "      <td>7</td>\n",
       "      <td>1</td>\n",
       "    </tr>\n",
       "  </tbody>\n",
       "</table>\n",
       "<p>1993 rows × 7 columns</p>\n",
       "</div>"
      ],
      "text/plain": [
       "      merchant_id  f_m_action_x  f_m_action_y  f_m_user  f_m_item  f_m_cat  \\\n",
       "0            3906         16269         16269      5819       308       20   \n",
       "1             121         79865         79865     10931      1179       26   \n",
       "2            4356          7269          7269      2281        67       15   \n",
       "3            2217         60202         60202     16870       377        5   \n",
       "4            4818         48089         48089      7500       461       27   \n",
       "...           ...           ...           ...       ...       ...      ...   \n",
       "1988         3389          6691          6691      3436       154       16   \n",
       "1989         4986          2995          2995      1454       360       17   \n",
       "1990          681           234           234        65        68       12   \n",
       "1991         3966           822           822       378        52       10   \n",
       "1992         2350           887           887       478       107        7   \n",
       "\n",
       "      f_m_brand  \n",
       "0             2  \n",
       "1             2  \n",
       "2             2  \n",
       "3             2  \n",
       "4             2  \n",
       "...         ...  \n",
       "1988          2  \n",
       "1989          3  \n",
       "1990          2  \n",
       "1991          7  \n",
       "1992          1  \n",
       "\n",
       "[1993 rows x 7 columns]"
      ]
     },
     "execution_count": 111,
     "metadata": {},
     "output_type": "execute_result"
    }
   ],
   "source": [
    "f_merchant"
   ]
  },
  {
   "cell_type": "code",
   "execution_count": 112,
   "metadata": {},
   "outputs": [
    {
     "ename": "SyntaxError",
     "evalue": "invalid syntax (<ipython-input-112-b12d6daed545>, line 1)",
     "output_type": "error",
     "traceback": [
      "\u001b[0;36m  File \u001b[0;32m\"<ipython-input-112-b12d6daed545>\"\u001b[0;36m, line \u001b[0;32m1\u001b[0m\n\u001b[0;31m    Normolization!!!! Meow\u001b[0m\n\u001b[0m                 ^\u001b[0m\n\u001b[0;31mSyntaxError\u001b[0m\u001b[0;31m:\u001b[0m invalid syntax\n"
     ]
    }
   ],
   "source": [
    "Normolization!!!! Meow "
   ]
  },
  {
   "cell_type": "markdown",
   "metadata": {},
   "source": [
    "### For User-Merchant\n",
    "\n",
    "用户在某商铺中交互的次数  \n",
    "用户在某商铺中各种行为次数（点击、加购、收藏和购买）  \n",
    "用户在商铺中每月的交互次数  \n",
    "用户在商铺中每月的各种行为次数（点击、加购、收藏和购买）  \n",
    "用户在商铺中第一次和最后一次交互的时间差  \n",
    "用户在商铺中交互有几个月  \n",
    "用户在商铺中交互有多少天  \n",
    "用户在商铺中有交互的月份每个月交互次数的统计  \n",
    "用户在商铺中交互的商品、商品类别和商品品牌的总个数，以及与之交互总次数的均值、最值  \n"
   ]
  },
  {
   "cell_type": "code",
   "execution_count": null,
   "metadata": {},
   "outputs": [],
   "source": []
  }
 ],
 "metadata": {
  "kernelspec": {
   "display_name": "Python 3",
   "language": "python",
   "name": "python3"
  },
  "language_info": {
   "codemirror_mode": {
    "name": "ipython",
    "version": 3
   },
   "file_extension": ".py",
   "mimetype": "text/x-python",
   "name": "python",
   "nbconvert_exporter": "python",
   "pygments_lexer": "ipython3",
   "version": "3.7.2"
  }
 },
 "nbformat": 4,
 "nbformat_minor": 2
}
