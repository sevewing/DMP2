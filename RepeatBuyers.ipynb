{
 "cells": [
  {
   "cell_type": "code",
   "execution_count": 46,
   "metadata": {},
   "outputs": [],
   "source": [
    "import pandas as pd\n",
    "import numpy as np\n",
    "import matplotlib.pyplot as plt\n",
    "from sklearn.cluster import KMeans\n",
    "from sklearn.decomposition import PCA  # Correlation-Based Clustering Methods\n",
    "from datetime import datetime"
   ]
  },
  {
   "cell_type": "markdown",
   "metadata": {},
   "source": [
    "# Load dataset"
   ]
  },
  {
   "cell_type": "code",
   "execution_count": 47,
   "metadata": {
    "scrolled": true
   },
   "outputs": [
    {
     "name": "stdout",
     "output_type": "stream",
     "text": [
      "Loading\n",
      "Load success\n"
     ]
    }
   ],
   "source": [
    "print(\"Loading\")\n",
    "train = pd.read_csv('data/data_format1/train_format1.csv').drop_duplicates()\n",
    "test = pd.read_csv('data/data_format1/test_format1.csv').drop_duplicates()\n",
    "user_info = pd.read_csv('data/data_format1/user_info_format1.csv').drop_duplicates()\n",
    "user_log = pd.read_csv('data/data_format1/user_log_format1.csv')\n",
    "print(\"Load success\")"
   ]
  },
  {
   "cell_type": "markdown",
   "metadata": {},
   "source": [
    "<b>1. Train data</b>\n",
    "<ul>\n",
    "<li>user_id</li>\n",
    "<li>merchant_id</li>\n",
    "<li>label: '1' denotes 'user_id' is a repeat buyer for 'merchant_id', while '0' is the opposite. </li>\n",
    "</ul>"
   ]
  },
  {
   "cell_type": "code",
   "execution_count": 3,
   "metadata": {
    "scrolled": true
   },
   "outputs": [
    {
     "data": {
      "text/html": [
       "<div>\n",
       "<style scoped>\n",
       "    .dataframe tbody tr th:only-of-type {\n",
       "        vertical-align: middle;\n",
       "    }\n",
       "\n",
       "    .dataframe tbody tr th {\n",
       "        vertical-align: top;\n",
       "    }\n",
       "\n",
       "    .dataframe thead th {\n",
       "        text-align: right;\n",
       "    }\n",
       "</style>\n",
       "<table border=\"1\" class=\"dataframe\">\n",
       "  <thead>\n",
       "    <tr style=\"text-align: right;\">\n",
       "      <th></th>\n",
       "      <th>user_id</th>\n",
       "      <th>merchant_id</th>\n",
       "      <th>label</th>\n",
       "    </tr>\n",
       "  </thead>\n",
       "  <tbody>\n",
       "    <tr>\n",
       "      <td>0</td>\n",
       "      <td>34176</td>\n",
       "      <td>3906</td>\n",
       "      <td>0</td>\n",
       "    </tr>\n",
       "    <tr>\n",
       "      <td>1</td>\n",
       "      <td>34176</td>\n",
       "      <td>121</td>\n",
       "      <td>0</td>\n",
       "    </tr>\n",
       "    <tr>\n",
       "      <td>2</td>\n",
       "      <td>34176</td>\n",
       "      <td>4356</td>\n",
       "      <td>1</td>\n",
       "    </tr>\n",
       "  </tbody>\n",
       "</table>\n",
       "</div>"
      ],
      "text/plain": [
       "   user_id  merchant_id  label\n",
       "0    34176         3906      0\n",
       "1    34176          121      0\n",
       "2    34176         4356      1"
      ]
     },
     "execution_count": 3,
     "metadata": {},
     "output_type": "execute_result"
    }
   ],
   "source": [
    "train.head(3)"
   ]
  },
  {
   "cell_type": "markdown",
   "metadata": {},
   "source": [
    "<b>2. Teat data</b>\n",
    "<ul>\n",
    "<li>user_id</li>\n",
    "<li>merchant_id</li>\n",
    "<li>prob: probability </li>\n",
    "</ul>"
   ]
  },
  {
   "cell_type": "code",
   "execution_count": 4,
   "metadata": {
    "scrolled": true
   },
   "outputs": [
    {
     "data": {
      "text/html": [
       "<div>\n",
       "<style scoped>\n",
       "    .dataframe tbody tr th:only-of-type {\n",
       "        vertical-align: middle;\n",
       "    }\n",
       "\n",
       "    .dataframe tbody tr th {\n",
       "        vertical-align: top;\n",
       "    }\n",
       "\n",
       "    .dataframe thead th {\n",
       "        text-align: right;\n",
       "    }\n",
       "</style>\n",
       "<table border=\"1\" class=\"dataframe\">\n",
       "  <thead>\n",
       "    <tr style=\"text-align: right;\">\n",
       "      <th></th>\n",
       "      <th>user_id</th>\n",
       "      <th>merchant_id</th>\n",
       "      <th>prob</th>\n",
       "    </tr>\n",
       "  </thead>\n",
       "  <tbody>\n",
       "    <tr>\n",
       "      <td>0</td>\n",
       "      <td>163968</td>\n",
       "      <td>4605</td>\n",
       "      <td>NaN</td>\n",
       "    </tr>\n",
       "    <tr>\n",
       "      <td>1</td>\n",
       "      <td>360576</td>\n",
       "      <td>1581</td>\n",
       "      <td>NaN</td>\n",
       "    </tr>\n",
       "    <tr>\n",
       "      <td>2</td>\n",
       "      <td>98688</td>\n",
       "      <td>1964</td>\n",
       "      <td>NaN</td>\n",
       "    </tr>\n",
       "  </tbody>\n",
       "</table>\n",
       "</div>"
      ],
      "text/plain": [
       "   user_id  merchant_id  prob\n",
       "0   163968         4605   NaN\n",
       "1   360576         1581   NaN\n",
       "2    98688         1964   NaN"
      ]
     },
     "execution_count": 4,
     "metadata": {},
     "output_type": "execute_result"
    }
   ],
   "source": [
    "test.head(3)"
   ]
  },
  {
   "cell_type": "markdown",
   "metadata": {},
   "source": [
    "<b>3. User information data</b>\n",
    "<ul>\n",
    "<li>user_id</li>\n",
    "<li>age_range: 1 for [,18];\n",
    "            2 for [18,24];  \n",
    "            3 for [25,29];  \n",
    "            4 for [30,34]; \n",
    "            5 for [35,39]; \n",
    "            6 for [40,49]; \n",
    "            7 and 8 for >= [50,];\n",
    "0 and NULL for unknown.</li>\n",
    "<li>gender:  0 for female, 1 for male, 2 and NULL for unknown.</li>\n",
    "</ul>"
   ]
  },
  {
   "cell_type": "code",
   "execution_count": 5,
   "metadata": {},
   "outputs": [
    {
     "data": {
      "text/html": [
       "<div>\n",
       "<style scoped>\n",
       "    .dataframe tbody tr th:only-of-type {\n",
       "        vertical-align: middle;\n",
       "    }\n",
       "\n",
       "    .dataframe tbody tr th {\n",
       "        vertical-align: top;\n",
       "    }\n",
       "\n",
       "    .dataframe thead th {\n",
       "        text-align: right;\n",
       "    }\n",
       "</style>\n",
       "<table border=\"1\" class=\"dataframe\">\n",
       "  <thead>\n",
       "    <tr style=\"text-align: right;\">\n",
       "      <th></th>\n",
       "      <th>user_id</th>\n",
       "      <th>age_range</th>\n",
       "      <th>gender</th>\n",
       "    </tr>\n",
       "  </thead>\n",
       "  <tbody>\n",
       "    <tr>\n",
       "      <td>0</td>\n",
       "      <td>376517</td>\n",
       "      <td>6.0</td>\n",
       "      <td>1.0</td>\n",
       "    </tr>\n",
       "    <tr>\n",
       "      <td>1</td>\n",
       "      <td>234512</td>\n",
       "      <td>5.0</td>\n",
       "      <td>0.0</td>\n",
       "    </tr>\n",
       "    <tr>\n",
       "      <td>2</td>\n",
       "      <td>344532</td>\n",
       "      <td>5.0</td>\n",
       "      <td>0.0</td>\n",
       "    </tr>\n",
       "  </tbody>\n",
       "</table>\n",
       "</div>"
      ],
      "text/plain": [
       "   user_id  age_range  gender\n",
       "0   376517        6.0     1.0\n",
       "1   234512        5.0     0.0\n",
       "2   344532        5.0     0.0"
      ]
     },
     "execution_count": 5,
     "metadata": {},
     "output_type": "execute_result"
    }
   ],
   "source": [
    "user_info.head(3)"
   ]
  },
  {
   "cell_type": "markdown",
   "metadata": {},
   "source": [
    "<b>4. User Log data</b>\n",
    "<ul>\n",
    "<li>user_id</li>\n",
    "<li>item_id: goods</li>\n",
    "<li>cat_id: category</li>\n",
    "<li>seller_id: merchant_id</li>\n",
    "<li>brand_id</li>\n",
    "<li>time_stamp: mmdd</li>\n",
    "<li>action_type: 0 is for click, 1 is for add-to-cart, 2 is for purchase and 3 is for add-to-favourite</li>\n",
    "</ul>"
   ]
  },
  {
   "cell_type": "code",
   "execution_count": 6,
   "metadata": {},
   "outputs": [
    {
     "data": {
      "text/html": [
       "<div>\n",
       "<style scoped>\n",
       "    .dataframe tbody tr th:only-of-type {\n",
       "        vertical-align: middle;\n",
       "    }\n",
       "\n",
       "    .dataframe tbody tr th {\n",
       "        vertical-align: top;\n",
       "    }\n",
       "\n",
       "    .dataframe thead th {\n",
       "        text-align: right;\n",
       "    }\n",
       "</style>\n",
       "<table border=\"1\" class=\"dataframe\">\n",
       "  <thead>\n",
       "    <tr style=\"text-align: right;\">\n",
       "      <th></th>\n",
       "      <th>user_id</th>\n",
       "      <th>item_id</th>\n",
       "      <th>cat_id</th>\n",
       "      <th>seller_id</th>\n",
       "      <th>brand_id</th>\n",
       "      <th>time_stamp</th>\n",
       "      <th>action_type</th>\n",
       "    </tr>\n",
       "  </thead>\n",
       "  <tbody>\n",
       "    <tr>\n",
       "      <td>0</td>\n",
       "      <td>328862</td>\n",
       "      <td>323294</td>\n",
       "      <td>833</td>\n",
       "      <td>2882</td>\n",
       "      <td>2661.0</td>\n",
       "      <td>829</td>\n",
       "      <td>0</td>\n",
       "    </tr>\n",
       "    <tr>\n",
       "      <td>1</td>\n",
       "      <td>328862</td>\n",
       "      <td>844400</td>\n",
       "      <td>1271</td>\n",
       "      <td>2882</td>\n",
       "      <td>2661.0</td>\n",
       "      <td>829</td>\n",
       "      <td>0</td>\n",
       "    </tr>\n",
       "    <tr>\n",
       "      <td>2</td>\n",
       "      <td>328862</td>\n",
       "      <td>575153</td>\n",
       "      <td>1271</td>\n",
       "      <td>2882</td>\n",
       "      <td>2661.0</td>\n",
       "      <td>829</td>\n",
       "      <td>0</td>\n",
       "    </tr>\n",
       "  </tbody>\n",
       "</table>\n",
       "</div>"
      ],
      "text/plain": [
       "   user_id  item_id  cat_id  seller_id  brand_id  time_stamp  action_type\n",
       "0   328862   323294     833       2882    2661.0         829            0\n",
       "1   328862   844400    1271       2882    2661.0         829            0\n",
       "2   328862   575153    1271       2882    2661.0         829            0"
      ]
     },
     "execution_count": 6,
     "metadata": {},
     "output_type": "execute_result"
    }
   ],
   "source": [
    "user_log.head(3)"
   ]
  },
  {
   "cell_type": "markdown",
   "metadata": {},
   "source": [
    "# Data Cleaning\n",
    "## A. Drop all nan and rename\n",
    "1. Drop nan  \n",
    "2. Rename seller_id to merchant_id  \n",
    "In user_log, \"seller_id\" should be called as \"merchant_id\".  \n",
    "It is a mistake by data provider.  \n",
    "3. Divide time_stamp into mm,dd two columns"
   ]
  },
  {
   "cell_type": "code",
   "execution_count": 48,
   "metadata": {},
   "outputs": [],
   "source": [
    "user_info.dropna(axis=0,how='all',inplace = True)\n",
    "user_log.dropna(axis=0,how='all',inplace = True)"
   ]
  },
  {
   "cell_type": "code",
   "execution_count": 49,
   "metadata": {},
   "outputs": [],
   "source": [
    "user_log.rename(columns={'seller_id':'merchant_id'}, inplace=True)"
   ]
  },
  {
   "cell_type": "code",
   "execution_count": 50,
   "metadata": {},
   "outputs": [],
   "source": [
    "user_log['time_mm'] = user_log['time_stamp'] // 100\n",
    "user_log['time_dd'] = user_log['time_stamp'] % 100"
   ]
  },
  {
   "cell_type": "markdown",
   "metadata": {},
   "source": [
    "## B. Deal with missing value\n",
    "### Find out missing colunms"
   ]
  },
  {
   "cell_type": "code",
   "execution_count": 51,
   "metadata": {},
   "outputs": [],
   "source": [
    "def num_missing(x):\n",
    "  return sum(x.isnull())"
   ]
  },
  {
   "cell_type": "code",
   "execution_count": 10,
   "metadata": {},
   "outputs": [
    {
     "name": "stdout",
     "output_type": "stream",
     "text": [
      "Missing values per column:\n",
      "Train data missing: \n",
      " user_id        0\n",
      "merchant_id    0\n",
      "label          0\n",
      "dtype: int64 \n",
      "\n",
      "User_info data missing: \n",
      " user_id         0\n",
      "age_range    2217\n",
      "gender       6436\n",
      "dtype: int64 \n",
      "\n",
      "User_log data missing: \n",
      " user_id            0\n",
      "item_id            0\n",
      "cat_id             0\n",
      "merchant_id        0\n",
      "brand_id       91015\n",
      "time_stamp         0\n",
      "action_type        0\n",
      "dtype: int64\n"
     ]
    }
   ],
   "source": [
    "print(\"Missing values per column:\")\n",
    "print(\"Train data missing: \\n\", train.apply(num_missing, axis=0),'\\n')\n",
    "print(\"User_info data missing: \\n\", user_info.apply(num_missing, axis=0),'\\n')\n",
    "print(\"User_log data missing: \\n\", user_log.apply(num_missing, axis=0))"
   ]
  },
  {
   "cell_type": "markdown",
   "metadata": {},
   "source": [
    "### For User_info data\n",
    "1. Observation of \"age_range\" and \"gender\" in histogram."
   ]
  },
  {
   "cell_type": "code",
   "execution_count": 11,
   "metadata": {},
   "outputs": [
    {
     "data": {
      "text/plain": [
       "<matplotlib.axes._subplots.AxesSubplot at 0x10fc67be0>"
      ]
     },
     "execution_count": 11,
     "metadata": {},
     "output_type": "execute_result"
    },
    {
     "data": {
      "image/png": "[encoded data removed]",
      "text/plain": [
       "<Figure size 1080x432 with 2 Axes>"
      ]
     },
     "metadata": {
      "needs_background": "light"
     },
     "output_type": "display_data"
    }
   ],
   "source": [
    "fig, axes = plt.subplots(nrows=1, ncols=2,figsize=(15, 6), sharey=False)\n",
    "user_info['gender'].plot.hist(ax=axes[0],bins=3,edgecolor='black', title=\"Gender\")\n",
    "user_info['age_range'].plot.hist(ax=axes[1],bins=7,edgecolor='black', title=\"Age Range\")"
   ]
  },
  {
   "cell_type": "markdown",
   "metadata": {},
   "source": [
    "2. Drop empty \"gender\" and \"age_range\" data"
   ]
  },
  {
   "cell_type": "code",
   "execution_count": 52,
   "metadata": {},
   "outputs": [],
   "source": [
    "# fillna by by previous value\n",
    "# user_info.fillna(method='ffill',inplace=True)\n",
    "# dropna\n",
    "user_info['age_range'] = user_info['age_range'].fillna(value=0)\n",
    "user_info.dropna(subset=['gender'],inplace=True)"
   ]
  },
  {
   "cell_type": "markdown",
   "metadata": {},
   "source": [
    "3. Check result.  "
   ]
  },
  {
   "cell_type": "code",
   "execution_count": 11,
   "metadata": {},
   "outputs": [
    {
     "name": "stdout",
     "output_type": "stream",
     "text": [
      "User_info data missing: \n",
      " user_id      0\n",
      "age_range    0\n",
      "gender       0\n",
      "dtype: int64 \n",
      "\n"
     ]
    }
   ],
   "source": [
    "print(\"User_info data missing: \\n\", user_info.apply(num_missing, axis=0),'\\n')"
   ]
  },
  {
   "cell_type": "code",
   "execution_count": 14,
   "metadata": {
    "scrolled": false
   },
   "outputs": [
    {
     "data": {
      "text/plain": [
       "<matplotlib.axes._subplots.AxesSubplot at 0x1108da828>"
      ]
     },
     "execution_count": 14,
     "metadata": {},
     "output_type": "execute_result"
    },
    {
     "data": {
      "image/png": "[encoded data removed]",
      "text/plain": [
       "<Figure size 1008x360 with 2 Axes>"
      ]
     },
     "metadata": {
      "needs_background": "light"
     },
     "output_type": "display_data"
    }
   ],
   "source": [
    "fig, axes = plt.subplots(nrows=1, ncols=2,figsize=(14, 5), sharey=False)\n",
    "user_info['gender'].plot.hist(ax=axes[0],bins=3,edgecolor='black', title=\"Gender\")\n",
    "user_info['age_range'].plot.hist(ax=axes[1],bins=7,edgecolor='black', title=\"Age Range\")"
   ]
  },
  {
   "cell_type": "markdown",
   "metadata": {},
   "source": [
    "### For User_log data\n",
    "1. Principle: One brand contains multi items, but one item only belongs to one brand."
   ]
  },
  {
   "cell_type": "code",
   "execution_count": 15,
   "metadata": {},
   "outputs": [
    {
     "data": {
      "text/html": [
       "<div>\n",
       "<style scoped>\n",
       "    .dataframe tbody tr th:only-of-type {\n",
       "        vertical-align: middle;\n",
       "    }\n",
       "\n",
       "    .dataframe tbody tr th {\n",
       "        vertical-align: top;\n",
       "    }\n",
       "\n",
       "    .dataframe thead th {\n",
       "        text-align: right;\n",
       "    }\n",
       "</style>\n",
       "<table border=\"1\" class=\"dataframe\">\n",
       "  <thead>\n",
       "    <tr style=\"text-align: right;\">\n",
       "      <th></th>\n",
       "      <th>item_id</th>\n",
       "      <th>brand_id</th>\n",
       "    </tr>\n",
       "  </thead>\n",
       "  <tbody>\n",
       "    <tr>\n",
       "      <td>10</td>\n",
       "      <td>239288</td>\n",
       "      <td>4953.0</td>\n",
       "    </tr>\n",
       "    <tr>\n",
       "      <td>40817</td>\n",
       "      <td>239288</td>\n",
       "      <td>4953.0</td>\n",
       "    </tr>\n",
       "    <tr>\n",
       "      <td>55038</td>\n",
       "      <td>239288</td>\n",
       "      <td>4953.0</td>\n",
       "    </tr>\n",
       "  </tbody>\n",
       "</table>\n",
       "</div>"
      ],
      "text/plain": [
       "       item_id  brand_id\n",
       "10      239288    4953.0\n",
       "40817   239288    4953.0\n",
       "55038   239288    4953.0"
      ]
     },
     "execution_count": 15,
     "metadata": {},
     "output_type": "execute_result"
    }
   ],
   "source": [
    "# Test relationship/principle\n",
    "user_log[['item_id','brand_id']][user_log['item_id']==239288].head(3)"
   ]
  },
  {
   "cell_type": "code",
   "execution_count": 16,
   "metadata": {},
   "outputs": [
    {
     "data": {
      "text/html": [
       "<div>\n",
       "<style scoped>\n",
       "    .dataframe tbody tr th:only-of-type {\n",
       "        vertical-align: middle;\n",
       "    }\n",
       "\n",
       "    .dataframe tbody tr th {\n",
       "        vertical-align: top;\n",
       "    }\n",
       "\n",
       "    .dataframe thead th {\n",
       "        text-align: right;\n",
       "    }\n",
       "</style>\n",
       "<table border=\"1\" class=\"dataframe\">\n",
       "  <thead>\n",
       "    <tr style=\"text-align: right;\">\n",
       "      <th></th>\n",
       "      <th>item_id</th>\n",
       "      <th>brand_id</th>\n",
       "    </tr>\n",
       "  </thead>\n",
       "  <tbody>\n",
       "    <tr>\n",
       "      <td>32109</td>\n",
       "      <td>157368</td>\n",
       "      <td>NaN</td>\n",
       "    </tr>\n",
       "  </tbody>\n",
       "</table>\n",
       "</div>"
      ],
      "text/plain": [
       "       item_id  brand_id\n",
       "32109   157368       NaN"
      ]
     },
     "execution_count": 16,
     "metadata": {},
     "output_type": "execute_result"
    }
   ],
   "source": [
    "# Also have some items does not have brand_id\n",
    "user_log[['item_id','brand_id']][user_log['item_id']==157368].head()"
   ]
  },
  {
   "cell_type": "markdown",
   "metadata": {},
   "source": [
    "2. Fill missing value  \n",
    "We can see that after fill lots of brand_id, user_log still has missing brand_id.\n",
    "Some items don't have a mapped brand_id."
   ]
  },
  {
   "cell_type": "code",
   "execution_count": 53,
   "metadata": {
    "scrolled": true
   },
   "outputs": [
    {
     "name": "stdout",
     "output_type": "stream",
     "text": [
      "Done\n"
     ]
    }
   ],
   "source": [
    "item_brand_dict = user_log.drop_duplicates(subset=['item_id','brand_id']).set_index('item_id')['brand_id'].to_dict()\n",
    "user_log[user_log['brand_id'].isna()] = user_log[user_log['brand_id'].isna()].apply(lambda x: x.fillna(item_brand_dict[x['item_id']]), axis=1)\n",
    "print(\"Done\")"
   ]
  },
  {
   "cell_type": "markdown",
   "metadata": {},
   "source": [
    "4. Check the result."
   ]
  },
  {
   "cell_type": "code",
   "execution_count": 18,
   "metadata": {},
   "outputs": [
    {
     "name": "stdout",
     "output_type": "stream",
     "text": [
      "In User_log, 'brand_id' still missing: \n",
      " 86604\n"
     ]
    }
   ],
   "source": [
    "print(\"In User_log, 'brand_id' still missing: \\n\", len(user_log[user_log['brand_id'].isna()]))"
   ]
  },
  {
   "cell_type": "markdown",
   "metadata": {},
   "source": [
    "### Change Data Type\n",
    "Save some space/memory"
   ]
  },
  {
   "cell_type": "code",
   "execution_count": 54,
   "metadata": {},
   "outputs": [],
   "source": [
    "user_info[['age_range','gender']] = user_info[['age_range','gender']].astype('Int8')  # int8 : (from -128 to 127)\n",
    "user_log[['user_id','item_id','cat_id']] = user_log[['user_id','item_id','cat_id']].astype('Int64')\n",
    "user_log[['merchant_id','brand_id','time_stamp']] = user_log[['merchant_id','brand_id','time_stamp']].astype('Int16')\n",
    "user_log[['action_type']] = user_log[['action_type']].astype('Int8')"
   ]
  },
  {
   "cell_type": "code",
   "execution_count": 20,
   "metadata": {
    "scrolled": true
   },
   "outputs": [
    {
     "name": "stdout",
     "output_type": "stream",
     "text": [
      "<class 'pandas.core.frame.DataFrame'>\n",
      "Int64Index: 417734 entries, 0 to 424169\n",
      "Data columns (total 3 columns):\n",
      "user_id      417734 non-null int64\n",
      "age_range    417734 non-null Int8\n",
      "gender       417734 non-null Int8\n",
      "dtypes: Int8(2), int64(1)\n",
      "memory usage: 8.0 MB\n"
     ]
    }
   ],
   "source": [
    "user_info.info()"
   ]
  },
  {
   "cell_type": "code",
   "execution_count": 21,
   "metadata": {
    "scrolled": false
   },
   "outputs": [
    {
     "name": "stdout",
     "output_type": "stream",
     "text": [
      "<class 'pandas.core.frame.DataFrame'>\n",
      "Int64Index: 54925330 entries, 0 to 54925329\n",
      "Data columns (total 7 columns):\n",
      "user_id        Int64\n",
      "item_id        Int64\n",
      "cat_id         Int64\n",
      "merchant_id    Int16\n",
      "brand_id       Int16\n",
      "time_stamp     Int16\n",
      "action_type    Int8\n",
      "dtypes: Int16(3), Int64(3), Int8(1)\n",
      "memory usage: 2.4 GB\n"
     ]
    }
   ],
   "source": [
    "user_log.info()"
   ]
  },
  {
   "cell_type": "markdown",
   "metadata": {},
   "source": [
    "# Feature Extraction\n",
    "## A. Method"
   ]
  },
  {
   "cell_type": "code",
   "execution_count": 55,
   "metadata": {},
   "outputs": [],
   "source": [
    "def feature_extract(df:pd.DataFrame, cols, grop, aggs, rname, types):\n",
    "    if types == 'cnt':\n",
    "        return df[cols].groupby(grop, as_index=False).count().rename(columns=rname)\n",
    "    \n",
    "    if types == 'sub_agg':\n",
    "        return df.groupby(grop, as_index=False).agg(aggs).rename(columns=rname)"
   ]
  },
  {
   "cell_type": "code",
   "execution_count": 56,
   "metadata": {},
   "outputs": [],
   "source": [
    "def max_min_normalization(df:pd.DataFrame):\n",
    "    return (df-df.min())/(df.max()-df.min())"
   ]
  },
  {
   "cell_type": "code",
   "execution_count": 57,
   "metadata": {},
   "outputs": [],
   "source": [
    "def time_diff(t):\n",
    "    return (datetime.strptime(str(max(t)), '%m%d') - datetime.strptime(str(min(t)), '%m%d')).days"
   ]
  },
  {
   "cell_type": "markdown",
   "metadata": {},
   "source": [
    "### For User"
   ]
  },
  {
   "cell_type": "code",
   "execution_count": 58,
   "metadata": {},
   "outputs": [],
   "source": [
    "f_user = pd.DataFrame(user_log['user_id']).drop_duplicates()"
   ]
  },
  {
   "cell_type": "markdown",
   "metadata": {},
   "source": [
    "For each user_id:  \n",
    "1. Integrate user_info,  age_range and gender."
   ]
  },
  {
   "cell_type": "code",
   "execution_count": 23,
   "metadata": {},
   "outputs": [
    {
     "data": {
      "text/plain": [
       "<matplotlib.collections.PathCollection at 0x173779b00>"
      ]
     },
     "execution_count": 23,
     "metadata": {},
     "output_type": "execute_result"
    },
    {
     "data": {
      "image/png": "[encoded data removed]",
      "text/plain": [
       "<Figure size 432x288 with 1 Axes>"
      ]
     },
     "metadata": {
      "needs_background": "light"
     },
     "output_type": "display_data"
    }
   ],
   "source": [
    "plt.scatter(user_info['age_range'], user_info['gender'])"
   ]
  },
  {
   "cell_type": "code",
   "execution_count": 59,
   "metadata": {},
   "outputs": [],
   "source": [
    "kmeans = KMeans(init='k-means++', n_clusters=23) # the number of 23 is from the graph above\n",
    "f_u_ag = kmeans.fit_predict(user_info[['age_range','gender']])\n",
    "user_info['f_u_ag'] = f_u_ag\n",
    "f_user = pd.merge(f_user, user_info, on=['user_id'], how='left')\n",
    "# f_user = user_info.drop(columns=['age_range','gender'])\n",
    "user_info.drop(columns=['f_u_ag'], inplace=True)"
   ]
  },
  {
   "cell_type": "markdown",
   "metadata": {},
   "source": [
    "For each user_id:  \n",
    "2. Extract the count of action_types\n",
    "3. Extract the count of merchant_id  \n",
    "4. Extract the count of item_id  \n",
    "5. Extract the count of cat_id(categary)  \n",
    "5. Extract the count of brand_id\n",
    "\n",
    "用户每天交互、购买的次数\n",
    "用户每月交互、购买的次数"
   ]
  },
  {
   "cell_type": "code",
   "execution_count": 60,
   "metadata": {},
   "outputs": [
    {
     "name": "stdout",
     "output_type": "stream",
     "text": [
      "------Start------\n",
      "------Done------\n"
     ]
    }
   ],
   "source": [
    "print('------Start------')\n",
    "\n",
    "f_temp = feature_extract(user_log,['user_id','action_type'],['user_id'],None,{'action_type':'f_u_action'},'cnt')\n",
    "f_user = pd.merge(f_user, f_temp, on=['user_id'])\n",
    "\n",
    "aggs = {'merchant_id':lambda x: len(set(x)), \n",
    "        'item_id':lambda x: len(set(x)),\n",
    "        'cat_id':lambda x: len(set(x)),\n",
    "        'brand_id':lambda x: len(set(x))}\n",
    "rnames = {'merchant_id':'f_u_merchant','item_id':'f_u_item','cat_id':'f_u_cat','brand_id':'f_u_brand'}\n",
    "f_temp = feature_extract(user_log, None, ['user_id'], aggs, rnames, 'sub_agg')\n",
    "f_user = pd.merge(f_user, f_temp, on=['user_id'])\n",
    "\n",
    "print('------Done------')"
   ]
  },
  {
   "cell_type": "code",
   "execution_count": 62,
   "metadata": {},
   "outputs": [
    {
     "data": {
      "text/html": [
       "<div>\n",
       "<style scoped>\n",
       "    .dataframe tbody tr th:only-of-type {\n",
       "        vertical-align: middle;\n",
       "    }\n",
       "\n",
       "    .dataframe tbody tr th {\n",
       "        vertical-align: top;\n",
       "    }\n",
       "\n",
       "    .dataframe thead th {\n",
       "        text-align: right;\n",
       "    }\n",
       "</style>\n",
       "<table border=\"1\" class=\"dataframe\">\n",
       "  <thead>\n",
       "    <tr style=\"text-align: right;\">\n",
       "      <th></th>\n",
       "      <th>user_id</th>\n",
       "      <th>age_range</th>\n",
       "      <th>gender</th>\n",
       "      <th>f_u_ag</th>\n",
       "      <th>f_u_action</th>\n",
       "      <th>f_u_merchant</th>\n",
       "      <th>f_u_item</th>\n",
       "      <th>f_u_cat</th>\n",
       "      <th>f_u_brand</th>\n",
       "    </tr>\n",
       "  </thead>\n",
       "  <tbody>\n",
       "    <tr>\n",
       "      <td>0</td>\n",
       "      <td>328862</td>\n",
       "      <td>6</td>\n",
       "      <td>1</td>\n",
       "      <td>6.0</td>\n",
       "      <td>419</td>\n",
       "      <td>58</td>\n",
       "      <td>293</td>\n",
       "      <td>46</td>\n",
       "      <td>61</td>\n",
       "    </tr>\n",
       "    <tr>\n",
       "      <td>1</td>\n",
       "      <td>234512</td>\n",
       "      <td>5</td>\n",
       "      <td>0</td>\n",
       "      <td>0.0</td>\n",
       "      <td>56</td>\n",
       "      <td>21</td>\n",
       "      <td>29</td>\n",
       "      <td>18</td>\n",
       "      <td>20</td>\n",
       "    </tr>\n",
       "    <tr>\n",
       "      <td>2</td>\n",
       "      <td>356311</td>\n",
       "      <td>5</td>\n",
       "      <td>0</td>\n",
       "      <td>0.0</td>\n",
       "      <td>157</td>\n",
       "      <td>28</td>\n",
       "      <td>96</td>\n",
       "      <td>22</td>\n",
       "      <td>28</td>\n",
       "    </tr>\n",
       "    <tr>\n",
       "      <td>3</td>\n",
       "      <td>272389</td>\n",
       "      <td>6</td>\n",
       "      <td>1</td>\n",
       "      <td>6.0</td>\n",
       "      <td>26</td>\n",
       "      <td>5</td>\n",
       "      <td>23</td>\n",
       "      <td>9</td>\n",
       "      <td>5</td>\n",
       "    </tr>\n",
       "    <tr>\n",
       "      <td>4</td>\n",
       "      <td>139859</td>\n",
       "      <td>7</td>\n",
       "      <td>0</td>\n",
       "      <td>14.0</td>\n",
       "      <td>43</td>\n",
       "      <td>24</td>\n",
       "      <td>30</td>\n",
       "      <td>22</td>\n",
       "      <td>23</td>\n",
       "    </tr>\n",
       "    <tr>\n",
       "      <td>...</td>\n",
       "      <td>...</td>\n",
       "      <td>...</td>\n",
       "      <td>...</td>\n",
       "      <td>...</td>\n",
       "      <td>...</td>\n",
       "      <td>...</td>\n",
       "      <td>...</td>\n",
       "      <td>...</td>\n",
       "      <td>...</td>\n",
       "    </tr>\n",
       "    <tr>\n",
       "      <td>424165</td>\n",
       "      <td>29504</td>\n",
       "      <td>0</td>\n",
       "      <td>1</td>\n",
       "      <td>10.0</td>\n",
       "      <td>22</td>\n",
       "      <td>9</td>\n",
       "      <td>14</td>\n",
       "      <td>7</td>\n",
       "      <td>9</td>\n",
       "    </tr>\n",
       "    <tr>\n",
       "      <td>424166</td>\n",
       "      <td>125763</td>\n",
       "      <td>0</td>\n",
       "      <td>1</td>\n",
       "      <td>10.0</td>\n",
       "      <td>95</td>\n",
       "      <td>4</td>\n",
       "      <td>27</td>\n",
       "      <td>12</td>\n",
       "      <td>3</td>\n",
       "    </tr>\n",
       "    <tr>\n",
       "      <td>424167</td>\n",
       "      <td>128038</td>\n",
       "      <td>2</td>\n",
       "      <td>0</td>\n",
       "      <td>1.0</td>\n",
       "      <td>33</td>\n",
       "      <td>12</td>\n",
       "      <td>16</td>\n",
       "      <td>6</td>\n",
       "      <td>12</td>\n",
       "    </tr>\n",
       "    <tr>\n",
       "      <td>424168</td>\n",
       "      <td>34885</td>\n",
       "      <td>0</td>\n",
       "      <td>1</td>\n",
       "      <td>10.0</td>\n",
       "      <td>18</td>\n",
       "      <td>5</td>\n",
       "      <td>5</td>\n",
       "      <td>3</td>\n",
       "      <td>5</td>\n",
       "    </tr>\n",
       "    <tr>\n",
       "      <td>424169</td>\n",
       "      <td>208016</td>\n",
       "      <td>NaN</td>\n",
       "      <td>NaN</td>\n",
       "      <td>NaN</td>\n",
       "      <td>54</td>\n",
       "      <td>7</td>\n",
       "      <td>27</td>\n",
       "      <td>3</td>\n",
       "      <td>7</td>\n",
       "    </tr>\n",
       "  </tbody>\n",
       "</table>\n",
       "<p>424170 rows × 9 columns</p>\n",
       "</div>"
      ],
      "text/plain": [
       "        user_id  age_range  gender  f_u_ag  f_u_action  f_u_merchant  \\\n",
       "0        328862          6       1     6.0         419            58   \n",
       "1        234512          5       0     0.0          56            21   \n",
       "2        356311          5       0     0.0         157            28   \n",
       "3        272389          6       1     6.0          26             5   \n",
       "4        139859          7       0    14.0          43            24   \n",
       "...         ...        ...     ...     ...         ...           ...   \n",
       "424165    29504          0       1    10.0          22             9   \n",
       "424166   125763          0       1    10.0          95             4   \n",
       "424167   128038          2       0     1.0          33            12   \n",
       "424168    34885          0       1    10.0          18             5   \n",
       "424169   208016        NaN     NaN     NaN          54             7   \n",
       "\n",
       "        f_u_item  f_u_cat  f_u_brand  \n",
       "0            293       46         61  \n",
       "1             29       18         20  \n",
       "2             96       22         28  \n",
       "3             23        9          5  \n",
       "4             30       22         23  \n",
       "...          ...      ...        ...  \n",
       "424165        14        7          9  \n",
       "424166        27       12          3  \n",
       "424167        16        6         12  \n",
       "424168         5        3          5  \n",
       "424169        27        3          7  \n",
       "\n",
       "[424170 rows x 9 columns]"
      ]
     },
     "execution_count": 62,
     "metadata": {},
     "output_type": "execute_result"
    }
   ],
   "source": [
    "f_user"
   ]
  },
  {
   "cell_type": "code",
   "execution_count": 75,
   "metadata": {},
   "outputs": [],
   "source": [
    "f_user[['f_u_ag','f_u_action','f_u_merchant','f_u_item','f_u_cat','f_u_brand']] = max_min_normalization(f_user.drop(columns='user_id'))\n"
   ]
  },
  {
   "cell_type": "code",
   "execution_count": 85,
   "metadata": {},
   "outputs": [
    {
     "data": {
      "text/plain": [
       "PCA(copy=True, iterated_power='auto', n_components=6, random_state=None,\n",
       "  svd_solver='auto', tol=0.0, whiten=False)"
      ]
     },
     "execution_count": 85,
     "metadata": {},
     "output_type": "execute_result"
    }
   ],
   "source": [
    "pca = PCA(n_components=6)\n",
    "pca.fit(f_user.drop(columns='user_id'))"
   ]
  },
  {
   "cell_type": "code",
   "execution_count": 87,
   "metadata": {},
   "outputs": [],
   "source": [
    "X = pca.transform(f_user.drop(columns='user_id'))"
   ]
  },
  {
   "cell_type": "code",
   "execution_count": 89,
   "metadata": {},
   "outputs": [
    {
     "data": {
      "text/plain": [
       "array([[ 2.77621295e-01, -2.04059575e-02, -5.54307347e-04,\n",
       "         6.69312813e-04,  4.95708754e-04, -9.03057429e-05],\n",
       "       [-1.76900253e-01, -1.67620248e-02, -4.65390548e-03,\n",
       "        -9.56501419e-04,  6.94688837e-04,  4.27013675e-04],\n",
       "       [-1.76793426e-01, -1.91195151e-03, -1.28793957e-02,\n",
       "         3.83098960e-03, -1.83388813e-04, -2.18956202e-04],\n",
       "       ...,\n",
       "       [ 2.32072232e-01, -3.98293388e-02, -1.51573308e-03,\n",
       "         3.35817988e-03,  1.38511214e-04, -2.97825765e-04],\n",
       "       [ 2.77466809e-01, -4.40855527e-02,  8.72072467e-03,\n",
       "        -9.89946312e-04,  4.87318192e-04, -1.22761883e-04],\n",
       "       [-8.62413304e-02, -5.76991315e-02,  8.02118319e-03,\n",
       "         2.61153147e-03,  4.55631959e-04, -2.79215949e-04]])"
      ]
     },
     "execution_count": 89,
     "metadata": {},
     "output_type": "execute_result"
    }
   ],
   "source": [
    "X"
   ]
  },
  {
   "cell_type": "code",
   "execution_count": 90,
   "metadata": {},
   "outputs": [
    {
     "data": {
      "text/plain": [
       "array([9.00106535e-01, 8.94676240e-02, 6.78838807e-03, 3.27955597e-03,\n",
       "       3.16023962e-04, 4.18733619e-05])"
      ]
     },
     "execution_count": 90,
     "metadata": {},
     "output_type": "execute_result"
    }
   ],
   "source": [
    "pca.explained_variance_ratio_"
   ]
  },
  {
   "cell_type": "code",
   "execution_count": 91,
   "metadata": {},
   "outputs": [
    {
     "data": {
      "text/plain": [
       "array([105.10212664,  33.1358029 ,   9.12741668,   6.34412994,\n",
       "         1.96935746,   0.71685854])"
      ]
     },
     "execution_count": 91,
     "metadata": {},
     "output_type": "execute_result"
    }
   ],
   "source": [
    "pca.singular_values_"
   ]
  },
  {
   "cell_type": "markdown",
   "metadata": {},
   "source": [
    "### For Merchant\n",
    "\n",
    "For each merchant:\n",
    "\n",
    "1. Extract the count of action_types\n",
    "2. Extract the count of user_id\n",
    "3. Extract the count of item_id\n",
    "4. Extract the count of cat_id(categary)\n",
    "5. Extract the count of brand_id   \n",
    "商铺下有多少被交互的商品，商品类别和商品品牌数量  \n",
    "商铺每个月有多少用户交互  \n",
    "商铺下交互的用户按年龄段和性别分别统计  \n",
    "商铺在各个年龄段和性别组合的交互用户中交互的商品、商品类别和商品品牌总数  \n",
    "商铺在各个年龄段和性别组合的购买用户中购买的商品、商品类别和商品品牌总数"
   ]
  },
  {
   "cell_type": "code",
   "execution_count": 63,
   "metadata": {},
   "outputs": [],
   "source": [
    "f_merchant = pd.DataFrame(user_log['merchant_id']).drop_duplicates()"
   ]
  },
  {
   "cell_type": "code",
   "execution_count": 64,
   "metadata": {},
   "outputs": [
    {
     "name": "stdout",
     "output_type": "stream",
     "text": [
      "------Start------\n",
      "------Done------\n"
     ]
    }
   ],
   "source": [
    "print('------Start------')\n",
    "\n",
    "f_temp = feature_extract(user_log,['merchant_id','action_type'],['merchant_id'],None,{'action_type':'f_m_action'},'cnt')\n",
    "f_merchant = pd.merge(f_merchant, f_temp, on=['merchant_id'])\n",
    "\n",
    "aggs = {'user_id':lambda x: len(set(x)), \n",
    "        'item_id':lambda x: len(set(x)),\n",
    "        'cat_id':lambda x: len(set(x)),\n",
    "        'brand_id':lambda x: len(set(x))}\n",
    "rnames = {'user_id':'f_m_user','item_id':'f_m_item','cat_id':'f_m_cat','brand_id':'f_m_brand'}\n",
    "f_temp = feature_extract(user_log, None, ['merchant_id'], aggs, rnames, 'sub_agg')\n",
    "f_merchant = pd.merge(f_merchant, f_temp, on=['merchant_id'])\n",
    "\n",
    "print('------Done------')"
   ]
  },
  {
   "cell_type": "code",
   "execution_count": 66,
   "metadata": {},
   "outputs": [
    {
     "data": {
      "text/html": [
       "<div>\n",
       "<style scoped>\n",
       "    .dataframe tbody tr th:only-of-type {\n",
       "        vertical-align: middle;\n",
       "    }\n",
       "\n",
       "    .dataframe tbody tr th {\n",
       "        vertical-align: top;\n",
       "    }\n",
       "\n",
       "    .dataframe thead th {\n",
       "        text-align: right;\n",
       "    }\n",
       "</style>\n",
       "<table border=\"1\" class=\"dataframe\">\n",
       "  <thead>\n",
       "    <tr style=\"text-align: right;\">\n",
       "      <th></th>\n",
       "      <th>merchant_id</th>\n",
       "      <th>f_m_action</th>\n",
       "      <th>f_m_user</th>\n",
       "      <th>f_m_item</th>\n",
       "      <th>f_m_cat</th>\n",
       "      <th>f_m_brand</th>\n",
       "    </tr>\n",
       "  </thead>\n",
       "  <tbody>\n",
       "    <tr>\n",
       "      <td>0</td>\n",
       "      <td>2882</td>\n",
       "      <td>9416</td>\n",
       "      <td>2362</td>\n",
       "      <td>491</td>\n",
       "      <td>6</td>\n",
       "      <td>2</td>\n",
       "    </tr>\n",
       "    <tr>\n",
       "      <td>1</td>\n",
       "      <td>1253</td>\n",
       "      <td>51919</td>\n",
       "      <td>11817</td>\n",
       "      <td>1047</td>\n",
       "      <td>10</td>\n",
       "      <td>5</td>\n",
       "    </tr>\n",
       "    <tr>\n",
       "      <td>2</td>\n",
       "      <td>883</td>\n",
       "      <td>45636</td>\n",
       "      <td>4935</td>\n",
       "      <td>1082</td>\n",
       "      <td>19</td>\n",
       "      <td>3</td>\n",
       "    </tr>\n",
       "    <tr>\n",
       "      <td>3</td>\n",
       "      <td>420</td>\n",
       "      <td>213754</td>\n",
       "      <td>26642</td>\n",
       "      <td>1444</td>\n",
       "      <td>21</td>\n",
       "      <td>7</td>\n",
       "    </tr>\n",
       "    <tr>\n",
       "      <td>4</td>\n",
       "      <td>4605</td>\n",
       "      <td>56943</td>\n",
       "      <td>15605</td>\n",
       "      <td>223</td>\n",
       "      <td>31</td>\n",
       "      <td>2</td>\n",
       "    </tr>\n",
       "    <tr>\n",
       "      <td>...</td>\n",
       "      <td>...</td>\n",
       "      <td>...</td>\n",
       "      <td>...</td>\n",
       "      <td>...</td>\n",
       "      <td>...</td>\n",
       "      <td>...</td>\n",
       "    </tr>\n",
       "    <tr>\n",
       "      <td>4990</td>\n",
       "      <td>2408</td>\n",
       "      <td>784</td>\n",
       "      <td>127</td>\n",
       "      <td>120</td>\n",
       "      <td>18</td>\n",
       "      <td>2</td>\n",
       "    </tr>\n",
       "    <tr>\n",
       "      <td>4991</td>\n",
       "      <td>2979</td>\n",
       "      <td>143</td>\n",
       "      <td>47</td>\n",
       "      <td>13</td>\n",
       "      <td>3</td>\n",
       "      <td>1</td>\n",
       "    </tr>\n",
       "    <tr>\n",
       "      <td>4992</td>\n",
       "      <td>3808</td>\n",
       "      <td>235</td>\n",
       "      <td>140</td>\n",
       "      <td>11</td>\n",
       "      <td>4</td>\n",
       "      <td>1</td>\n",
       "    </tr>\n",
       "    <tr>\n",
       "      <td>4993</td>\n",
       "      <td>3532</td>\n",
       "      <td>572</td>\n",
       "      <td>154</td>\n",
       "      <td>50</td>\n",
       "      <td>8</td>\n",
       "      <td>1</td>\n",
       "    </tr>\n",
       "    <tr>\n",
       "      <td>4994</td>\n",
       "      <td>4103</td>\n",
       "      <td>210</td>\n",
       "      <td>90</td>\n",
       "      <td>67</td>\n",
       "      <td>12</td>\n",
       "      <td>2</td>\n",
       "    </tr>\n",
       "  </tbody>\n",
       "</table>\n",
       "<p>4995 rows × 6 columns</p>\n",
       "</div>"
      ],
      "text/plain": [
       "      merchant_id  f_m_action  f_m_user  f_m_item  f_m_cat  f_m_brand\n",
       "0            2882        9416      2362       491        6          2\n",
       "1            1253       51919     11817      1047       10          5\n",
       "2             883       45636      4935      1082       19          3\n",
       "3             420      213754     26642      1444       21          7\n",
       "4            4605       56943     15605       223       31          2\n",
       "...           ...         ...       ...       ...      ...        ...\n",
       "4990         2408         784       127       120       18          2\n",
       "4991         2979         143        47        13        3          1\n",
       "4992         3808         235       140        11        4          1\n",
       "4993         3532         572       154        50        8          1\n",
       "4994         4103         210        90        67       12          2\n",
       "\n",
       "[4995 rows x 6 columns]"
      ]
     },
     "execution_count": 66,
     "metadata": {},
     "output_type": "execute_result"
    }
   ],
   "source": [
    "f_merchant"
   ]
  },
  {
   "cell_type": "code",
   "execution_count": 112,
   "metadata": {
    "scrolled": true
   },
   "outputs": [
    {
     "ename": "SyntaxError",
     "evalue": "invalid syntax (<ipython-input-112-b12d6daed545>, line 1)",
     "output_type": "error",
     "traceback": [
      "\u001b[0;36m  File \u001b[0;32m\"<ipython-input-112-b12d6daed545>\"\u001b[0;36m, line \u001b[0;32m1\u001b[0m\n\u001b[0;31m    Normolization!!!! Meow\u001b[0m\n\u001b[0m                 ^\u001b[0m\n\u001b[0;31mSyntaxError\u001b[0m\u001b[0;31m:\u001b[0m invalid syntax\n"
     ]
    }
   ],
   "source": [
    "f_merchant[['f_m_action','f_m_user','f_m_item','f_m_cat','f_m_brand']] = max_min_normalization(f_merchant.drop(columns='merchant_id'))\n"
   ]
  },
  {
   "cell_type": "markdown",
   "metadata": {},
   "source": [
    "### For Category\n",
    "\n",
    "For each category\n",
    "\n",
    "1. Extract the count of action_types\n",
    "2. Extract the count of user_id\n",
    "3. Extract the count of merchant_id\n",
    "4. Extract the count of item_id\n",
    "5. Extract the count of brand_id"
   ]
  },
  {
   "cell_type": "code",
   "execution_count": 67,
   "metadata": {},
   "outputs": [],
   "source": [
    "f_cat = pd.DataFrame(user_log['cat_id']).drop_duplicates()"
   ]
  },
  {
   "cell_type": "code",
   "execution_count": 69,
   "metadata": {},
   "outputs": [
    {
     "name": "stdout",
     "output_type": "stream",
     "text": [
      "------Start------\n",
      "------Done------\n"
     ]
    }
   ],
   "source": [
    "print('------Start------')\n",
    "\n",
    "f_temp = feature_extract(user_log,['cat_id','action_type'],['cat_id'],None,{'action_type':'f_c_action'},'cnt')\n",
    "f_cat = pd.merge(f_cat, f_temp, on=['cat_id'])\n",
    "\n",
    "aggs = {'user_id':lambda x: len(set(x)), \n",
    "        'merchant_id':lambda x: len(set(x)),\n",
    "        'item_id':lambda x: len(set(x)),\n",
    "        'brand_id':lambda x: len(set(x))}\n",
    "rnames = {'user_id':'f_c_user','merchant_id':'f_c_merchant','item_id':'f_c_item','brand_id':'f_c_brand'}\n",
    "f_temp = feature_extract(user_log, None, ['cat_id'], aggs, rnames, 'sub_agg')\n",
    "f_cat = pd.merge(f_cat, f_temp, on=['cat_id'])\n",
    "\n",
    "print('------Done------')"
   ]
  },
  {
   "cell_type": "code",
   "execution_count": 71,
   "metadata": {},
   "outputs": [
    {
     "data": {
      "text/html": [
       "<div>\n",
       "<style scoped>\n",
       "    .dataframe tbody tr th:only-of-type {\n",
       "        vertical-align: middle;\n",
       "    }\n",
       "\n",
       "    .dataframe tbody tr th {\n",
       "        vertical-align: top;\n",
       "    }\n",
       "\n",
       "    .dataframe thead th {\n",
       "        text-align: right;\n",
       "    }\n",
       "</style>\n",
       "<table border=\"1\" class=\"dataframe\">\n",
       "  <thead>\n",
       "    <tr style=\"text-align: right;\">\n",
       "      <th></th>\n",
       "      <th>cat_id</th>\n",
       "      <th>f_c_action</th>\n",
       "      <th>f_c_user</th>\n",
       "      <th>f_c_merchant</th>\n",
       "      <th>f_c_item</th>\n",
       "      <th>f_c_brand</th>\n",
       "    </tr>\n",
       "  </thead>\n",
       "  <tbody>\n",
       "    <tr>\n",
       "      <td>0</td>\n",
       "      <td>833</td>\n",
       "      <td>100659</td>\n",
       "      <td>31521</td>\n",
       "      <td>304</td>\n",
       "      <td>2691</td>\n",
       "      <td>319</td>\n",
       "    </tr>\n",
       "    <tr>\n",
       "      <td>1</td>\n",
       "      <td>1271</td>\n",
       "      <td>660025</td>\n",
       "      <td>111493</td>\n",
       "      <td>366</td>\n",
       "      <td>14727</td>\n",
       "      <td>398</td>\n",
       "    </tr>\n",
       "    <tr>\n",
       "      <td>2</td>\n",
       "      <td>1467</td>\n",
       "      <td>796754</td>\n",
       "      <td>115972</td>\n",
       "      <td>431</td>\n",
       "      <td>21434</td>\n",
       "      <td>489</td>\n",
       "    </tr>\n",
       "    <tr>\n",
       "      <td>3</td>\n",
       "      <td>1095</td>\n",
       "      <td>1155256</td>\n",
       "      <td>161674</td>\n",
       "      <td>696</td>\n",
       "      <td>24794</td>\n",
       "      <td>769</td>\n",
       "    </tr>\n",
       "    <tr>\n",
       "      <td>4</td>\n",
       "      <td>602</td>\n",
       "      <td>1248070</td>\n",
       "      <td>113834</td>\n",
       "      <td>186</td>\n",
       "      <td>10052</td>\n",
       "      <td>185</td>\n",
       "    </tr>\n",
       "    <tr>\n",
       "      <td>...</td>\n",
       "      <td>...</td>\n",
       "      <td>...</td>\n",
       "      <td>...</td>\n",
       "      <td>...</td>\n",
       "      <td>...</td>\n",
       "      <td>...</td>\n",
       "    </tr>\n",
       "    <tr>\n",
       "      <td>1653</td>\n",
       "      <td>473</td>\n",
       "      <td>1</td>\n",
       "      <td>1</td>\n",
       "      <td>1</td>\n",
       "      <td>1</td>\n",
       "      <td>1</td>\n",
       "    </tr>\n",
       "    <tr>\n",
       "      <td>1654</td>\n",
       "      <td>911</td>\n",
       "      <td>1</td>\n",
       "      <td>1</td>\n",
       "      <td>1</td>\n",
       "      <td>1</td>\n",
       "      <td>1</td>\n",
       "    </tr>\n",
       "    <tr>\n",
       "      <td>1655</td>\n",
       "      <td>1572</td>\n",
       "      <td>2</td>\n",
       "      <td>1</td>\n",
       "      <td>2</td>\n",
       "      <td>2</td>\n",
       "      <td>1</td>\n",
       "    </tr>\n",
       "    <tr>\n",
       "      <td>1656</td>\n",
       "      <td>540</td>\n",
       "      <td>1</td>\n",
       "      <td>1</td>\n",
       "      <td>1</td>\n",
       "      <td>1</td>\n",
       "      <td>1</td>\n",
       "    </tr>\n",
       "    <tr>\n",
       "      <td>1657</td>\n",
       "      <td>275</td>\n",
       "      <td>1</td>\n",
       "      <td>1</td>\n",
       "      <td>1</td>\n",
       "      <td>1</td>\n",
       "      <td>1</td>\n",
       "    </tr>\n",
       "  </tbody>\n",
       "</table>\n",
       "<p>1658 rows × 6 columns</p>\n",
       "</div>"
      ],
      "text/plain": [
       "      cat_id  f_c_action  f_c_user  f_c_merchant  f_c_item  f_c_brand\n",
       "0        833      100659     31521           304      2691        319\n",
       "1       1271      660025    111493           366     14727        398\n",
       "2       1467      796754    115972           431     21434        489\n",
       "3       1095     1155256    161674           696     24794        769\n",
       "4        602     1248070    113834           186     10052        185\n",
       "...      ...         ...       ...           ...       ...        ...\n",
       "1653     473           1         1             1         1          1\n",
       "1654     911           1         1             1         1          1\n",
       "1655    1572           2         1             2         2          1\n",
       "1656     540           1         1             1         1          1\n",
       "1657     275           1         1             1         1          1\n",
       "\n",
       "[1658 rows x 6 columns]"
      ]
     },
     "execution_count": 71,
     "metadata": {},
     "output_type": "execute_result"
    }
   ],
   "source": [
    "f_cat"
   ]
  },
  {
   "cell_type": "markdown",
   "metadata": {},
   "source": [
    "### For Brand\n",
    "\n",
    "For each Brand\n",
    "\n",
    "1. Extract the count of action_types\n",
    "2. Extract the count of user_id\n",
    "3. Extract the count of merchant_id\n",
    "4. Extract the count of item_id\n",
    "5. Extract the count of cat_id"
   ]
  },
  {
   "cell_type": "code",
   "execution_count": 74,
   "metadata": {},
   "outputs": [],
   "source": [
    "f_brand = pd.DataFrame(user_log['brand_id']).drop_duplicates().dropna()"
   ]
  },
  {
   "cell_type": "code",
   "execution_count": 75,
   "metadata": {
    "scrolled": true
   },
   "outputs": [
    {
     "name": "stdout",
     "output_type": "stream",
     "text": [
      "------Start------\n",
      "------Done------\n"
     ]
    }
   ],
   "source": [
    "print('------Start------')\n",
    "\n",
    "f_temp = feature_extract(user_log,['brand_id','action_type'],['brand_id'],None,{'action_type':'f_b_action'},'cnt')\n",
    "f_brand = pd.merge(f_brand, f_temp, on=['brand_id'])\n",
    "\n",
    "aggs = {'user_id':lambda x: len(set(x)), \n",
    "        'merchant_id':lambda x: len(set(x)),\n",
    "        'item_id':lambda x: len(set(x)),\n",
    "        'cat_id':lambda x: len(set(x))}\n",
    "rnames = {'user_id':'f_b_user','merchant_id':'f_b_merchant','item_id':'f_b_item','cat_id':'f_b_cat'}\n",
    "f_temp = feature_extract(user_log, None, ['brand_id'], aggs, rnames, 'sub_agg')\n",
    "f_brand = pd.merge(f_brand, f_temp, on=['brand_id'])\n",
    "\n",
    "print('------Done------')"
   ]
  },
  {
   "cell_type": "code",
   "execution_count": 76,
   "metadata": {
    "scrolled": true
   },
   "outputs": [
    {
     "data": {
      "text/html": [
       "<div>\n",
       "<style scoped>\n",
       "    .dataframe tbody tr th:only-of-type {\n",
       "        vertical-align: middle;\n",
       "    }\n",
       "\n",
       "    .dataframe tbody tr th {\n",
       "        vertical-align: top;\n",
       "    }\n",
       "\n",
       "    .dataframe thead th {\n",
       "        text-align: right;\n",
       "    }\n",
       "</style>\n",
       "<table border=\"1\" class=\"dataframe\">\n",
       "  <thead>\n",
       "    <tr style=\"text-align: right;\">\n",
       "      <th></th>\n",
       "      <th>brand_id</th>\n",
       "      <th>f_b_action</th>\n",
       "      <th>f_b_user</th>\n",
       "      <th>f_b_merchant</th>\n",
       "      <th>f_b_item</th>\n",
       "      <th>f_b_cat</th>\n",
       "    </tr>\n",
       "  </thead>\n",
       "  <tbody>\n",
       "    <tr>\n",
       "      <td>0</td>\n",
       "      <td>2661</td>\n",
       "      <td>9428</td>\n",
       "      <td>2370</td>\n",
       "      <td>2</td>\n",
       "      <td>504</td>\n",
       "      <td>6</td>\n",
       "    </tr>\n",
       "    <tr>\n",
       "      <td>1</td>\n",
       "      <td>1049</td>\n",
       "      <td>8652</td>\n",
       "      <td>3447</td>\n",
       "      <td>1</td>\n",
       "      <td>213</td>\n",
       "      <td>5</td>\n",
       "    </tr>\n",
       "    <tr>\n",
       "      <td>2</td>\n",
       "      <td>1647</td>\n",
       "      <td>45605</td>\n",
       "      <td>4933</td>\n",
       "      <td>1</td>\n",
       "      <td>1081</td>\n",
       "      <td>19</td>\n",
       "    </tr>\n",
       "    <tr>\n",
       "      <td>3</td>\n",
       "      <td>4953</td>\n",
       "      <td>133462</td>\n",
       "      <td>21289</td>\n",
       "      <td>1</td>\n",
       "      <td>598</td>\n",
       "      <td>14</td>\n",
       "    </tr>\n",
       "    <tr>\n",
       "      <td>4</td>\n",
       "      <td>7622</td>\n",
       "      <td>56936</td>\n",
       "      <td>15613</td>\n",
       "      <td>5</td>\n",
       "      <td>245</td>\n",
       "      <td>23</td>\n",
       "    </tr>\n",
       "    <tr>\n",
       "      <td>...</td>\n",
       "      <td>...</td>\n",
       "      <td>...</td>\n",
       "      <td>...</td>\n",
       "      <td>...</td>\n",
       "      <td>...</td>\n",
       "      <td>...</td>\n",
       "    </tr>\n",
       "    <tr>\n",
       "      <td>8438</td>\n",
       "      <td>1679</td>\n",
       "      <td>2</td>\n",
       "      <td>1</td>\n",
       "      <td>1</td>\n",
       "      <td>2</td>\n",
       "      <td>1</td>\n",
       "    </tr>\n",
       "    <tr>\n",
       "      <td>8439</td>\n",
       "      <td>244</td>\n",
       "      <td>1</td>\n",
       "      <td>1</td>\n",
       "      <td>1</td>\n",
       "      <td>1</td>\n",
       "      <td>1</td>\n",
       "    </tr>\n",
       "    <tr>\n",
       "      <td>8440</td>\n",
       "      <td>7838</td>\n",
       "      <td>1</td>\n",
       "      <td>1</td>\n",
       "      <td>1</td>\n",
       "      <td>1</td>\n",
       "      <td>1</td>\n",
       "    </tr>\n",
       "    <tr>\n",
       "      <td>8441</td>\n",
       "      <td>6376</td>\n",
       "      <td>1</td>\n",
       "      <td>1</td>\n",
       "      <td>1</td>\n",
       "      <td>1</td>\n",
       "      <td>1</td>\n",
       "    </tr>\n",
       "    <tr>\n",
       "      <td>8442</td>\n",
       "      <td>3392</td>\n",
       "      <td>1</td>\n",
       "      <td>1</td>\n",
       "      <td>1</td>\n",
       "      <td>1</td>\n",
       "      <td>1</td>\n",
       "    </tr>\n",
       "  </tbody>\n",
       "</table>\n",
       "<p>8443 rows × 6 columns</p>\n",
       "</div>"
      ],
      "text/plain": [
       "      brand_id  f_b_action  f_b_user  f_b_merchant  f_b_item  f_b_cat\n",
       "0         2661        9428      2370             2       504        6\n",
       "1         1049        8652      3447             1       213        5\n",
       "2         1647       45605      4933             1      1081       19\n",
       "3         4953      133462     21289             1       598       14\n",
       "4         7622       56936     15613             5       245       23\n",
       "...        ...         ...       ...           ...       ...      ...\n",
       "8438      1679           2         1             1         2        1\n",
       "8439       244           1         1             1         1        1\n",
       "8440      7838           1         1             1         1        1\n",
       "8441      6376           1         1             1         1        1\n",
       "8442      3392           1         1             1         1        1\n",
       "\n",
       "[8443 rows x 6 columns]"
      ]
     },
     "execution_count": 76,
     "metadata": {},
     "output_type": "execute_result"
    }
   ],
   "source": [
    "f_brand"
   ]
  },
  {
   "cell_type": "code",
   "execution_count": 42,
   "metadata": {},
   "outputs": [
    {
     "data": {
      "text/html": [
       "<div>\n",
       "<style scoped>\n",
       "    .dataframe tbody tr th:only-of-type {\n",
       "        vertical-align: middle;\n",
       "    }\n",
       "\n",
       "    .dataframe tbody tr th {\n",
       "        vertical-align: top;\n",
       "    }\n",
       "\n",
       "    .dataframe thead th {\n",
       "        text-align: right;\n",
       "    }\n",
       "</style>\n",
       "<table border=\"1\" class=\"dataframe\">\n",
       "  <thead>\n",
       "    <tr style=\"text-align: right;\">\n",
       "      <th></th>\n",
       "      <th>user_id</th>\n",
       "      <th>merchant_id</th>\n",
       "    </tr>\n",
       "  </thead>\n",
       "  <tbody>\n",
       "    <tr>\n",
       "      <td>0</td>\n",
       "      <td>34176</td>\n",
       "      <td>3906</td>\n",
       "    </tr>\n",
       "    <tr>\n",
       "      <td>1</td>\n",
       "      <td>34176</td>\n",
       "      <td>121</td>\n",
       "    </tr>\n",
       "    <tr>\n",
       "      <td>2</td>\n",
       "      <td>34176</td>\n",
       "      <td>4356</td>\n",
       "    </tr>\n",
       "    <tr>\n",
       "      <td>3</td>\n",
       "      <td>34176</td>\n",
       "      <td>2217</td>\n",
       "    </tr>\n",
       "    <tr>\n",
       "      <td>4</td>\n",
       "      <td>230784</td>\n",
       "      <td>4818</td>\n",
       "    </tr>\n",
       "    <tr>\n",
       "      <td>...</td>\n",
       "      <td>...</td>\n",
       "      <td>...</td>\n",
       "    </tr>\n",
       "    <tr>\n",
       "      <td>260859</td>\n",
       "      <td>359807</td>\n",
       "      <td>4325</td>\n",
       "    </tr>\n",
       "    <tr>\n",
       "      <td>260860</td>\n",
       "      <td>294527</td>\n",
       "      <td>3971</td>\n",
       "    </tr>\n",
       "    <tr>\n",
       "      <td>260861</td>\n",
       "      <td>294527</td>\n",
       "      <td>152</td>\n",
       "    </tr>\n",
       "    <tr>\n",
       "      <td>260862</td>\n",
       "      <td>294527</td>\n",
       "      <td>2537</td>\n",
       "    </tr>\n",
       "    <tr>\n",
       "      <td>260863</td>\n",
       "      <td>229247</td>\n",
       "      <td>4140</td>\n",
       "    </tr>\n",
       "  </tbody>\n",
       "</table>\n",
       "<p>260864 rows × 2 columns</p>\n",
       "</div>"
      ],
      "text/plain": [
       "        user_id  merchant_id\n",
       "0         34176         3906\n",
       "1         34176          121\n",
       "2         34176         4356\n",
       "3         34176         2217\n",
       "4        230784         4818\n",
       "...         ...          ...\n",
       "260859   359807         4325\n",
       "260860   294527         3971\n",
       "260861   294527          152\n",
       "260862   294527         2537\n",
       "260863   229247         4140\n",
       "\n",
       "[260864 rows x 2 columns]"
      ]
     },
     "execution_count": 42,
     "metadata": {},
     "output_type": "execute_result"
    }
   ],
   "source": [
    "f_user_merchant"
   ]
  },
  {
   "cell_type": "code",
   "execution_count": 45,
   "metadata": {},
   "outputs": [
    {
     "data": {
      "text/html": [
       "<div>\n",
       "<style scoped>\n",
       "    .dataframe tbody tr th:only-of-type {\n",
       "        vertical-align: middle;\n",
       "    }\n",
       "\n",
       "    .dataframe tbody tr th {\n",
       "        vertical-align: top;\n",
       "    }\n",
       "\n",
       "    .dataframe thead th {\n",
       "        text-align: right;\n",
       "    }\n",
       "</style>\n",
       "<table border=\"1\" class=\"dataframe\">\n",
       "  <thead>\n",
       "    <tr style=\"text-align: right;\">\n",
       "      <th></th>\n",
       "      <th>user_id</th>\n",
       "      <th>merchant_id</th>\n",
       "      <th>label</th>\n",
       "    </tr>\n",
       "  </thead>\n",
       "  <tbody>\n",
       "  </tbody>\n",
       "</table>\n",
       "</div>"
      ],
      "text/plain": [
       "Empty DataFrame\n",
       "Columns: [user_id, merchant_id, label]\n",
       "Index: []"
      ]
     },
     "execution_count": 45,
     "metadata": {},
     "output_type": "execute_result"
    }
   ],
   "source": [
    "train[train['user_id'].isin(test['user_id'].tolist())]"
   ]
  },
  {
   "cell_type": "code",
   "execution_count": 21,
   "metadata": {
    "scrolled": true
   },
   "outputs": [
    {
     "data": {
      "text/html": [
       "<div>\n",
       "<style scoped>\n",
       "    .dataframe tbody tr th:only-of-type {\n",
       "        vertical-align: middle;\n",
       "    }\n",
       "\n",
       "    .dataframe tbody tr th {\n",
       "        vertical-align: top;\n",
       "    }\n",
       "\n",
       "    .dataframe thead th {\n",
       "        text-align: right;\n",
       "    }\n",
       "</style>\n",
       "<table border=\"1\" class=\"dataframe\">\n",
       "  <thead>\n",
       "    <tr style=\"text-align: right;\">\n",
       "      <th></th>\n",
       "      <th>user_id</th>\n",
       "      <th>merchant_id</th>\n",
       "      <th>prob</th>\n",
       "    </tr>\n",
       "  </thead>\n",
       "  <tbody>\n",
       "    <tr>\n",
       "      <td>0</td>\n",
       "      <td>163968</td>\n",
       "      <td>4605</td>\n",
       "      <td>NaN</td>\n",
       "    </tr>\n",
       "    <tr>\n",
       "      <td>1</td>\n",
       "      <td>360576</td>\n",
       "      <td>1581</td>\n",
       "      <td>NaN</td>\n",
       "    </tr>\n",
       "    <tr>\n",
       "      <td>2</td>\n",
       "      <td>98688</td>\n",
       "      <td>1964</td>\n",
       "      <td>NaN</td>\n",
       "    </tr>\n",
       "    <tr>\n",
       "      <td>3</td>\n",
       "      <td>98688</td>\n",
       "      <td>3645</td>\n",
       "      <td>NaN</td>\n",
       "    </tr>\n",
       "    <tr>\n",
       "      <td>4</td>\n",
       "      <td>295296</td>\n",
       "      <td>3361</td>\n",
       "      <td>NaN</td>\n",
       "    </tr>\n",
       "    <tr>\n",
       "      <td>...</td>\n",
       "      <td>...</td>\n",
       "      <td>...</td>\n",
       "      <td>...</td>\n",
       "    </tr>\n",
       "    <tr>\n",
       "      <td>261472</td>\n",
       "      <td>228479</td>\n",
       "      <td>3111</td>\n",
       "      <td>NaN</td>\n",
       "    </tr>\n",
       "    <tr>\n",
       "      <td>261473</td>\n",
       "      <td>97919</td>\n",
       "      <td>2341</td>\n",
       "      <td>NaN</td>\n",
       "    </tr>\n",
       "    <tr>\n",
       "      <td>261474</td>\n",
       "      <td>97919</td>\n",
       "      <td>3971</td>\n",
       "      <td>NaN</td>\n",
       "    </tr>\n",
       "    <tr>\n",
       "      <td>261475</td>\n",
       "      <td>32639</td>\n",
       "      <td>3536</td>\n",
       "      <td>NaN</td>\n",
       "    </tr>\n",
       "    <tr>\n",
       "      <td>261476</td>\n",
       "      <td>32639</td>\n",
       "      <td>3319</td>\n",
       "      <td>NaN</td>\n",
       "    </tr>\n",
       "  </tbody>\n",
       "</table>\n",
       "<p>261477 rows × 3 columns</p>\n",
       "</div>"
      ],
      "text/plain": [
       "        user_id  merchant_id  prob\n",
       "0        163968         4605   NaN\n",
       "1        360576         1581   NaN\n",
       "2         98688         1964   NaN\n",
       "3         98688         3645   NaN\n",
       "4        295296         3361   NaN\n",
       "...         ...          ...   ...\n",
       "261472   228479         3111   NaN\n",
       "261473    97919         2341   NaN\n",
       "261474    97919         3971   NaN\n",
       "261475    32639         3536   NaN\n",
       "261476    32639         3319   NaN\n",
       "\n",
       "[261477 rows x 3 columns]"
      ]
     },
     "execution_count": 21,
     "metadata": {},
     "output_type": "execute_result"
    }
   ],
   "source": [
    "test"
   ]
  },
  {
   "cell_type": "code",
   "execution_count": null,
   "metadata": {
    "scrolled": true
   },
   "outputs": [],
   "source": [
    "user_log"
   ]
  },
  {
   "cell_type": "code",
   "execution_count": 49,
   "metadata": {},
   "outputs": [
    {
     "data": {
      "text/html": [
       "<div>\n",
       "<style scoped>\n",
       "    .dataframe tbody tr th:only-of-type {\n",
       "        vertical-align: middle;\n",
       "    }\n",
       "\n",
       "    .dataframe tbody tr th {\n",
       "        vertical-align: top;\n",
       "    }\n",
       "\n",
       "    .dataframe thead th {\n",
       "        text-align: right;\n",
       "    }\n",
       "</style>\n",
       "<table border=\"1\" class=\"dataframe\">\n",
       "  <thead>\n",
       "    <tr style=\"text-align: right;\">\n",
       "      <th></th>\n",
       "      <th>user_id</th>\n",
       "      <th>merchant_id</th>\n",
       "      <th>label</th>\n",
       "    </tr>\n",
       "  </thead>\n",
       "  <tbody>\n",
       "  </tbody>\n",
       "</table>\n",
       "</div>"
      ],
      "text/plain": [
       "Empty DataFrame\n",
       "Columns: [user_id, merchant_id, label]\n",
       "Index: []"
      ]
     },
     "execution_count": 49,
     "metadata": {},
     "output_type": "execute_result"
    }
   ],
   "source": [
    "train[train['user_id']==163968]"
   ]
  },
  {
   "cell_type": "code",
   "execution_count": 37,
   "metadata": {},
   "outputs": [],
   "source": [
    "a = user_log['user_id']+user_log['merchant_id']\n",
    "a = a.drop_duplicates()"
   ]
  },
  {
   "cell_type": "code",
   "execution_count": 39,
   "metadata": {},
   "outputs": [],
   "source": [
    "\n",
    "b = test['user_id']+test['merchant_id']\n",
    "b = b.drop_duplicates()"
   ]
  },
  {
   "cell_type": "code",
   "execution_count": 44,
   "metadata": {},
   "outputs": [
    {
     "name": "stdout",
     "output_type": "stream",
     "text": [
      "40472\n"
     ]
    }
   ],
   "source": [
    "cnt = 0\n",
    "for i in c:\n",
    "    if i in a:\n",
    "        cnt = cnt+1\n",
    "\n",
    "print(cnt) "
   ]
  },
  {
   "cell_type": "code",
   "execution_count": 41,
   "metadata": {},
   "outputs": [],
   "source": [
    "c = train['user_id']+train['merchant_id']\n",
    "c = b.drop_duplicates()"
   ]
  },
  {
   "cell_type": "code",
   "execution_count": null,
   "metadata": {},
   "outputs": [],
   "source": []
  }
 ],
 "metadata": {
  "kernelspec": {
   "display_name": "Python 3",
   "language": "python",
   "name": "python3"
  },
  "language_info": {
   "codemirror_mode": {
    "name": "ipython",
    "version": 3
   },
   "file_extension": ".py",
   "mimetype": "text/x-python",
   "name": "python",
   "nbconvert_exporter": "python",
   "pygments_lexer": "ipython3",
   "version": "3.7.2"
  }
 },
 "nbformat": 4,
 "nbformat_minor": 2
}
