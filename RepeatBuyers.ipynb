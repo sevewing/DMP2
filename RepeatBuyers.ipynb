{
 "cells": [
  {
   "cell_type": "code",
   "execution_count": 1,
   "metadata": {},
   "outputs": [],
   "source": [
    "import pandas as pd\n",
    "import numpy as np\n",
    "import matplotlib.pyplot as plt\n",
    "from sklearn.cluster import KMeans\n",
    "from sklearn.decomposition import PCA  # Correlation-Based Clustering Methods\n",
    "from datetime import datetime\n",
    "from RFE import RFE"
   ]
  },
  {
   "cell_type": "markdown",
   "metadata": {},
   "outputs": [],
   "source": [
    "# Load dataset"
   ]
  },
  {
   "cell_type": "code",
   "execution_count": 2,
   "metadata": {},
   "outputs": [
    {
     "name": "stdout",
     "output_type": "stream",
     "text": "Loading\nLoad success\n"
    }
   ],
   "source": [
    "print(\"Loading\")\n",
    "train = pd.read_csv('data/data_format1/train_format1.csv').drop_duplicates()\n",
    "test = pd.read_csv('data/data_format1/test_format1.csv').drop_duplicates()\n",
    "user_info = pd.read_csv('data/data_format1/user_info_format1.csv').drop_duplicates()\n",
    "user_log = pd.read_csv('data/data_format1/user_log_format1.csv')\n",
    "print(\"Load success\")"
   ]
  },
  {
   "cell_type": "markdown",
   "metadata": {},
   "outputs": [],
   "source": [
    "<b>1. Train data</b>\n",
    "<ul>\n",
    "<li>user_id</li>\n",
    "<li>merchant_id</li>\n",
    "<li>label: '1' denotes 'user_id' is a repeat buyer for 'merchant_id', while '0' is the opposite. </li>\n",
    "</ul>"
   ]
  },
  {
   "cell_type": "code",
   "execution_count": 3,
   "metadata": {},
   "outputs": [
    {
     "data": {
      "text/html": "<div>\n<style scoped>\n    .dataframe tbody tr th:only-of-type {\n        vertical-align: middle;\n    }\n\n    .dataframe tbody tr th {\n        vertical-align: top;\n    }\n\n    .dataframe thead th {\n        text-align: right;\n    }\n</style>\n<table border=\"1\" class=\"dataframe\">\n  <thead>\n    <tr style=\"text-align: right;\">\n      <th></th>\n      <th>user_id</th>\n      <th>merchant_id</th>\n      <th>label</th>\n    </tr>\n  </thead>\n  <tbody>\n    <tr>\n      <td>0</td>\n      <td>34176</td>\n      <td>3906</td>\n      <td>0</td>\n    </tr>\n    <tr>\n      <td>1</td>\n      <td>34176</td>\n      <td>121</td>\n      <td>0</td>\n    </tr>\n    <tr>\n      <td>2</td>\n      <td>34176</td>\n      <td>4356</td>\n      <td>1</td>\n    </tr>\n  </tbody>\n</table>\n</div>",
      "text/plain": "   user_id  merchant_id  label\n0    34176         3906      0\n1    34176          121      0\n2    34176         4356      1"
     },
     "execution_count": 3,
     "metadata": {},
     "output_type": "execute_result"
    }
   ],
   "source": [
    "train.head(3)"
   ]
  },
  {
   "cell_type": "markdown",
   "metadata": {},
   "outputs": [],
   "source": [
    "<b>2. Teat data</b>\n",
    "<ul>\n",
    "<li>user_id</li>\n",
    "<li>merchant_id</li>\n",
    "<li>prob: probability </li>\n",
    "</ul>"
   ]
  },
  {
   "cell_type": "code",
   "execution_count": 4,
   "metadata": {},
   "outputs": [
    {
     "data": {
      "text/html": "<div>\n<style scoped>\n    .dataframe tbody tr th:only-of-type {\n        vertical-align: middle;\n    }\n\n    .dataframe tbody tr th {\n        vertical-align: top;\n    }\n\n    .dataframe thead th {\n        text-align: right;\n    }\n</style>\n<table border=\"1\" class=\"dataframe\">\n  <thead>\n    <tr style=\"text-align: right;\">\n      <th></th>\n      <th>user_id</th>\n      <th>merchant_id</th>\n      <th>prob</th>\n    </tr>\n  </thead>\n  <tbody>\n    <tr>\n      <td>0</td>\n      <td>163968</td>\n      <td>4605</td>\n      <td>NaN</td>\n    </tr>\n    <tr>\n      <td>1</td>\n      <td>360576</td>\n      <td>1581</td>\n      <td>NaN</td>\n    </tr>\n    <tr>\n      <td>2</td>\n      <td>98688</td>\n      <td>1964</td>\n      <td>NaN</td>\n    </tr>\n  </tbody>\n</table>\n</div>",
      "text/plain": "   user_id  merchant_id  prob\n0   163968         4605   NaN\n1   360576         1581   NaN\n2    98688         1964   NaN"
     },
     "execution_count": 4,
     "metadata": {},
     "output_type": "execute_result"
    }
   ],
   "source": [
    "test.head(3)"
   ]
  },
  {
   "cell_type": "markdown",
   "metadata": {},
   "outputs": [],
   "source": [
    "<b>3. User information data</b>\n",
    "<ul>\n",
    "<li>user_id</li>\n",
    "<li>age_range: 1 for [,18];\n",
    "            2 for [18,24];  \n",
    "            3 for [25,29];  \n",
    "            4 for [30,34]; \n",
    "            5 for [35,39]; \n",
    "            6 for [40,49]; \n",
    "            7 and 8 for >= [50,];\n",
    "0 and NULL for unknown.</li>\n",
    "<li>gender:  0 for female, 1 for male, 2 and NULL for unknown.</li>\n",
    "</ul>"
   ]
  },
  {
   "cell_type": "code",
   "execution_count": 5,
   "metadata": {},
   "outputs": [
    {
     "data": {
      "text/html": "<div>\n<style scoped>\n    .dataframe tbody tr th:only-of-type {\n        vertical-align: middle;\n    }\n\n    .dataframe tbody tr th {\n        vertical-align: top;\n    }\n\n    .dataframe thead th {\n        text-align: right;\n    }\n</style>\n<table border=\"1\" class=\"dataframe\">\n  <thead>\n    <tr style=\"text-align: right;\">\n      <th></th>\n      <th>user_id</th>\n      <th>age_range</th>\n      <th>gender</th>\n    </tr>\n  </thead>\n  <tbody>\n    <tr>\n      <td>0</td>\n      <td>376517</td>\n      <td>6.0</td>\n      <td>1.0</td>\n    </tr>\n    <tr>\n      <td>1</td>\n      <td>234512</td>\n      <td>5.0</td>\n      <td>0.0</td>\n    </tr>\n    <tr>\n      <td>2</td>\n      <td>344532</td>\n      <td>5.0</td>\n      <td>0.0</td>\n    </tr>\n  </tbody>\n</table>\n</div>",
      "text/plain": "   user_id  age_range  gender\n0   376517        6.0     1.0\n1   234512        5.0     0.0\n2   344532        5.0     0.0"
     },
     "execution_count": 5,
     "metadata": {},
     "output_type": "execute_result"
    }
   ],
   "source": [
    "user_info.head(3)"
   ]
  },
  {
   "cell_type": "markdown",
   "metadata": {},
   "outputs": [],
   "source": [
    "<b>4. User Log data</b>\n",
    "<ul>\n",
    "<li>user_id</li>\n",
    "<li>item_id: goods</li>\n",
    "<li>cat_id: category</li>\n",
    "<li>seller_id: merchant_id</li>\n",
    "<li>brand_id</li>\n",
    "<li>time_stamp: mmdd</li>\n",
    "<li>action_type: 0 is for click, 1 is for add-to-cart, 2 is for purchase and 3 is for add-to-favourite</li>\n",
    "</ul>"
   ]
  },
  {
   "cell_type": "code",
   "execution_count": 6,
   "metadata": {},
   "outputs": [
    {
     "data": {
      "text/html": "<div>\n<style scoped>\n    .dataframe tbody tr th:only-of-type {\n        vertical-align: middle;\n    }\n\n    .dataframe tbody tr th {\n        vertical-align: top;\n    }\n\n    .dataframe thead th {\n        text-align: right;\n    }\n</style>\n<table border=\"1\" class=\"dataframe\">\n  <thead>\n    <tr style=\"text-align: right;\">\n      <th></th>\n      <th>user_id</th>\n      <th>item_id</th>\n      <th>cat_id</th>\n      <th>seller_id</th>\n      <th>brand_id</th>\n      <th>time_stamp</th>\n      <th>action_type</th>\n    </tr>\n  </thead>\n  <tbody>\n    <tr>\n      <td>0</td>\n      <td>328862</td>\n      <td>323294</td>\n      <td>833</td>\n      <td>2882</td>\n      <td>2661.0</td>\n      <td>829</td>\n      <td>0</td>\n    </tr>\n    <tr>\n      <td>1</td>\n      <td>328862</td>\n      <td>844400</td>\n      <td>1271</td>\n      <td>2882</td>\n      <td>2661.0</td>\n      <td>829</td>\n      <td>0</td>\n    </tr>\n    <tr>\n      <td>2</td>\n      <td>328862</td>\n      <td>575153</td>\n      <td>1271</td>\n      <td>2882</td>\n      <td>2661.0</td>\n      <td>829</td>\n      <td>0</td>\n    </tr>\n  </tbody>\n</table>\n</div>",
      "text/plain": "   user_id  item_id  cat_id  seller_id  brand_id  time_stamp  action_type\n0   328862   323294     833       2882    2661.0         829            0\n1   328862   844400    1271       2882    2661.0         829            0\n2   328862   575153    1271       2882    2661.0         829            0"
     },
     "execution_count": 6,
     "metadata": {},
     "output_type": "execute_result"
    }
   ],
   "source": [
    "user_log.head(3)"
   ]
  },
  {
   "cell_type": "markdown",
   "metadata": {},
   "outputs": [],
   "source": [
    "# Data Cleaning\n",
    "## A. Drop all nan and rename\n",
    "1. Drop nan  \n",
    "2. Rename seller_id to merchant_id  \n",
    "In user_log, \"seller_id\" should be called as \"merchant_id\".  \n",
    "It is a mistake by data provider.  \n",
    "3. Divide time_stamp into mm,dd two columns"
   ]
  },
  {
   "cell_type": "code",
   "execution_count": 7,
   "metadata": {},
   "outputs": [],
   "source": [
    "user_info.dropna(axis=0,how='all',inplace = True)\n",
    "user_log.dropna(axis=0,how='all',inplace = True)"
   ]
  },
  {
   "cell_type": "code",
   "execution_count": 8,
   "metadata": {},
   "outputs": [],
   "source": [
    "user_log.rename(columns={'seller_id':'merchant_id'}, inplace=True)"
   ]
  },
  {
   "cell_type": "code",
   "execution_count": 9,
   "metadata": {},
   "outputs": [],
   "source": [
    "user_log['time_mm'] = user_log['time_stamp'] // 100\n",
    "user_log['time_dd'] = user_log['time_stamp'] % 100"
   ]
  },
  {
   "cell_type": "markdown",
   "metadata": {},
   "outputs": [],
   "source": [
    "## B. Deal with missing value\n",
    "### Find out missing colunms"
   ]
  },
  {
   "cell_type": "code",
   "execution_count": 10,
   "metadata": {},
   "outputs": [],
   "source": [
    "def num_missing(x):\n",
    "  return sum(x.isnull())"
   ]
  },
  {
   "cell_type": "code",
   "execution_count": 11,
   "metadata": {},
   "outputs": [
    {
     "name": "stdout",
     "output_type": "stream",
     "text": "Missing values per column:\nTrain data missing: \n user_id        0\nmerchant_id    0\nlabel          0\ndtype: int64 \n\nUser_info data missing: \n user_id         0\nage_range    2217\ngender       6436\ndtype: int64 \n\nUser_log data missing: \n user_id            0\nitem_id            0\ncat_id             0\nmerchant_id        0\nbrand_id       91015\ntime_stamp         0\naction_type        0\ntime_mm            0\ntime_dd            0\ndtype: int64\n"
    }
   ],
   "source": [
    "print(\"Missing values per column:\")\n",
    "print(\"Train data missing: \\n\", train.apply(num_missing, axis=0),'\\n')\n",
    "print(\"User_info data missing: \\n\", user_info.apply(num_missing, axis=0),'\\n')\n",
    "print(\"User_log data missing: \\n\", user_log.apply(num_missing, axis=0))"
   ]
  },
  {
   "cell_type": "markdown",
   "metadata": {},
   "outputs": [],
   "source": [
    "### For User_info data\n",
    "1. Observation of \"age_range\" and \"gender\" in histogram."
   ]
  },
  {
   "cell_type": "code",
   "execution_count": 12,
   "metadata": {},
   "outputs": [
    {
     "data": {
      "text/plain": "<matplotlib.axes._subplots.AxesSubplot at 0x10e8a4320>"
     },
     "execution_count": 12,
     "metadata": {},
     "output_type": "execute_result"
    },
    {
     "data": {
      "image/png": "[encoded data removed]",
      "image/svg+xml": "<?xml version=\"1.0\" encoding=\"utf-8\" standalone=\"no\"?>\n<!DOCTYPE svg PUBLIC \"-//W3C//DTD SVG 1.1//EN\"\n  \"http://www.w3.org/Graphics/SVG/1.1/DTD/svg11.dtd\">\n<!-- Created with matplotlib (https://matplotlib.org/) -->\n<svg height=\"372.35625pt\" version=\"1.1\" viewBox=\"0 0 910.253125 372.35625\" width=\"910.253125pt\" xmlns=\"http://www.w3.org/2000/svg\" xmlns:xlink=\"http://www.w3.org/1999/xlink\">\n <defs>\n  <style type=\"text/css\">\n*{stroke-linecap:butt;stroke-linejoin:round;}\n  </style>\n </defs>\n <g id=\"figure_1\">\n  <g id=\"patch_1\">\n   <path d=\"M 0 372.35625 \nL 910.253125 372.35625 \nL 910.253125 0 \nL 0 0 \nz\n\" style=\"fill:none;\"/>\n  </g>\n  <g id=\"axes_1\">\n   <g id=\"patch_2\">\n    <path d=\"M 66.053125 348.478125 \nL 446.50767 348.478125 \nL 446.50767 22.318125 \nL 66.053125 22.318125 \nz\n\" style=\"fill:#ffffff;\"/>\n   </g>\n   <g id=\"patch_3\">\n    <path clip-path=\"url(#p188573aee8)\" d=\"M 83.346513 348.478125 \nL 198.63577 348.478125 \nL 198.63577 37.849554 \nL 83.346513 37.849554 \nz\n\" style=\"fill:#1f77b4;stroke:#000000;stroke-linejoin:miter;\"/>\n   </g>\n   <g id=\"patch_4\">\n    <path clip-path=\"url(#p188573aee8)\" d=\"M 198.63577 348.478125 \nL 313.925026 348.478125 \nL 313.925026 216.163173 \nL 198.63577 216.163173 \nz\n\" style=\"fill:#1f77b4;stroke:#000000;stroke-linejoin:miter;\"/>\n   </g>\n   <g id=\"patch_5\">\n    <path clip-path=\"url(#p188573aee8)\" d=\"M 313.925026 348.478125 \nL 429.214282 348.478125 \nL 429.214282 337.139951 \nL 313.925026 337.139951 \nz\n\" style=\"fill:#1f77b4;stroke:#000000;stroke-linejoin:miter;\"/>\n   </g>\n   <g id=\"matplotlib.axis_1\">\n    <g id=\"xtick_1\">\n     <g id=\"line2d_1\">\n      <defs>\n       <path d=\"M 0 0 \nL 0 3.5 \n\" id=\"m7e7f08db2b\" style=\"stroke:#000000;stroke-width:0.8;\"/>\n      </defs>\n      <g>\n       <use style=\"stroke:#000000;stroke-width:0.8;\" x=\"83.346513\" xlink:href=\"#m7e7f08db2b\" y=\"348.478125\"/>\n      </g>\n     </g>\n     <g id=\"text_1\">\n      <!-- 0.00 -->\n      <defs>\n       <path d=\"M 31.78125 66.40625 \nQ 24.171875 66.40625 20.328125 58.90625 \nQ 16.5 51.421875 16.5 36.375 \nQ 16.5 21.390625 20.328125 13.890625 \nQ 24.171875 6.390625 31.78125 6.390625 \nQ 39.453125 6.390625 43.28125 13.890625 \nQ 47.125 21.390625 47.125 36.375 \nQ 47.125 51.421875 43.28125 58.90625 \nQ 39.453125 66.40625 31.78125 66.40625 \nz\nM 31.78125 74.21875 \nQ 44.046875 74.21875 50.515625 64.515625 \nQ 56.984375 54.828125 56.984375 36.375 \nQ 56.984375 17.96875 50.515625 8.265625 \nQ 44.046875 -1.421875 31.78125 -1.421875 \nQ 19.53125 -1.421875 13.0625 8.265625 \nQ 6.59375 17.96875 6.59375 36.375 \nQ 6.59375 54.828125 13.0625 64.515625 \nQ 19.53125 74.21875 31.78125 74.21875 \nz\n\" id=\"DejaVuSans-48\"/>\n       <path d=\"M 10.6875 12.40625 \nL 21 12.40625 \nL 21 0 \nL 10.6875 0 \nz\n\" id=\"DejaVuSans-46\"/>\n      </defs>\n      <g transform=\"translate(72.213701 363.076563)scale(0.1 -0.1)\">\n       <use xlink:href=\"#DejaVuSans-48\"/>\n       <use x=\"63.623047\" xlink:href=\"#DejaVuSans-46\"/>\n       <use x=\"95.410156\" xlink:href=\"#DejaVuSans-48\"/>\n       <use x=\"159.033203\" xlink:href=\"#DejaVuSans-48\"/>\n      </g>\n     </g>\n    </g>\n    <g id=\"xtick_2\">\n     <g id=\"line2d_2\">\n      <g>\n       <use style=\"stroke:#000000;stroke-width:0.8;\" x=\"126.579985\" xlink:href=\"#m7e7f08db2b\" y=\"348.478125\"/>\n      </g>\n     </g>\n     <g id=\"text_2\">\n      <!-- 0.25 -->\n      <defs>\n       <path d=\"M 19.1875 8.296875 \nL 53.609375 8.296875 \nL 53.609375 0 \nL 7.328125 0 \nL 7.328125 8.296875 \nQ 12.9375 14.109375 22.625 23.890625 \nQ 32.328125 33.6875 34.8125 36.53125 \nQ 39.546875 41.84375 41.421875 45.53125 \nQ 43.3125 49.21875 43.3125 52.78125 \nQ 43.3125 58.59375 39.234375 62.25 \nQ 35.15625 65.921875 28.609375 65.921875 \nQ 23.96875 65.921875 18.8125 64.3125 \nQ 13.671875 62.703125 7.8125 59.421875 \nL 7.8125 69.390625 \nQ 13.765625 71.78125 18.9375 73 \nQ 24.125 74.21875 28.421875 74.21875 \nQ 39.75 74.21875 46.484375 68.546875 \nQ 53.21875 62.890625 53.21875 53.421875 \nQ 53.21875 48.921875 51.53125 44.890625 \nQ 49.859375 40.875 45.40625 35.40625 \nQ 44.1875 33.984375 37.640625 27.21875 \nQ 31.109375 20.453125 19.1875 8.296875 \nz\n\" id=\"DejaVuSans-50\"/>\n       <path d=\"M 10.796875 72.90625 \nL 49.515625 72.90625 \nL 49.515625 64.59375 \nL 19.828125 64.59375 \nL 19.828125 46.734375 \nQ 21.96875 47.46875 24.109375 47.828125 \nQ 26.265625 48.1875 28.421875 48.1875 \nQ 40.625 48.1875 47.75 41.5 \nQ 54.890625 34.8125 54.890625 23.390625 \nQ 54.890625 11.625 47.5625 5.09375 \nQ 40.234375 -1.421875 26.90625 -1.421875 \nQ 22.3125 -1.421875 17.546875 -0.640625 \nQ 12.796875 0.140625 7.71875 1.703125 \nL 7.71875 11.625 \nQ 12.109375 9.234375 16.796875 8.0625 \nQ 21.484375 6.890625 26.703125 6.890625 \nQ 35.15625 6.890625 40.078125 11.328125 \nQ 45.015625 15.765625 45.015625 23.390625 \nQ 45.015625 31 40.078125 35.4375 \nQ 35.15625 39.890625 26.703125 39.890625 \nQ 22.75 39.890625 18.8125 39.015625 \nQ 14.890625 38.140625 10.796875 36.28125 \nz\n\" id=\"DejaVuSans-53\"/>\n      </defs>\n      <g transform=\"translate(115.447172 363.076563)scale(0.1 -0.1)\">\n       <use xlink:href=\"#DejaVuSans-48\"/>\n       <use x=\"63.623047\" xlink:href=\"#DejaVuSans-46\"/>\n       <use x=\"95.410156\" xlink:href=\"#DejaVuSans-50\"/>\n       <use x=\"159.033203\" xlink:href=\"#DejaVuSans-53\"/>\n      </g>\n     </g>\n    </g>\n    <g id=\"xtick_3\">\n     <g id=\"line2d_3\">\n      <g>\n       <use style=\"stroke:#000000;stroke-width:0.8;\" x=\"169.813456\" xlink:href=\"#m7e7f08db2b\" y=\"348.478125\"/>\n      </g>\n     </g>\n     <g id=\"text_3\">\n      <!-- 0.50 -->\n      <g transform=\"translate(158.680643 363.076563)scale(0.1 -0.1)\">\n       <use xlink:href=\"#DejaVuSans-48\"/>\n       <use x=\"63.623047\" xlink:href=\"#DejaVuSans-46\"/>\n       <use x=\"95.410156\" xlink:href=\"#DejaVuSans-53\"/>\n       <use x=\"159.033203\" xlink:href=\"#DejaVuSans-48\"/>\n      </g>\n     </g>\n    </g>\n    <g id=\"xtick_4\">\n     <g id=\"line2d_4\">\n      <g>\n       <use style=\"stroke:#000000;stroke-width:0.8;\" x=\"213.046927\" xlink:href=\"#m7e7f08db2b\" y=\"348.478125\"/>\n      </g>\n     </g>\n     <g id=\"text_4\">\n      <!-- 0.75 -->\n      <defs>\n       <path d=\"M 8.203125 72.90625 \nL 55.078125 72.90625 \nL 55.078125 68.703125 \nL 28.609375 0 \nL 18.3125 0 \nL 43.21875 64.59375 \nL 8.203125 64.59375 \nz\n\" id=\"DejaVuSans-55\"/>\n      </defs>\n      <g transform=\"translate(201.914114 363.076563)scale(0.1 -0.1)\">\n       <use xlink:href=\"#DejaVuSans-48\"/>\n       <use x=\"63.623047\" xlink:href=\"#DejaVuSans-46\"/>\n       <use x=\"95.410156\" xlink:href=\"#DejaVuSans-55\"/>\n       <use x=\"159.033203\" xlink:href=\"#DejaVuSans-53\"/>\n      </g>\n     </g>\n    </g>\n    <g id=\"xtick_5\">\n     <g id=\"line2d_5\">\n      <g>\n       <use style=\"stroke:#000000;stroke-width:0.8;\" x=\"256.280398\" xlink:href=\"#m7e7f08db2b\" y=\"348.478125\"/>\n      </g>\n     </g>\n     <g id=\"text_5\">\n      <!-- 1.00 -->\n      <defs>\n       <path d=\"M 12.40625 8.296875 \nL 28.515625 8.296875 \nL 28.515625 63.921875 \nL 10.984375 60.40625 \nL 10.984375 69.390625 \nL 28.421875 72.90625 \nL 38.28125 72.90625 \nL 38.28125 8.296875 \nL 54.390625 8.296875 \nL 54.390625 0 \nL 12.40625 0 \nz\n\" id=\"DejaVuSans-49\"/>\n      </defs>\n      <g transform=\"translate(245.147585 363.076563)scale(0.1 -0.1)\">\n       <use xlink:href=\"#DejaVuSans-49\"/>\n       <use x=\"63.623047\" xlink:href=\"#DejaVuSans-46\"/>\n       <use x=\"95.410156\" xlink:href=\"#DejaVuSans-48\"/>\n       <use x=\"159.033203\" xlink:href=\"#DejaVuSans-48\"/>\n      </g>\n     </g>\n    </g>\n    <g id=\"xtick_6\">\n     <g id=\"line2d_6\">\n      <g>\n       <use style=\"stroke:#000000;stroke-width:0.8;\" x=\"299.513869\" xlink:href=\"#m7e7f08db2b\" y=\"348.478125\"/>\n      </g>\n     </g>\n     <g id=\"text_6\">\n      <!-- 1.25 -->\n      <g transform=\"translate(288.381056 363.076563)scale(0.1 -0.1)\">\n       <use xlink:href=\"#DejaVuSans-49\"/>\n       <use x=\"63.623047\" xlink:href=\"#DejaVuSans-46\"/>\n       <use x=\"95.410156\" xlink:href=\"#DejaVuSans-50\"/>\n       <use x=\"159.033203\" xlink:href=\"#DejaVuSans-53\"/>\n      </g>\n     </g>\n    </g>\n    <g id=\"xtick_7\">\n     <g id=\"line2d_7\">\n      <g>\n       <use style=\"stroke:#000000;stroke-width:0.8;\" x=\"342.74734\" xlink:href=\"#m7e7f08db2b\" y=\"348.478125\"/>\n      </g>\n     </g>\n     <g id=\"text_7\">\n      <!-- 1.50 -->\n      <g transform=\"translate(331.614527 363.076563)scale(0.1 -0.1)\">\n       <use xlink:href=\"#DejaVuSans-49\"/>\n       <use x=\"63.623047\" xlink:href=\"#DejaVuSans-46\"/>\n       <use x=\"95.410156\" xlink:href=\"#DejaVuSans-53\"/>\n       <use x=\"159.033203\" xlink:href=\"#DejaVuSans-48\"/>\n      </g>\n     </g>\n    </g>\n    <g id=\"xtick_8\">\n     <g id=\"line2d_8\">\n      <g>\n       <use style=\"stroke:#000000;stroke-width:0.8;\" x=\"385.980811\" xlink:href=\"#m7e7f08db2b\" y=\"348.478125\"/>\n      </g>\n     </g>\n     <g id=\"text_8\">\n      <!-- 1.75 -->\n      <g transform=\"translate(374.847998 363.076563)scale(0.1 -0.1)\">\n       <use xlink:href=\"#DejaVuSans-49\"/>\n       <use x=\"63.623047\" xlink:href=\"#DejaVuSans-46\"/>\n       <use x=\"95.410156\" xlink:href=\"#DejaVuSans-55\"/>\n       <use x=\"159.033203\" xlink:href=\"#DejaVuSans-53\"/>\n      </g>\n     </g>\n    </g>\n    <g id=\"xtick_9\">\n     <g id=\"line2d_9\">\n      <g>\n       <use style=\"stroke:#000000;stroke-width:0.8;\" x=\"429.214282\" xlink:href=\"#m7e7f08db2b\" y=\"348.478125\"/>\n      </g>\n     </g>\n     <g id=\"text_9\">\n      <!-- 2.00 -->\n      <g transform=\"translate(418.08147 363.076563)scale(0.1 -0.1)\">\n       <use xlink:href=\"#DejaVuSans-50\"/>\n       <use x=\"63.623047\" xlink:href=\"#DejaVuSans-46\"/>\n       <use x=\"95.410156\" xlink:href=\"#DejaVuSans-48\"/>\n       <use x=\"159.033203\" xlink:href=\"#DejaVuSans-48\"/>\n      </g>\n     </g>\n    </g>\n   </g>\n   <g id=\"matplotlib.axis_2\">\n    <g id=\"ytick_1\">\n     <g id=\"line2d_10\">\n      <defs>\n       <path d=\"M 0 0 \nL -3.5 0 \n\" id=\"md694fad7e5\" style=\"stroke:#000000;stroke-width:0.8;\"/>\n      </defs>\n      <g>\n       <use style=\"stroke:#000000;stroke-width:0.8;\" x=\"66.053125\" xlink:href=\"#md694fad7e5\" y=\"348.478125\"/>\n      </g>\n     </g>\n     <g id=\"text_10\">\n      <!-- 0 -->\n      <g transform=\"translate(52.690625 352.277344)scale(0.1 -0.1)\">\n       <use xlink:href=\"#DejaVuSans-48\"/>\n      </g>\n     </g>\n    </g>\n    <g id=\"ytick_2\">\n     <g id=\"line2d_11\">\n      <g>\n       <use style=\"stroke:#000000;stroke-width:0.8;\" x=\"66.053125\" xlink:href=\"#md694fad7e5\" y=\"294.103607\"/>\n      </g>\n     </g>\n     <g id=\"text_11\">\n      <!-- 50000 -->\n      <g transform=\"translate(27.240625 297.902826)scale(0.1 -0.1)\">\n       <use xlink:href=\"#DejaVuSans-53\"/>\n       <use x=\"63.623047\" xlink:href=\"#DejaVuSans-48\"/>\n       <use x=\"127.246094\" xlink:href=\"#DejaVuSans-48\"/>\n       <use x=\"190.869141\" xlink:href=\"#DejaVuSans-48\"/>\n       <use x=\"254.492188\" xlink:href=\"#DejaVuSans-48\"/>\n      </g>\n     </g>\n    </g>\n    <g id=\"ytick_3\">\n     <g id=\"line2d_12\">\n      <g>\n       <use style=\"stroke:#000000;stroke-width:0.8;\" x=\"66.053125\" xlink:href=\"#md694fad7e5\" y=\"239.729089\"/>\n      </g>\n     </g>\n     <g id=\"text_12\">\n      <!-- 100000 -->\n      <g transform=\"translate(20.878125 243.528308)scale(0.1 -0.1)\">\n       <use xlink:href=\"#DejaVuSans-49\"/>\n       <use x=\"63.623047\" xlink:href=\"#DejaVuSans-48\"/>\n       <use x=\"127.246094\" xlink:href=\"#DejaVuSans-48\"/>\n       <use x=\"190.869141\" xlink:href=\"#DejaVuSans-48\"/>\n       <use x=\"254.492188\" xlink:href=\"#DejaVuSans-48\"/>\n       <use x=\"318.115234\" xlink:href=\"#DejaVuSans-48\"/>\n      </g>\n     </g>\n    </g>\n    <g id=\"ytick_4\">\n     <g id=\"line2d_13\">\n      <g>\n       <use style=\"stroke:#000000;stroke-width:0.8;\" x=\"66.053125\" xlink:href=\"#md694fad7e5\" y=\"185.354571\"/>\n      </g>\n     </g>\n     <g id=\"text_13\">\n      <!-- 150000 -->\n      <g transform=\"translate(20.878125 189.15379)scale(0.1 -0.1)\">\n       <use xlink:href=\"#DejaVuSans-49\"/>\n       <use x=\"63.623047\" xlink:href=\"#DejaVuSans-53\"/>\n       <use x=\"127.246094\" xlink:href=\"#DejaVuSans-48\"/>\n       <use x=\"190.869141\" xlink:href=\"#DejaVuSans-48\"/>\n       <use x=\"254.492188\" xlink:href=\"#DejaVuSans-48\"/>\n       <use x=\"318.115234\" xlink:href=\"#DejaVuSans-48\"/>\n      </g>\n     </g>\n    </g>\n    <g id=\"ytick_5\">\n     <g id=\"line2d_14\">\n      <g>\n       <use style=\"stroke:#000000;stroke-width:0.8;\" x=\"66.053125\" xlink:href=\"#md694fad7e5\" y=\"130.980053\"/>\n      </g>\n     </g>\n     <g id=\"text_14\">\n      <!-- 200000 -->\n      <g transform=\"translate(20.878125 134.779272)scale(0.1 -0.1)\">\n       <use xlink:href=\"#DejaVuSans-50\"/>\n       <use x=\"63.623047\" xlink:href=\"#DejaVuSans-48\"/>\n       <use x=\"127.246094\" xlink:href=\"#DejaVuSans-48\"/>\n       <use x=\"190.869141\" xlink:href=\"#DejaVuSans-48\"/>\n       <use x=\"254.492188\" xlink:href=\"#DejaVuSans-48\"/>\n       <use x=\"318.115234\" xlink:href=\"#DejaVuSans-48\"/>\n      </g>\n     </g>\n    </g>\n    <g id=\"ytick_6\">\n     <g id=\"line2d_15\">\n      <g>\n       <use style=\"stroke:#000000;stroke-width:0.8;\" x=\"66.053125\" xlink:href=\"#md694fad7e5\" y=\"76.605535\"/>\n      </g>\n     </g>\n     <g id=\"text_15\">\n      <!-- 250000 -->\n      <g transform=\"translate(20.878125 80.404754)scale(0.1 -0.1)\">\n       <use xlink:href=\"#DejaVuSans-50\"/>\n       <use x=\"63.623047\" xlink:href=\"#DejaVuSans-53\"/>\n       <use x=\"127.246094\" xlink:href=\"#DejaVuSans-48\"/>\n       <use x=\"190.869141\" xlink:href=\"#DejaVuSans-48\"/>\n       <use x=\"254.492188\" xlink:href=\"#DejaVuSans-48\"/>\n       <use x=\"318.115234\" xlink:href=\"#DejaVuSans-48\"/>\n      </g>\n     </g>\n    </g>\n    <g id=\"text_16\">\n     <!-- Frequency -->\n     <defs>\n      <path d=\"M 9.8125 72.90625 \nL 51.703125 72.90625 \nL 51.703125 64.59375 \nL 19.671875 64.59375 \nL 19.671875 43.109375 \nL 48.578125 43.109375 \nL 48.578125 34.8125 \nL 19.671875 34.8125 \nL 19.671875 0 \nL 9.8125 0 \nz\n\" id=\"DejaVuSans-70\"/>\n      <path d=\"M 41.109375 46.296875 \nQ 39.59375 47.171875 37.8125 47.578125 \nQ 36.03125 48 33.890625 48 \nQ 26.265625 48 22.1875 43.046875 \nQ 18.109375 38.09375 18.109375 28.8125 \nL 18.109375 0 \nL 9.078125 0 \nL 9.078125 54.6875 \nL 18.109375 54.6875 \nL 18.109375 46.1875 \nQ 20.953125 51.171875 25.484375 53.578125 \nQ 30.03125 56 36.53125 56 \nQ 37.453125 56 38.578125 55.875 \nQ 39.703125 55.765625 41.0625 55.515625 \nz\n\" id=\"DejaVuSans-114\"/>\n      <path d=\"M 56.203125 29.59375 \nL 56.203125 25.203125 \nL 14.890625 25.203125 \nQ 15.484375 15.921875 20.484375 11.0625 \nQ 25.484375 6.203125 34.421875 6.203125 \nQ 39.59375 6.203125 44.453125 7.46875 \nQ 49.3125 8.734375 54.109375 11.28125 \nL 54.109375 2.78125 \nQ 49.265625 0.734375 44.1875 -0.34375 \nQ 39.109375 -1.421875 33.890625 -1.421875 \nQ 20.796875 -1.421875 13.15625 6.1875 \nQ 5.515625 13.8125 5.515625 26.8125 \nQ 5.515625 40.234375 12.765625 48.109375 \nQ 20.015625 56 32.328125 56 \nQ 43.359375 56 49.78125 48.890625 \nQ 56.203125 41.796875 56.203125 29.59375 \nz\nM 47.21875 32.234375 \nQ 47.125 39.59375 43.09375 43.984375 \nQ 39.0625 48.390625 32.421875 48.390625 \nQ 24.90625 48.390625 20.390625 44.140625 \nQ 15.875 39.890625 15.1875 32.171875 \nz\n\" id=\"DejaVuSans-101\"/>\n      <path d=\"M 14.796875 27.296875 \nQ 14.796875 17.390625 18.875 11.75 \nQ 22.953125 6.109375 30.078125 6.109375 \nQ 37.203125 6.109375 41.296875 11.75 \nQ 45.40625 17.390625 45.40625 27.296875 \nQ 45.40625 37.203125 41.296875 42.84375 \nQ 37.203125 48.484375 30.078125 48.484375 \nQ 22.953125 48.484375 18.875 42.84375 \nQ 14.796875 37.203125 14.796875 27.296875 \nz\nM 45.40625 8.203125 \nQ 42.578125 3.328125 38.25 0.953125 \nQ 33.9375 -1.421875 27.875 -1.421875 \nQ 17.96875 -1.421875 11.734375 6.484375 \nQ 5.515625 14.40625 5.515625 27.296875 \nQ 5.515625 40.1875 11.734375 48.09375 \nQ 17.96875 56 27.875 56 \nQ 33.9375 56 38.25 53.625 \nQ 42.578125 51.265625 45.40625 46.390625 \nL 45.40625 54.6875 \nL 54.390625 54.6875 \nL 54.390625 -20.796875 \nL 45.40625 -20.796875 \nz\n\" id=\"DejaVuSans-113\"/>\n      <path d=\"M 8.5 21.578125 \nL 8.5 54.6875 \nL 17.484375 54.6875 \nL 17.484375 21.921875 \nQ 17.484375 14.15625 20.5 10.265625 \nQ 23.53125 6.390625 29.59375 6.390625 \nQ 36.859375 6.390625 41.078125 11.03125 \nQ 45.3125 15.671875 45.3125 23.6875 \nL 45.3125 54.6875 \nL 54.296875 54.6875 \nL 54.296875 0 \nL 45.3125 0 \nL 45.3125 8.40625 \nQ 42.046875 3.421875 37.71875 1 \nQ 33.40625 -1.421875 27.6875 -1.421875 \nQ 18.265625 -1.421875 13.375 4.4375 \nQ 8.5 10.296875 8.5 21.578125 \nz\nM 31.109375 56 \nz\n\" id=\"DejaVuSans-117\"/>\n      <path d=\"M 54.890625 33.015625 \nL 54.890625 0 \nL 45.90625 0 \nL 45.90625 32.71875 \nQ 45.90625 40.484375 42.875 44.328125 \nQ 39.84375 48.1875 33.796875 48.1875 \nQ 26.515625 48.1875 22.3125 43.546875 \nQ 18.109375 38.921875 18.109375 30.90625 \nL 18.109375 0 \nL 9.078125 0 \nL 9.078125 54.6875 \nL 18.109375 54.6875 \nL 18.109375 46.1875 \nQ 21.34375 51.125 25.703125 53.5625 \nQ 30.078125 56 35.796875 56 \nQ 45.21875 56 50.046875 50.171875 \nQ 54.890625 44.34375 54.890625 33.015625 \nz\n\" id=\"DejaVuSans-110\"/>\n      <path d=\"M 48.78125 52.59375 \nL 48.78125 44.1875 \nQ 44.96875 46.296875 41.140625 47.34375 \nQ 37.3125 48.390625 33.40625 48.390625 \nQ 24.65625 48.390625 19.8125 42.84375 \nQ 14.984375 37.3125 14.984375 27.296875 \nQ 14.984375 17.28125 19.8125 11.734375 \nQ 24.65625 6.203125 33.40625 6.203125 \nQ 37.3125 6.203125 41.140625 7.25 \nQ 44.96875 8.296875 48.78125 10.40625 \nL 48.78125 2.09375 \nQ 45.015625 0.34375 40.984375 -0.53125 \nQ 36.96875 -1.421875 32.421875 -1.421875 \nQ 20.0625 -1.421875 12.78125 6.34375 \nQ 5.515625 14.109375 5.515625 27.296875 \nQ 5.515625 40.671875 12.859375 48.328125 \nQ 20.21875 56 33.015625 56 \nQ 37.15625 56 41.109375 55.140625 \nQ 45.0625 54.296875 48.78125 52.59375 \nz\n\" id=\"DejaVuSans-99\"/>\n      <path d=\"M 32.171875 -5.078125 \nQ 28.375 -14.84375 24.75 -17.8125 \nQ 21.140625 -20.796875 15.09375 -20.796875 \nL 7.90625 -20.796875 \nL 7.90625 -13.28125 \nL 13.1875 -13.28125 \nQ 16.890625 -13.28125 18.9375 -11.515625 \nQ 21 -9.765625 23.484375 -3.21875 \nL 25.09375 0.875 \nL 2.984375 54.6875 \nL 12.5 54.6875 \nL 29.59375 11.921875 \nL 46.6875 54.6875 \nL 56.203125 54.6875 \nz\n\" id=\"DejaVuSans-121\"/>\n     </defs>\n     <g transform=\"translate(14.798438 211.695781)rotate(-90)scale(0.1 -0.1)\">\n      <use xlink:href=\"#DejaVuSans-70\"/>\n      <use x=\"57.410156\" xlink:href=\"#DejaVuSans-114\"/>\n      <use x=\"98.492188\" xlink:href=\"#DejaVuSans-101\"/>\n      <use x=\"160.015625\" xlink:href=\"#DejaVuSans-113\"/>\n      <use x=\"223.492188\" xlink:href=\"#DejaVuSans-117\"/>\n      <use x=\"286.871094\" xlink:href=\"#DejaVuSans-101\"/>\n      <use x=\"348.394531\" xlink:href=\"#DejaVuSans-110\"/>\n      <use x=\"411.773438\" xlink:href=\"#DejaVuSans-99\"/>\n      <use x=\"466.753906\" xlink:href=\"#DejaVuSans-121\"/>\n     </g>\n    </g>\n   </g>\n   <g id=\"patch_6\">\n    <path d=\"M 66.053125 348.478125 \nL 66.053125 22.318125 \n\" style=\"fill:none;stroke:#000000;stroke-linecap:square;stroke-linejoin:miter;stroke-width:0.8;\"/>\n   </g>\n   <g id=\"patch_7\">\n    <path d=\"M 446.50767 348.478125 \nL 446.50767 22.318125 \n\" style=\"fill:none;stroke:#000000;stroke-linecap:square;stroke-linejoin:miter;stroke-width:0.8;\"/>\n   </g>\n   <g id=\"patch_8\">\n    <path d=\"M 66.053125 348.478125 \nL 446.50767 348.478125 \n\" style=\"fill:none;stroke:#000000;stroke-linecap:square;stroke-linejoin:miter;stroke-width:0.8;\"/>\n   </g>\n   <g id=\"patch_9\">\n    <path d=\"M 66.053125 22.318125 \nL 446.50767 22.318125 \n\" style=\"fill:none;stroke:#000000;stroke-linecap:square;stroke-linejoin:miter;stroke-width:0.8;\"/>\n   </g>\n   <g id=\"text_17\">\n    <!-- Gender -->\n    <defs>\n     <path d=\"M 59.515625 10.40625 \nL 59.515625 29.984375 \nL 43.40625 29.984375 \nL 43.40625 38.09375 \nL 69.28125 38.09375 \nL 69.28125 6.78125 \nQ 63.578125 2.734375 56.6875 0.65625 \nQ 49.8125 -1.421875 42 -1.421875 \nQ 24.90625 -1.421875 15.25 8.5625 \nQ 5.609375 18.5625 5.609375 36.375 \nQ 5.609375 54.25 15.25 64.234375 \nQ 24.90625 74.21875 42 74.21875 \nQ 49.125 74.21875 55.546875 72.453125 \nQ 61.96875 70.703125 67.390625 67.28125 \nL 67.390625 56.78125 \nQ 61.921875 61.421875 55.765625 63.765625 \nQ 49.609375 66.109375 42.828125 66.109375 \nQ 29.4375 66.109375 22.71875 58.640625 \nQ 16.015625 51.171875 16.015625 36.375 \nQ 16.015625 21.625 22.71875 14.15625 \nQ 29.4375 6.6875 42.828125 6.6875 \nQ 48.046875 6.6875 52.140625 7.59375 \nQ 56.25 8.5 59.515625 10.40625 \nz\n\" id=\"DejaVuSans-71\"/>\n     <path d=\"M 45.40625 46.390625 \nL 45.40625 75.984375 \nL 54.390625 75.984375 \nL 54.390625 0 \nL 45.40625 0 \nL 45.40625 8.203125 \nQ 42.578125 3.328125 38.25 0.953125 \nQ 33.9375 -1.421875 27.875 -1.421875 \nQ 17.96875 -1.421875 11.734375 6.484375 \nQ 5.515625 14.40625 5.515625 27.296875 \nQ 5.515625 40.1875 11.734375 48.09375 \nQ 17.96875 56 27.875 56 \nQ 33.9375 56 38.25 53.625 \nQ 42.578125 51.265625 45.40625 46.390625 \nz\nM 14.796875 27.296875 \nQ 14.796875 17.390625 18.875 11.75 \nQ 22.953125 6.109375 30.078125 6.109375 \nQ 37.203125 6.109375 41.296875 11.75 \nQ 45.40625 17.390625 45.40625 27.296875 \nQ 45.40625 37.203125 41.296875 42.84375 \nQ 37.203125 48.484375 30.078125 48.484375 \nQ 22.953125 48.484375 18.875 42.84375 \nQ 14.796875 37.203125 14.796875 27.296875 \nz\n\" id=\"DejaVuSans-100\"/>\n    </defs>\n    <g transform=\"translate(234.16946 16.318125)scale(0.12 -0.12)\">\n     <use xlink:href=\"#DejaVuSans-71\"/>\n     <use x=\"77.490234\" xlink:href=\"#DejaVuSans-101\"/>\n     <use x=\"139.013672\" xlink:href=\"#DejaVuSans-110\"/>\n     <use x=\"202.392578\" xlink:href=\"#DejaVuSans-100\"/>\n     <use x=\"265.869141\" xlink:href=\"#DejaVuSans-101\"/>\n     <use x=\"327.392578\" xlink:href=\"#DejaVuSans-114\"/>\n    </g>\n   </g>\n  </g>\n  <g id=\"axes_2\">\n   <g id=\"patch_10\">\n    <path d=\"M 522.59858 348.478125 \nL 903.053125 348.478125 \nL 903.053125 22.318125 \nL 522.59858 22.318125 \nz\n\" style=\"fill:#ffffff;\"/>\n   </g>\n   <g id=\"patch_11\">\n    <path clip-path=\"url(#pfb357268e3)\" d=\"M 539.891968 348.478125 \nL 589.301649 348.478125 \nL 589.301649 89.918663 \nL 539.891968 89.918663 \nz\n\" style=\"fill:#1f77b4;stroke:#000000;stroke-linejoin:miter;\"/>\n   </g>\n   <g id=\"patch_12\">\n    <path clip-path=\"url(#pfb357268e3)\" d=\"M 589.301649 348.478125 \nL 638.71133 348.478125 \nL 638.71133 201.38762 \nL 589.301649 201.38762 \nz\n\" style=\"fill:#1f77b4;stroke:#000000;stroke-linejoin:miter;\"/>\n   </g>\n   <g id=\"patch_13\">\n    <path clip-path=\"url(#pfb357268e3)\" d=\"M 638.71133 348.478125 \nL 688.121012 348.478125 \nL 688.121012 37.849554 \nL 638.71133 37.849554 \nz\n\" style=\"fill:#1f77b4;stroke:#000000;stroke-linejoin:miter;\"/>\n   </g>\n   <g id=\"patch_14\">\n    <path clip-path=\"url(#pfb357268e3)\" d=\"M 688.121012 348.478125 \nL 737.530693 348.478125 \nL 737.530693 125.938045 \nL 688.121012 125.938045 \nz\n\" style=\"fill:#1f77b4;stroke:#000000;stroke-linejoin:miter;\"/>\n   </g>\n   <g id=\"patch_15\">\n    <path clip-path=\"url(#pfb357268e3)\" d=\"M 737.530693 348.478125 \nL 786.940374 348.478125 \nL 786.940374 235.033902 \nL 737.530693 235.033902 \nz\n\" style=\"fill:#1f77b4;stroke:#000000;stroke-linejoin:miter;\"/>\n   </g>\n   <g id=\"patch_16\">\n    <path clip-path=\"url(#pfb357268e3)\" d=\"M 786.940374 348.478125 \nL 836.350055 348.478125 \nL 836.350055 249.815008 \nL 786.940374 249.815008 \nz\n\" style=\"fill:#1f77b4;stroke:#000000;stroke-linejoin:miter;\"/>\n   </g>\n   <g id=\"patch_17\">\n    <path clip-path=\"url(#pfb357268e3)\" d=\"M 836.350055 348.478125 \nL 885.759737 348.478125 \nL 885.759737 325.503841 \nL 836.350055 325.503841 \nz\n\" style=\"fill:#1f77b4;stroke:#000000;stroke-linejoin:miter;\"/>\n   </g>\n   <g id=\"matplotlib.axis_3\">\n    <g id=\"xtick_10\">\n     <g id=\"line2d_16\">\n      <g>\n       <use style=\"stroke:#000000;stroke-width:0.8;\" x=\"539.891968\" xlink:href=\"#m7e7f08db2b\" y=\"348.478125\"/>\n      </g>\n     </g>\n     <g id=\"text_18\">\n      <!-- 0 -->\n      <g transform=\"translate(536.710718 363.076563)scale(0.1 -0.1)\">\n       <use xlink:href=\"#DejaVuSans-48\"/>\n      </g>\n     </g>\n    </g>\n    <g id=\"xtick_11\">\n     <g id=\"line2d_17\">\n      <g>\n       <use style=\"stroke:#000000;stroke-width:0.8;\" x=\"583.125439\" xlink:href=\"#m7e7f08db2b\" y=\"348.478125\"/>\n      </g>\n     </g>\n     <g id=\"text_19\">\n      <!-- 1 -->\n      <g transform=\"translate(579.944189 363.076563)scale(0.1 -0.1)\">\n       <use xlink:href=\"#DejaVuSans-49\"/>\n      </g>\n     </g>\n    </g>\n    <g id=\"xtick_12\">\n     <g id=\"line2d_18\">\n      <g>\n       <use style=\"stroke:#000000;stroke-width:0.8;\" x=\"626.35891\" xlink:href=\"#m7e7f08db2b\" y=\"348.478125\"/>\n      </g>\n     </g>\n     <g id=\"text_20\">\n      <!-- 2 -->\n      <g transform=\"translate(623.17766 363.076563)scale(0.1 -0.1)\">\n       <use xlink:href=\"#DejaVuSans-50\"/>\n      </g>\n     </g>\n    </g>\n    <g id=\"xtick_13\">\n     <g id=\"line2d_19\">\n      <g>\n       <use style=\"stroke:#000000;stroke-width:0.8;\" x=\"669.592381\" xlink:href=\"#m7e7f08db2b\" y=\"348.478125\"/>\n      </g>\n     </g>\n     <g id=\"text_21\">\n      <!-- 3 -->\n      <defs>\n       <path d=\"M 40.578125 39.3125 \nQ 47.65625 37.796875 51.625 33 \nQ 55.609375 28.21875 55.609375 21.1875 \nQ 55.609375 10.40625 48.1875 4.484375 \nQ 40.765625 -1.421875 27.09375 -1.421875 \nQ 22.515625 -1.421875 17.65625 -0.515625 \nQ 12.796875 0.390625 7.625 2.203125 \nL 7.625 11.71875 \nQ 11.71875 9.328125 16.59375 8.109375 \nQ 21.484375 6.890625 26.8125 6.890625 \nQ 36.078125 6.890625 40.9375 10.546875 \nQ 45.796875 14.203125 45.796875 21.1875 \nQ 45.796875 27.640625 41.28125 31.265625 \nQ 36.765625 34.90625 28.71875 34.90625 \nL 20.21875 34.90625 \nL 20.21875 43.015625 \nL 29.109375 43.015625 \nQ 36.375 43.015625 40.234375 45.921875 \nQ 44.09375 48.828125 44.09375 54.296875 \nQ 44.09375 59.90625 40.109375 62.90625 \nQ 36.140625 65.921875 28.71875 65.921875 \nQ 24.65625 65.921875 20.015625 65.03125 \nQ 15.375 64.15625 9.8125 62.3125 \nL 9.8125 71.09375 \nQ 15.4375 72.65625 20.34375 73.4375 \nQ 25.25 74.21875 29.59375 74.21875 \nQ 40.828125 74.21875 47.359375 69.109375 \nQ 53.90625 64.015625 53.90625 55.328125 \nQ 53.90625 49.265625 50.4375 45.09375 \nQ 46.96875 40.921875 40.578125 39.3125 \nz\n\" id=\"DejaVuSans-51\"/>\n      </defs>\n      <g transform=\"translate(666.411131 363.076563)scale(0.1 -0.1)\">\n       <use xlink:href=\"#DejaVuSans-51\"/>\n      </g>\n     </g>\n    </g>\n    <g id=\"xtick_14\">\n     <g id=\"line2d_20\">\n      <g>\n       <use style=\"stroke:#000000;stroke-width:0.8;\" x=\"712.825852\" xlink:href=\"#m7e7f08db2b\" y=\"348.478125\"/>\n      </g>\n     </g>\n     <g id=\"text_22\">\n      <!-- 4 -->\n      <defs>\n       <path d=\"M 37.796875 64.3125 \nL 12.890625 25.390625 \nL 37.796875 25.390625 \nz\nM 35.203125 72.90625 \nL 47.609375 72.90625 \nL 47.609375 25.390625 \nL 58.015625 25.390625 \nL 58.015625 17.1875 \nL 47.609375 17.1875 \nL 47.609375 0 \nL 37.796875 0 \nL 37.796875 17.1875 \nL 4.890625 17.1875 \nL 4.890625 26.703125 \nz\n\" id=\"DejaVuSans-52\"/>\n      </defs>\n      <g transform=\"translate(709.644602 363.076563)scale(0.1 -0.1)\">\n       <use xlink:href=\"#DejaVuSans-52\"/>\n      </g>\n     </g>\n    </g>\n    <g id=\"xtick_15\">\n     <g id=\"line2d_21\">\n      <g>\n       <use style=\"stroke:#000000;stroke-width:0.8;\" x=\"756.059323\" xlink:href=\"#m7e7f08db2b\" y=\"348.478125\"/>\n      </g>\n     </g>\n     <g id=\"text_23\">\n      <!-- 5 -->\n      <g transform=\"translate(752.878073 363.076563)scale(0.1 -0.1)\">\n       <use xlink:href=\"#DejaVuSans-53\"/>\n      </g>\n     </g>\n    </g>\n    <g id=\"xtick_16\">\n     <g id=\"line2d_22\">\n      <g>\n       <use style=\"stroke:#000000;stroke-width:0.8;\" x=\"799.292794\" xlink:href=\"#m7e7f08db2b\" y=\"348.478125\"/>\n      </g>\n     </g>\n     <g id=\"text_24\">\n      <!-- 6 -->\n      <defs>\n       <path d=\"M 33.015625 40.375 \nQ 26.375 40.375 22.484375 35.828125 \nQ 18.609375 31.296875 18.609375 23.390625 \nQ 18.609375 15.53125 22.484375 10.953125 \nQ 26.375 6.390625 33.015625 6.390625 \nQ 39.65625 6.390625 43.53125 10.953125 \nQ 47.40625 15.53125 47.40625 23.390625 \nQ 47.40625 31.296875 43.53125 35.828125 \nQ 39.65625 40.375 33.015625 40.375 \nz\nM 52.59375 71.296875 \nL 52.59375 62.3125 \nQ 48.875 64.0625 45.09375 64.984375 \nQ 41.3125 65.921875 37.59375 65.921875 \nQ 27.828125 65.921875 22.671875 59.328125 \nQ 17.53125 52.734375 16.796875 39.40625 \nQ 19.671875 43.65625 24.015625 45.921875 \nQ 28.375 48.1875 33.59375 48.1875 \nQ 44.578125 48.1875 50.953125 41.515625 \nQ 57.328125 34.859375 57.328125 23.390625 \nQ 57.328125 12.15625 50.6875 5.359375 \nQ 44.046875 -1.421875 33.015625 -1.421875 \nQ 20.359375 -1.421875 13.671875 8.265625 \nQ 6.984375 17.96875 6.984375 36.375 \nQ 6.984375 53.65625 15.1875 63.9375 \nQ 23.390625 74.21875 37.203125 74.21875 \nQ 40.921875 74.21875 44.703125 73.484375 \nQ 48.484375 72.75 52.59375 71.296875 \nz\n\" id=\"DejaVuSans-54\"/>\n      </defs>\n      <g transform=\"translate(796.111544 363.076563)scale(0.1 -0.1)\">\n       <use xlink:href=\"#DejaVuSans-54\"/>\n      </g>\n     </g>\n    </g>\n    <g id=\"xtick_17\">\n     <g id=\"line2d_23\">\n      <g>\n       <use style=\"stroke:#000000;stroke-width:0.8;\" x=\"842.526265\" xlink:href=\"#m7e7f08db2b\" y=\"348.478125\"/>\n      </g>\n     </g>\n     <g id=\"text_25\">\n      <!-- 7 -->\n      <g transform=\"translate(839.345015 363.076563)scale(0.1 -0.1)\">\n       <use xlink:href=\"#DejaVuSans-55\"/>\n      </g>\n     </g>\n    </g>\n    <g id=\"xtick_18\">\n     <g id=\"line2d_24\">\n      <g>\n       <use style=\"stroke:#000000;stroke-width:0.8;\" x=\"885.759737\" xlink:href=\"#m7e7f08db2b\" y=\"348.478125\"/>\n      </g>\n     </g>\n     <g id=\"text_26\">\n      <!-- 8 -->\n      <defs>\n       <path d=\"M 31.78125 34.625 \nQ 24.75 34.625 20.71875 30.859375 \nQ 16.703125 27.09375 16.703125 20.515625 \nQ 16.703125 13.921875 20.71875 10.15625 \nQ 24.75 6.390625 31.78125 6.390625 \nQ 38.8125 6.390625 42.859375 10.171875 \nQ 46.921875 13.96875 46.921875 20.515625 \nQ 46.921875 27.09375 42.890625 30.859375 \nQ 38.875 34.625 31.78125 34.625 \nz\nM 21.921875 38.8125 \nQ 15.578125 40.375 12.03125 44.71875 \nQ 8.5 49.078125 8.5 55.328125 \nQ 8.5 64.0625 14.71875 69.140625 \nQ 20.953125 74.21875 31.78125 74.21875 \nQ 42.671875 74.21875 48.875 69.140625 \nQ 55.078125 64.0625 55.078125 55.328125 \nQ 55.078125 49.078125 51.53125 44.71875 \nQ 48 40.375 41.703125 38.8125 \nQ 48.828125 37.15625 52.796875 32.3125 \nQ 56.78125 27.484375 56.78125 20.515625 \nQ 56.78125 9.90625 50.3125 4.234375 \nQ 43.84375 -1.421875 31.78125 -1.421875 \nQ 19.734375 -1.421875 13.25 4.234375 \nQ 6.78125 9.90625 6.78125 20.515625 \nQ 6.78125 27.484375 10.78125 32.3125 \nQ 14.796875 37.15625 21.921875 38.8125 \nz\nM 18.3125 54.390625 \nQ 18.3125 48.734375 21.84375 45.5625 \nQ 25.390625 42.390625 31.78125 42.390625 \nQ 38.140625 42.390625 41.71875 45.5625 \nQ 45.3125 48.734375 45.3125 54.390625 \nQ 45.3125 60.0625 41.71875 63.234375 \nQ 38.140625 66.40625 31.78125 66.40625 \nQ 25.390625 66.40625 21.84375 63.234375 \nQ 18.3125 60.0625 18.3125 54.390625 \nz\n\" id=\"DejaVuSans-56\"/>\n      </defs>\n      <g transform=\"translate(882.578487 363.076563)scale(0.1 -0.1)\">\n       <use xlink:href=\"#DejaVuSans-56\"/>\n      </g>\n     </g>\n    </g>\n   </g>\n   <g id=\"matplotlib.axis_4\">\n    <g id=\"ytick_7\">\n     <g id=\"line2d_25\">\n      <g>\n       <use style=\"stroke:#000000;stroke-width:0.8;\" x=\"522.59858\" xlink:href=\"#md694fad7e5\" y=\"348.478125\"/>\n      </g>\n     </g>\n     <g id=\"text_27\">\n      <!-- 0 -->\n      <g transform=\"translate(509.23608 352.277344)scale(0.1 -0.1)\">\n       <use xlink:href=\"#DejaVuSans-48\"/>\n      </g>\n     </g>\n    </g>\n    <g id=\"ytick_8\">\n     <g id=\"line2d_26\">\n      <g>\n       <use style=\"stroke:#000000;stroke-width:0.8;\" x=\"522.59858\" xlink:href=\"#md694fad7e5\" y=\"292.836845\"/>\n      </g>\n     </g>\n     <g id=\"text_28\">\n      <!-- 20000 -->\n      <g transform=\"translate(483.78608 296.636064)scale(0.1 -0.1)\">\n       <use xlink:href=\"#DejaVuSans-50\"/>\n       <use x=\"63.623047\" xlink:href=\"#DejaVuSans-48\"/>\n       <use x=\"127.246094\" xlink:href=\"#DejaVuSans-48\"/>\n       <use x=\"190.869141\" xlink:href=\"#DejaVuSans-48\"/>\n       <use x=\"254.492188\" xlink:href=\"#DejaVuSans-48\"/>\n      </g>\n     </g>\n    </g>\n    <g id=\"ytick_9\">\n     <g id=\"line2d_27\">\n      <g>\n       <use style=\"stroke:#000000;stroke-width:0.8;\" x=\"522.59858\" xlink:href=\"#md694fad7e5\" y=\"237.195566\"/>\n      </g>\n     </g>\n     <g id=\"text_29\">\n      <!-- 40000 -->\n      <g transform=\"translate(483.78608 240.994785)scale(0.1 -0.1)\">\n       <use xlink:href=\"#DejaVuSans-52\"/>\n       <use x=\"63.623047\" xlink:href=\"#DejaVuSans-48\"/>\n       <use x=\"127.246094\" xlink:href=\"#DejaVuSans-48\"/>\n       <use x=\"190.869141\" xlink:href=\"#DejaVuSans-48\"/>\n       <use x=\"254.492188\" xlink:href=\"#DejaVuSans-48\"/>\n      </g>\n     </g>\n    </g>\n    <g id=\"ytick_10\">\n     <g id=\"line2d_28\">\n      <g>\n       <use style=\"stroke:#000000;stroke-width:0.8;\" x=\"522.59858\" xlink:href=\"#md694fad7e5\" y=\"181.554286\"/>\n      </g>\n     </g>\n     <g id=\"text_30\">\n      <!-- 60000 -->\n      <g transform=\"translate(483.78608 185.353505)scale(0.1 -0.1)\">\n       <use xlink:href=\"#DejaVuSans-54\"/>\n       <use x=\"63.623047\" xlink:href=\"#DejaVuSans-48\"/>\n       <use x=\"127.246094\" xlink:href=\"#DejaVuSans-48\"/>\n       <use x=\"190.869141\" xlink:href=\"#DejaVuSans-48\"/>\n       <use x=\"254.492188\" xlink:href=\"#DejaVuSans-48\"/>\n      </g>\n     </g>\n    </g>\n    <g id=\"ytick_11\">\n     <g id=\"line2d_29\">\n      <g>\n       <use style=\"stroke:#000000;stroke-width:0.8;\" x=\"522.59858\" xlink:href=\"#md694fad7e5\" y=\"125.913007\"/>\n      </g>\n     </g>\n     <g id=\"text_31\">\n      <!-- 80000 -->\n      <g transform=\"translate(483.78608 129.712225)scale(0.1 -0.1)\">\n       <use xlink:href=\"#DejaVuSans-56\"/>\n       <use x=\"63.623047\" xlink:href=\"#DejaVuSans-48\"/>\n       <use x=\"127.246094\" xlink:href=\"#DejaVuSans-48\"/>\n       <use x=\"190.869141\" xlink:href=\"#DejaVuSans-48\"/>\n       <use x=\"254.492188\" xlink:href=\"#DejaVuSans-48\"/>\n      </g>\n     </g>\n    </g>\n    <g id=\"ytick_12\">\n     <g id=\"line2d_30\">\n      <g>\n       <use style=\"stroke:#000000;stroke-width:0.8;\" x=\"522.59858\" xlink:href=\"#md694fad7e5\" y=\"70.271727\"/>\n      </g>\n     </g>\n     <g id=\"text_32\">\n      <!-- 100000 -->\n      <g transform=\"translate(477.42358 74.070946)scale(0.1 -0.1)\">\n       <use xlink:href=\"#DejaVuSans-49\"/>\n       <use x=\"63.623047\" xlink:href=\"#DejaVuSans-48\"/>\n       <use x=\"127.246094\" xlink:href=\"#DejaVuSans-48\"/>\n       <use x=\"190.869141\" xlink:href=\"#DejaVuSans-48\"/>\n       <use x=\"254.492188\" xlink:href=\"#DejaVuSans-48\"/>\n       <use x=\"318.115234\" xlink:href=\"#DejaVuSans-48\"/>\n      </g>\n     </g>\n    </g>\n    <g id=\"text_33\">\n     <!-- Frequency -->\n     <g transform=\"translate(471.343892 211.695781)rotate(-90)scale(0.1 -0.1)\">\n      <use xlink:href=\"#DejaVuSans-70\"/>\n      <use x=\"57.410156\" xlink:href=\"#DejaVuSans-114\"/>\n      <use x=\"98.492188\" xlink:href=\"#DejaVuSans-101\"/>\n      <use x=\"160.015625\" xlink:href=\"#DejaVuSans-113\"/>\n      <use x=\"223.492188\" xlink:href=\"#DejaVuSans-117\"/>\n      <use x=\"286.871094\" xlink:href=\"#DejaVuSans-101\"/>\n      <use x=\"348.394531\" xlink:href=\"#DejaVuSans-110\"/>\n      <use x=\"411.773438\" xlink:href=\"#DejaVuSans-99\"/>\n      <use x=\"466.753906\" xlink:href=\"#DejaVuSans-121\"/>\n     </g>\n    </g>\n   </g>\n   <g id=\"patch_18\">\n    <path d=\"M 522.59858 348.478125 \nL 522.59858 22.318125 \n\" style=\"fill:none;stroke:#000000;stroke-linecap:square;stroke-linejoin:miter;stroke-width:0.8;\"/>\n   </g>\n   <g id=\"patch_19\">\n    <path d=\"M 903.053125 348.478125 \nL 903.053125 22.318125 \n\" style=\"fill:none;stroke:#000000;stroke-linecap:square;stroke-linejoin:miter;stroke-width:0.8;\"/>\n   </g>\n   <g id=\"patch_20\">\n    <path d=\"M 522.59858 348.478125 \nL 903.053125 348.478125 \n\" style=\"fill:none;stroke:#000000;stroke-linecap:square;stroke-linejoin:miter;stroke-width:0.8;\"/>\n   </g>\n   <g id=\"patch_21\">\n    <path d=\"M 522.59858 22.318125 \nL 903.053125 22.318125 \n\" style=\"fill:none;stroke:#000000;stroke-linecap:square;stroke-linejoin:miter;stroke-width:0.8;\"/>\n   </g>\n   <g id=\"text_34\">\n    <!-- Age Range -->\n    <defs>\n     <path d=\"M 34.1875 63.1875 \nL 20.796875 26.90625 \nL 47.609375 26.90625 \nz\nM 28.609375 72.90625 \nL 39.796875 72.90625 \nL 67.578125 0 \nL 57.328125 0 \nL 50.6875 18.703125 \nL 17.828125 18.703125 \nL 11.1875 0 \nL 0.78125 0 \nz\n\" id=\"DejaVuSans-65\"/>\n     <path d=\"M 45.40625 27.984375 \nQ 45.40625 37.75 41.375 43.109375 \nQ 37.359375 48.484375 30.078125 48.484375 \nQ 22.859375 48.484375 18.828125 43.109375 \nQ 14.796875 37.75 14.796875 27.984375 \nQ 14.796875 18.265625 18.828125 12.890625 \nQ 22.859375 7.515625 30.078125 7.515625 \nQ 37.359375 7.515625 41.375 12.890625 \nQ 45.40625 18.265625 45.40625 27.984375 \nz\nM 54.390625 6.78125 \nQ 54.390625 -7.171875 48.1875 -13.984375 \nQ 42 -20.796875 29.203125 -20.796875 \nQ 24.46875 -20.796875 20.265625 -20.09375 \nQ 16.0625 -19.390625 12.109375 -17.921875 \nL 12.109375 -9.1875 \nQ 16.0625 -11.328125 19.921875 -12.34375 \nQ 23.78125 -13.375 27.78125 -13.375 \nQ 36.625 -13.375 41.015625 -8.765625 \nQ 45.40625 -4.15625 45.40625 5.171875 \nL 45.40625 9.625 \nQ 42.625 4.78125 38.28125 2.390625 \nQ 33.9375 0 27.875 0 \nQ 17.828125 0 11.671875 7.65625 \nQ 5.515625 15.328125 5.515625 27.984375 \nQ 5.515625 40.671875 11.671875 48.328125 \nQ 17.828125 56 27.875 56 \nQ 33.9375 56 38.28125 53.609375 \nQ 42.625 51.21875 45.40625 46.390625 \nL 45.40625 54.6875 \nL 54.390625 54.6875 \nz\n\" id=\"DejaVuSans-103\"/>\n     <path id=\"DejaVuSans-32\"/>\n     <path d=\"M 44.390625 34.1875 \nQ 47.5625 33.109375 50.5625 29.59375 \nQ 53.5625 26.078125 56.59375 19.921875 \nL 66.609375 0 \nL 56 0 \nL 46.6875 18.703125 \nQ 43.0625 26.03125 39.671875 28.421875 \nQ 36.28125 30.8125 30.421875 30.8125 \nL 19.671875 30.8125 \nL 19.671875 0 \nL 9.8125 0 \nL 9.8125 72.90625 \nL 32.078125 72.90625 \nQ 44.578125 72.90625 50.734375 67.671875 \nQ 56.890625 62.453125 56.890625 51.90625 \nQ 56.890625 45.015625 53.6875 40.46875 \nQ 50.484375 35.9375 44.390625 34.1875 \nz\nM 19.671875 64.796875 \nL 19.671875 38.921875 \nL 32.078125 38.921875 \nQ 39.203125 38.921875 42.84375 42.21875 \nQ 46.484375 45.515625 46.484375 51.90625 \nQ 46.484375 58.296875 42.84375 61.546875 \nQ 39.203125 64.796875 32.078125 64.796875 \nz\n\" id=\"DejaVuSans-82\"/>\n     <path d=\"M 34.28125 27.484375 \nQ 23.390625 27.484375 19.1875 25 \nQ 14.984375 22.515625 14.984375 16.5 \nQ 14.984375 11.71875 18.140625 8.90625 \nQ 21.296875 6.109375 26.703125 6.109375 \nQ 34.1875 6.109375 38.703125 11.40625 \nQ 43.21875 16.703125 43.21875 25.484375 \nL 43.21875 27.484375 \nz\nM 52.203125 31.203125 \nL 52.203125 0 \nL 43.21875 0 \nL 43.21875 8.296875 \nQ 40.140625 3.328125 35.546875 0.953125 \nQ 30.953125 -1.421875 24.3125 -1.421875 \nQ 15.921875 -1.421875 10.953125 3.296875 \nQ 6 8.015625 6 15.921875 \nQ 6 25.140625 12.171875 29.828125 \nQ 18.359375 34.515625 30.609375 34.515625 \nL 43.21875 34.515625 \nL 43.21875 35.40625 \nQ 43.21875 41.609375 39.140625 45 \nQ 35.0625 48.390625 27.6875 48.390625 \nQ 23 48.390625 18.546875 47.265625 \nQ 14.109375 46.140625 10.015625 43.890625 \nL 10.015625 52.203125 \nQ 14.9375 54.109375 19.578125 55.046875 \nQ 24.21875 56 28.609375 56 \nQ 40.484375 56 46.34375 49.84375 \nQ 52.203125 43.703125 52.203125 31.203125 \nz\n\" id=\"DejaVuSans-97\"/>\n    </defs>\n    <g transform=\"translate(680.166165 16.318125)scale(0.12 -0.12)\">\n     <use xlink:href=\"#DejaVuSans-65\"/>\n     <use x=\"68.408203\" xlink:href=\"#DejaVuSans-103\"/>\n     <use x=\"131.884766\" xlink:href=\"#DejaVuSans-101\"/>\n     <use x=\"193.408203\" xlink:href=\"#DejaVuSans-32\"/>\n     <use x=\"225.195312\" xlink:href=\"#DejaVuSans-82\"/>\n     <use x=\"294.646484\" xlink:href=\"#DejaVuSans-97\"/>\n     <use x=\"355.925781\" xlink:href=\"#DejaVuSans-110\"/>\n     <use x=\"419.304688\" xlink:href=\"#DejaVuSans-103\"/>\n     <use x=\"482.78125\" xlink:href=\"#DejaVuSans-101\"/>\n    </g>\n   </g>\n  </g>\n </g>\n <defs>\n  <clipPath id=\"p188573aee8\">\n   <rect height=\"326.16\" width=\"380.454545\" x=\"66.053125\" y=\"22.318125\"/>\n  </clipPath>\n  <clipPath id=\"pfb357268e3\">\n   <rect height=\"326.16\" width=\"380.454545\" x=\"522.59858\" y=\"22.318125\"/>\n  </clipPath>\n </defs>\n</svg>\n",
      "text/plain": "<Figure size 1080x432 with 2 Axes>"
     },
     "metadata": {
      "needs_background": "light"
     },
     "output_type": "display_data"
    }
   ],
   "source": [
    "fig, axes = plt.subplots(nrows=1, ncols=2,figsize=(15, 6), sharey=False)\n",
    "user_info['gender'].plot.hist(ax=axes[0],bins=3,edgecolor='black', title=\"Gender\")\n",
    "user_info['age_range'].plot.hist(ax=axes[1],bins=7,edgecolor='black', title=\"Age Range\")"
   ]
  },
  {
   "cell_type": "markdown",
   "metadata": {},
   "outputs": [],
   "source": [
    "2. Drop empty \"gender\" and \"age_range\" data"
   ]
  },
  {
   "cell_type": "code",
   "execution_count": 13,
   "metadata": {},
   "outputs": [],
   "source": [
    "# fillna by by previous value\n",
    "# user_info.fillna(method='ffill',inplace=True)\n",
    "# dropna\n",
    "user_info['age_range'] = user_info['age_range'].fillna(value=0)\n",
    "user_info['gender'] = user_info['gender'].fillna(value=2)"
   ]
  },
  {
   "cell_type": "markdown",
   "metadata": {},
   "outputs": [],
   "source": [
    "3. Check result.  "
   ]
  },
  {
   "cell_type": "code",
   "execution_count": 14,
   "metadata": {},
   "outputs": [
    {
     "name": "stdout",
     "output_type": "stream",
     "text": "User_info data missing: \n user_id      0\nage_range    0\ngender       0\ndtype: int64 \n\n"
    }
   ],
   "source": [
    "print(\"User_info data missing: \\n\", user_info.apply(num_missing, axis=0),'\\n')"
   ]
  },
  {
   "cell_type": "code",
   "execution_count": 15,
   "metadata": {},
   "outputs": [
    {
     "data": {
      "text/plain": "<matplotlib.axes._subplots.AxesSubplot at 0x10ff718d0>"
     },
     "execution_count": 15,
     "metadata": {},
     "output_type": "execute_result"
    },
    {
     "data": {
      "image/png": "[encoded data removed]",
      "image/svg+xml": "<?xml version=\"1.0\" encoding=\"utf-8\" standalone=\"no\"?>\n<!DOCTYPE svg PUBLIC \"-//W3C//DTD SVG 1.1//EN\"\n  \"http://www.w3.org/Graphics/SVG/1.1/DTD/svg11.dtd\">\n<!-- Created with matplotlib (https://matplotlib.org/) -->\n<svg height=\"317.99625pt\" version=\"1.1\" viewBox=\"0 0 854.453125 317.99625\" width=\"854.453125pt\" xmlns=\"http://www.w3.org/2000/svg\" xmlns:xlink=\"http://www.w3.org/1999/xlink\">\n <defs>\n  <style type=\"text/css\">\n*{stroke-linecap:butt;stroke-linejoin:round;}\n  </style>\n </defs>\n <g id=\"figure_1\">\n  <g id=\"patch_1\">\n   <path d=\"M 0 317.99625 \nL 854.453125 317.99625 \nL 854.453125 0 \nL 0 0 \nz\n\" style=\"fill:none;\"/>\n  </g>\n  <g id=\"axes_1\">\n   <g id=\"patch_2\">\n    <path d=\"M 66.053125 294.118125 \nL 421.144034 294.118125 \nL 421.144034 22.318125 \nL 66.053125 22.318125 \nz\n\" style=\"fill:#ffffff;\"/>\n   </g>\n   <g id=\"patch_3\">\n    <path clip-path=\"url(#p994b9fd724)\" d=\"M 82.193621 294.118125 \nL 189.796927 294.118125 \nL 189.796927 35.260982 \nL 82.193621 35.260982 \nz\n\" style=\"fill:#1f77b4;stroke:#000000;stroke-linejoin:miter;\"/>\n   </g>\n   <g id=\"patch_4\">\n    <path clip-path=\"url(#p994b9fd724)\" d=\"M 189.796927 294.118125 \nL 297.400232 294.118125 \nL 297.400232 183.855665 \nL 189.796927 183.855665 \nz\n\" style=\"fill:#1f77b4;stroke:#000000;stroke-linejoin:miter;\"/>\n   </g>\n   <g id=\"patch_5\">\n    <path clip-path=\"url(#p994b9fd724)\" d=\"M 297.400232 294.118125 \nL 405.003538 294.118125 \nL 405.003538 278.837073 \nL 297.400232 278.837073 \nz\n\" style=\"fill:#1f77b4;stroke:#000000;stroke-linejoin:miter;\"/>\n   </g>\n   <g id=\"matplotlib.axis_1\">\n    <g id=\"xtick_1\">\n     <g id=\"line2d_1\">\n      <defs>\n       <path d=\"M 0 0 \nL 0 3.5 \n\" id=\"ma0d3c32beb\" style=\"stroke:#000000;stroke-width:0.8;\"/>\n      </defs>\n      <g>\n       <use style=\"stroke:#000000;stroke-width:0.8;\" x=\"82.193621\" xlink:href=\"#ma0d3c32beb\" y=\"294.118125\"/>\n      </g>\n     </g>\n     <g id=\"text_1\">\n      <!-- 0.00 -->\n      <defs>\n       <path d=\"M 31.78125 66.40625 \nQ 24.171875 66.40625 20.328125 58.90625 \nQ 16.5 51.421875 16.5 36.375 \nQ 16.5 21.390625 20.328125 13.890625 \nQ 24.171875 6.390625 31.78125 6.390625 \nQ 39.453125 6.390625 43.28125 13.890625 \nQ 47.125 21.390625 47.125 36.375 \nQ 47.125 51.421875 43.28125 58.90625 \nQ 39.453125 66.40625 31.78125 66.40625 \nz\nM 31.78125 74.21875 \nQ 44.046875 74.21875 50.515625 64.515625 \nQ 56.984375 54.828125 56.984375 36.375 \nQ 56.984375 17.96875 50.515625 8.265625 \nQ 44.046875 -1.421875 31.78125 -1.421875 \nQ 19.53125 -1.421875 13.0625 8.265625 \nQ 6.59375 17.96875 6.59375 36.375 \nQ 6.59375 54.828125 13.0625 64.515625 \nQ 19.53125 74.21875 31.78125 74.21875 \nz\n\" id=\"DejaVuSans-48\"/>\n       <path d=\"M 10.6875 12.40625 \nL 21 12.40625 \nL 21 0 \nL 10.6875 0 \nz\n\" id=\"DejaVuSans-46\"/>\n      </defs>\n      <g transform=\"translate(71.060808 308.716563)scale(0.1 -0.1)\">\n       <use xlink:href=\"#DejaVuSans-48\"/>\n       <use x=\"63.623047\" xlink:href=\"#DejaVuSans-46\"/>\n       <use x=\"95.410156\" xlink:href=\"#DejaVuSans-48\"/>\n       <use x=\"159.033203\" xlink:href=\"#DejaVuSans-48\"/>\n      </g>\n     </g>\n    </g>\n    <g id=\"xtick_2\">\n     <g id=\"line2d_2\">\n      <g>\n       <use style=\"stroke:#000000;stroke-width:0.8;\" x=\"122.544861\" xlink:href=\"#ma0d3c32beb\" y=\"294.118125\"/>\n      </g>\n     </g>\n     <g id=\"text_2\">\n      <!-- 0.25 -->\n      <defs>\n       <path d=\"M 19.1875 8.296875 \nL 53.609375 8.296875 \nL 53.609375 0 \nL 7.328125 0 \nL 7.328125 8.296875 \nQ 12.9375 14.109375 22.625 23.890625 \nQ 32.328125 33.6875 34.8125 36.53125 \nQ 39.546875 41.84375 41.421875 45.53125 \nQ 43.3125 49.21875 43.3125 52.78125 \nQ 43.3125 58.59375 39.234375 62.25 \nQ 35.15625 65.921875 28.609375 65.921875 \nQ 23.96875 65.921875 18.8125 64.3125 \nQ 13.671875 62.703125 7.8125 59.421875 \nL 7.8125 69.390625 \nQ 13.765625 71.78125 18.9375 73 \nQ 24.125 74.21875 28.421875 74.21875 \nQ 39.75 74.21875 46.484375 68.546875 \nQ 53.21875 62.890625 53.21875 53.421875 \nQ 53.21875 48.921875 51.53125 44.890625 \nQ 49.859375 40.875 45.40625 35.40625 \nQ 44.1875 33.984375 37.640625 27.21875 \nQ 31.109375 20.453125 19.1875 8.296875 \nz\n\" id=\"DejaVuSans-50\"/>\n       <path d=\"M 10.796875 72.90625 \nL 49.515625 72.90625 \nL 49.515625 64.59375 \nL 19.828125 64.59375 \nL 19.828125 46.734375 \nQ 21.96875 47.46875 24.109375 47.828125 \nQ 26.265625 48.1875 28.421875 48.1875 \nQ 40.625 48.1875 47.75 41.5 \nQ 54.890625 34.8125 54.890625 23.390625 \nQ 54.890625 11.625 47.5625 5.09375 \nQ 40.234375 -1.421875 26.90625 -1.421875 \nQ 22.3125 -1.421875 17.546875 -0.640625 \nQ 12.796875 0.140625 7.71875 1.703125 \nL 7.71875 11.625 \nQ 12.109375 9.234375 16.796875 8.0625 \nQ 21.484375 6.890625 26.703125 6.890625 \nQ 35.15625 6.890625 40.078125 11.328125 \nQ 45.015625 15.765625 45.015625 23.390625 \nQ 45.015625 31 40.078125 35.4375 \nQ 35.15625 39.890625 26.703125 39.890625 \nQ 22.75 39.890625 18.8125 39.015625 \nQ 14.890625 38.140625 10.796875 36.28125 \nz\n\" id=\"DejaVuSans-53\"/>\n      </defs>\n      <g transform=\"translate(111.412048 308.716563)scale(0.1 -0.1)\">\n       <use xlink:href=\"#DejaVuSans-48\"/>\n       <use x=\"63.623047\" xlink:href=\"#DejaVuSans-46\"/>\n       <use x=\"95.410156\" xlink:href=\"#DejaVuSans-50\"/>\n       <use x=\"159.033203\" xlink:href=\"#DejaVuSans-53\"/>\n      </g>\n     </g>\n    </g>\n    <g id=\"xtick_3\">\n     <g id=\"line2d_3\">\n      <g>\n       <use style=\"stroke:#000000;stroke-width:0.8;\" x=\"162.8961\" xlink:href=\"#ma0d3c32beb\" y=\"294.118125\"/>\n      </g>\n     </g>\n     <g id=\"text_3\">\n      <!-- 0.50 -->\n      <g transform=\"translate(151.763288 308.716563)scale(0.1 -0.1)\">\n       <use xlink:href=\"#DejaVuSans-48\"/>\n       <use x=\"63.623047\" xlink:href=\"#DejaVuSans-46\"/>\n       <use x=\"95.410156\" xlink:href=\"#DejaVuSans-53\"/>\n       <use x=\"159.033203\" xlink:href=\"#DejaVuSans-48\"/>\n      </g>\n     </g>\n    </g>\n    <g id=\"xtick_4\">\n     <g id=\"line2d_4\">\n      <g>\n       <use style=\"stroke:#000000;stroke-width:0.8;\" x=\"203.24734\" xlink:href=\"#ma0d3c32beb\" y=\"294.118125\"/>\n      </g>\n     </g>\n     <g id=\"text_4\">\n      <!-- 0.75 -->\n      <defs>\n       <path d=\"M 8.203125 72.90625 \nL 55.078125 72.90625 \nL 55.078125 68.703125 \nL 28.609375 0 \nL 18.3125 0 \nL 43.21875 64.59375 \nL 8.203125 64.59375 \nz\n\" id=\"DejaVuSans-55\"/>\n      </defs>\n      <g transform=\"translate(192.114527 308.716563)scale(0.1 -0.1)\">\n       <use xlink:href=\"#DejaVuSans-48\"/>\n       <use x=\"63.623047\" xlink:href=\"#DejaVuSans-46\"/>\n       <use x=\"95.410156\" xlink:href=\"#DejaVuSans-55\"/>\n       <use x=\"159.033203\" xlink:href=\"#DejaVuSans-53\"/>\n      </g>\n     </g>\n    </g>\n    <g id=\"xtick_5\">\n     <g id=\"line2d_5\">\n      <g>\n       <use style=\"stroke:#000000;stroke-width:0.8;\" x=\"243.59858\" xlink:href=\"#ma0d3c32beb\" y=\"294.118125\"/>\n      </g>\n     </g>\n     <g id=\"text_5\">\n      <!-- 1.00 -->\n      <defs>\n       <path d=\"M 12.40625 8.296875 \nL 28.515625 8.296875 \nL 28.515625 63.921875 \nL 10.984375 60.40625 \nL 10.984375 69.390625 \nL 28.421875 72.90625 \nL 38.28125 72.90625 \nL 38.28125 8.296875 \nL 54.390625 8.296875 \nL 54.390625 0 \nL 12.40625 0 \nz\n\" id=\"DejaVuSans-49\"/>\n      </defs>\n      <g transform=\"translate(232.465767 308.716563)scale(0.1 -0.1)\">\n       <use xlink:href=\"#DejaVuSans-49\"/>\n       <use x=\"63.623047\" xlink:href=\"#DejaVuSans-46\"/>\n       <use x=\"95.410156\" xlink:href=\"#DejaVuSans-48\"/>\n       <use x=\"159.033203\" xlink:href=\"#DejaVuSans-48\"/>\n      </g>\n     </g>\n    </g>\n    <g id=\"xtick_6\">\n     <g id=\"line2d_6\">\n      <g>\n       <use style=\"stroke:#000000;stroke-width:0.8;\" x=\"283.949819\" xlink:href=\"#ma0d3c32beb\" y=\"294.118125\"/>\n      </g>\n     </g>\n     <g id=\"text_6\">\n      <!-- 1.25 -->\n      <g transform=\"translate(272.817007 308.716563)scale(0.1 -0.1)\">\n       <use xlink:href=\"#DejaVuSans-49\"/>\n       <use x=\"63.623047\" xlink:href=\"#DejaVuSans-46\"/>\n       <use x=\"95.410156\" xlink:href=\"#DejaVuSans-50\"/>\n       <use x=\"159.033203\" xlink:href=\"#DejaVuSans-53\"/>\n      </g>\n     </g>\n    </g>\n    <g id=\"xtick_7\">\n     <g id=\"line2d_7\">\n      <g>\n       <use style=\"stroke:#000000;stroke-width:0.8;\" x=\"324.301059\" xlink:href=\"#ma0d3c32beb\" y=\"294.118125\"/>\n      </g>\n     </g>\n     <g id=\"text_7\">\n      <!-- 1.50 -->\n      <g transform=\"translate(313.168246 308.716563)scale(0.1 -0.1)\">\n       <use xlink:href=\"#DejaVuSans-49\"/>\n       <use x=\"63.623047\" xlink:href=\"#DejaVuSans-46\"/>\n       <use x=\"95.410156\" xlink:href=\"#DejaVuSans-53\"/>\n       <use x=\"159.033203\" xlink:href=\"#DejaVuSans-48\"/>\n      </g>\n     </g>\n    </g>\n    <g id=\"xtick_8\">\n     <g id=\"line2d_8\">\n      <g>\n       <use style=\"stroke:#000000;stroke-width:0.8;\" x=\"364.652299\" xlink:href=\"#ma0d3c32beb\" y=\"294.118125\"/>\n      </g>\n     </g>\n     <g id=\"text_8\">\n      <!-- 1.75 -->\n      <g transform=\"translate(353.519486 308.716563)scale(0.1 -0.1)\">\n       <use xlink:href=\"#DejaVuSans-49\"/>\n       <use x=\"63.623047\" xlink:href=\"#DejaVuSans-46\"/>\n       <use x=\"95.410156\" xlink:href=\"#DejaVuSans-55\"/>\n       <use x=\"159.033203\" xlink:href=\"#DejaVuSans-53\"/>\n      </g>\n     </g>\n    </g>\n    <g id=\"xtick_9\">\n     <g id=\"line2d_9\">\n      <g>\n       <use style=\"stroke:#000000;stroke-width:0.8;\" x=\"405.003538\" xlink:href=\"#ma0d3c32beb\" y=\"294.118125\"/>\n      </g>\n     </g>\n     <g id=\"text_9\">\n      <!-- 2.00 -->\n      <g transform=\"translate(393.870726 308.716563)scale(0.1 -0.1)\">\n       <use xlink:href=\"#DejaVuSans-50\"/>\n       <use x=\"63.623047\" xlink:href=\"#DejaVuSans-46\"/>\n       <use x=\"95.410156\" xlink:href=\"#DejaVuSans-48\"/>\n       <use x=\"159.033203\" xlink:href=\"#DejaVuSans-48\"/>\n      </g>\n     </g>\n    </g>\n   </g>\n   <g id=\"matplotlib.axis_2\">\n    <g id=\"ytick_1\">\n     <g id=\"line2d_10\">\n      <defs>\n       <path d=\"M 0 0 \nL -3.5 0 \n\" id=\"m7aecd7a60c\" style=\"stroke:#000000;stroke-width:0.8;\"/>\n      </defs>\n      <g>\n       <use style=\"stroke:#000000;stroke-width:0.8;\" x=\"66.053125\" xlink:href=\"#m7aecd7a60c\" y=\"294.118125\"/>\n      </g>\n     </g>\n     <g id=\"text_10\">\n      <!-- 0 -->\n      <g transform=\"translate(52.690625 297.917344)scale(0.1 -0.1)\">\n       <use xlink:href=\"#DejaVuSans-48\"/>\n      </g>\n     </g>\n    </g>\n    <g id=\"ytick_2\">\n     <g id=\"line2d_11\">\n      <g>\n       <use style=\"stroke:#000000;stroke-width:0.8;\" x=\"66.053125\" xlink:href=\"#m7aecd7a60c\" y=\"248.806027\"/>\n      </g>\n     </g>\n     <g id=\"text_11\">\n      <!-- 50000 -->\n      <g transform=\"translate(27.240625 252.605245)scale(0.1 -0.1)\">\n       <use xlink:href=\"#DejaVuSans-53\"/>\n       <use x=\"63.623047\" xlink:href=\"#DejaVuSans-48\"/>\n       <use x=\"127.246094\" xlink:href=\"#DejaVuSans-48\"/>\n       <use x=\"190.869141\" xlink:href=\"#DejaVuSans-48\"/>\n       <use x=\"254.492188\" xlink:href=\"#DejaVuSans-48\"/>\n      </g>\n     </g>\n    </g>\n    <g id=\"ytick_3\">\n     <g id=\"line2d_12\">\n      <g>\n       <use style=\"stroke:#000000;stroke-width:0.8;\" x=\"66.053125\" xlink:href=\"#m7aecd7a60c\" y=\"203.493928\"/>\n      </g>\n     </g>\n     <g id=\"text_12\">\n      <!-- 100000 -->\n      <g transform=\"translate(20.878125 207.293147)scale(0.1 -0.1)\">\n       <use xlink:href=\"#DejaVuSans-49\"/>\n       <use x=\"63.623047\" xlink:href=\"#DejaVuSans-48\"/>\n       <use x=\"127.246094\" xlink:href=\"#DejaVuSans-48\"/>\n       <use x=\"190.869141\" xlink:href=\"#DejaVuSans-48\"/>\n       <use x=\"254.492188\" xlink:href=\"#DejaVuSans-48\"/>\n       <use x=\"318.115234\" xlink:href=\"#DejaVuSans-48\"/>\n      </g>\n     </g>\n    </g>\n    <g id=\"ytick_4\">\n     <g id=\"line2d_13\">\n      <g>\n       <use style=\"stroke:#000000;stroke-width:0.8;\" x=\"66.053125\" xlink:href=\"#m7aecd7a60c\" y=\"158.18183\"/>\n      </g>\n     </g>\n     <g id=\"text_13\">\n      <!-- 150000 -->\n      <g transform=\"translate(20.878125 161.981049)scale(0.1 -0.1)\">\n       <use xlink:href=\"#DejaVuSans-49\"/>\n       <use x=\"63.623047\" xlink:href=\"#DejaVuSans-53\"/>\n       <use x=\"127.246094\" xlink:href=\"#DejaVuSans-48\"/>\n       <use x=\"190.869141\" xlink:href=\"#DejaVuSans-48\"/>\n       <use x=\"254.492188\" xlink:href=\"#DejaVuSans-48\"/>\n       <use x=\"318.115234\" xlink:href=\"#DejaVuSans-48\"/>\n      </g>\n     </g>\n    </g>\n    <g id=\"ytick_5\">\n     <g id=\"line2d_14\">\n      <g>\n       <use style=\"stroke:#000000;stroke-width:0.8;\" x=\"66.053125\" xlink:href=\"#m7aecd7a60c\" y=\"112.869732\"/>\n      </g>\n     </g>\n     <g id=\"text_14\">\n      <!-- 200000 -->\n      <g transform=\"translate(20.878125 116.66895)scale(0.1 -0.1)\">\n       <use xlink:href=\"#DejaVuSans-50\"/>\n       <use x=\"63.623047\" xlink:href=\"#DejaVuSans-48\"/>\n       <use x=\"127.246094\" xlink:href=\"#DejaVuSans-48\"/>\n       <use x=\"190.869141\" xlink:href=\"#DejaVuSans-48\"/>\n       <use x=\"254.492188\" xlink:href=\"#DejaVuSans-48\"/>\n       <use x=\"318.115234\" xlink:href=\"#DejaVuSans-48\"/>\n      </g>\n     </g>\n    </g>\n    <g id=\"ytick_6\">\n     <g id=\"line2d_15\">\n      <g>\n       <use style=\"stroke:#000000;stroke-width:0.8;\" x=\"66.053125\" xlink:href=\"#m7aecd7a60c\" y=\"67.557633\"/>\n      </g>\n     </g>\n     <g id=\"text_15\">\n      <!-- 250000 -->\n      <g transform=\"translate(20.878125 71.356852)scale(0.1 -0.1)\">\n       <use xlink:href=\"#DejaVuSans-50\"/>\n       <use x=\"63.623047\" xlink:href=\"#DejaVuSans-53\"/>\n       <use x=\"127.246094\" xlink:href=\"#DejaVuSans-48\"/>\n       <use x=\"190.869141\" xlink:href=\"#DejaVuSans-48\"/>\n       <use x=\"254.492188\" xlink:href=\"#DejaVuSans-48\"/>\n       <use x=\"318.115234\" xlink:href=\"#DejaVuSans-48\"/>\n      </g>\n     </g>\n    </g>\n    <g id=\"text_16\">\n     <!-- Frequency -->\n     <defs>\n      <path d=\"M 9.8125 72.90625 \nL 51.703125 72.90625 \nL 51.703125 64.59375 \nL 19.671875 64.59375 \nL 19.671875 43.109375 \nL 48.578125 43.109375 \nL 48.578125 34.8125 \nL 19.671875 34.8125 \nL 19.671875 0 \nL 9.8125 0 \nz\n\" id=\"DejaVuSans-70\"/>\n      <path d=\"M 41.109375 46.296875 \nQ 39.59375 47.171875 37.8125 47.578125 \nQ 36.03125 48 33.890625 48 \nQ 26.265625 48 22.1875 43.046875 \nQ 18.109375 38.09375 18.109375 28.8125 \nL 18.109375 0 \nL 9.078125 0 \nL 9.078125 54.6875 \nL 18.109375 54.6875 \nL 18.109375 46.1875 \nQ 20.953125 51.171875 25.484375 53.578125 \nQ 30.03125 56 36.53125 56 \nQ 37.453125 56 38.578125 55.875 \nQ 39.703125 55.765625 41.0625 55.515625 \nz\n\" id=\"DejaVuSans-114\"/>\n      <path d=\"M 56.203125 29.59375 \nL 56.203125 25.203125 \nL 14.890625 25.203125 \nQ 15.484375 15.921875 20.484375 11.0625 \nQ 25.484375 6.203125 34.421875 6.203125 \nQ 39.59375 6.203125 44.453125 7.46875 \nQ 49.3125 8.734375 54.109375 11.28125 \nL 54.109375 2.78125 \nQ 49.265625 0.734375 44.1875 -0.34375 \nQ 39.109375 -1.421875 33.890625 -1.421875 \nQ 20.796875 -1.421875 13.15625 6.1875 \nQ 5.515625 13.8125 5.515625 26.8125 \nQ 5.515625 40.234375 12.765625 48.109375 \nQ 20.015625 56 32.328125 56 \nQ 43.359375 56 49.78125 48.890625 \nQ 56.203125 41.796875 56.203125 29.59375 \nz\nM 47.21875 32.234375 \nQ 47.125 39.59375 43.09375 43.984375 \nQ 39.0625 48.390625 32.421875 48.390625 \nQ 24.90625 48.390625 20.390625 44.140625 \nQ 15.875 39.890625 15.1875 32.171875 \nz\n\" id=\"DejaVuSans-101\"/>\n      <path d=\"M 14.796875 27.296875 \nQ 14.796875 17.390625 18.875 11.75 \nQ 22.953125 6.109375 30.078125 6.109375 \nQ 37.203125 6.109375 41.296875 11.75 \nQ 45.40625 17.390625 45.40625 27.296875 \nQ 45.40625 37.203125 41.296875 42.84375 \nQ 37.203125 48.484375 30.078125 48.484375 \nQ 22.953125 48.484375 18.875 42.84375 \nQ 14.796875 37.203125 14.796875 27.296875 \nz\nM 45.40625 8.203125 \nQ 42.578125 3.328125 38.25 0.953125 \nQ 33.9375 -1.421875 27.875 -1.421875 \nQ 17.96875 -1.421875 11.734375 6.484375 \nQ 5.515625 14.40625 5.515625 27.296875 \nQ 5.515625 40.1875 11.734375 48.09375 \nQ 17.96875 56 27.875 56 \nQ 33.9375 56 38.25 53.625 \nQ 42.578125 51.265625 45.40625 46.390625 \nL 45.40625 54.6875 \nL 54.390625 54.6875 \nL 54.390625 -20.796875 \nL 45.40625 -20.796875 \nz\n\" id=\"DejaVuSans-113\"/>\n      <path d=\"M 8.5 21.578125 \nL 8.5 54.6875 \nL 17.484375 54.6875 \nL 17.484375 21.921875 \nQ 17.484375 14.15625 20.5 10.265625 \nQ 23.53125 6.390625 29.59375 6.390625 \nQ 36.859375 6.390625 41.078125 11.03125 \nQ 45.3125 15.671875 45.3125 23.6875 \nL 45.3125 54.6875 \nL 54.296875 54.6875 \nL 54.296875 0 \nL 45.3125 0 \nL 45.3125 8.40625 \nQ 42.046875 3.421875 37.71875 1 \nQ 33.40625 -1.421875 27.6875 -1.421875 \nQ 18.265625 -1.421875 13.375 4.4375 \nQ 8.5 10.296875 8.5 21.578125 \nz\nM 31.109375 56 \nz\n\" id=\"DejaVuSans-117\"/>\n      <path d=\"M 54.890625 33.015625 \nL 54.890625 0 \nL 45.90625 0 \nL 45.90625 32.71875 \nQ 45.90625 40.484375 42.875 44.328125 \nQ 39.84375 48.1875 33.796875 48.1875 \nQ 26.515625 48.1875 22.3125 43.546875 \nQ 18.109375 38.921875 18.109375 30.90625 \nL 18.109375 0 \nL 9.078125 0 \nL 9.078125 54.6875 \nL 18.109375 54.6875 \nL 18.109375 46.1875 \nQ 21.34375 51.125 25.703125 53.5625 \nQ 30.078125 56 35.796875 56 \nQ 45.21875 56 50.046875 50.171875 \nQ 54.890625 44.34375 54.890625 33.015625 \nz\n\" id=\"DejaVuSans-110\"/>\n      <path d=\"M 48.78125 52.59375 \nL 48.78125 44.1875 \nQ 44.96875 46.296875 41.140625 47.34375 \nQ 37.3125 48.390625 33.40625 48.390625 \nQ 24.65625 48.390625 19.8125 42.84375 \nQ 14.984375 37.3125 14.984375 27.296875 \nQ 14.984375 17.28125 19.8125 11.734375 \nQ 24.65625 6.203125 33.40625 6.203125 \nQ 37.3125 6.203125 41.140625 7.25 \nQ 44.96875 8.296875 48.78125 10.40625 \nL 48.78125 2.09375 \nQ 45.015625 0.34375 40.984375 -0.53125 \nQ 36.96875 -1.421875 32.421875 -1.421875 \nQ 20.0625 -1.421875 12.78125 6.34375 \nQ 5.515625 14.109375 5.515625 27.296875 \nQ 5.515625 40.671875 12.859375 48.328125 \nQ 20.21875 56 33.015625 56 \nQ 37.15625 56 41.109375 55.140625 \nQ 45.0625 54.296875 48.78125 52.59375 \nz\n\" id=\"DejaVuSans-99\"/>\n      <path d=\"M 32.171875 -5.078125 \nQ 28.375 -14.84375 24.75 -17.8125 \nQ 21.140625 -20.796875 15.09375 -20.796875 \nL 7.90625 -20.796875 \nL 7.90625 -13.28125 \nL 13.1875 -13.28125 \nQ 16.890625 -13.28125 18.9375 -11.515625 \nQ 21 -9.765625 23.484375 -3.21875 \nL 25.09375 0.875 \nL 2.984375 54.6875 \nL 12.5 54.6875 \nL 29.59375 11.921875 \nL 46.6875 54.6875 \nL 56.203125 54.6875 \nz\n\" id=\"DejaVuSans-121\"/>\n     </defs>\n     <g transform=\"translate(14.798438 184.515781)rotate(-90)scale(0.1 -0.1)\">\n      <use xlink:href=\"#DejaVuSans-70\"/>\n      <use x=\"57.410156\" xlink:href=\"#DejaVuSans-114\"/>\n      <use x=\"98.492188\" xlink:href=\"#DejaVuSans-101\"/>\n      <use x=\"160.015625\" xlink:href=\"#DejaVuSans-113\"/>\n      <use x=\"223.492188\" xlink:href=\"#DejaVuSans-117\"/>\n      <use x=\"286.871094\" xlink:href=\"#DejaVuSans-101\"/>\n      <use x=\"348.394531\" xlink:href=\"#DejaVuSans-110\"/>\n      <use x=\"411.773438\" xlink:href=\"#DejaVuSans-99\"/>\n      <use x=\"466.753906\" xlink:href=\"#DejaVuSans-121\"/>\n     </g>\n    </g>\n   </g>\n   <g id=\"patch_6\">\n    <path d=\"M 66.053125 294.118125 \nL 66.053125 22.318125 \n\" style=\"fill:none;stroke:#000000;stroke-linecap:square;stroke-linejoin:miter;stroke-width:0.8;\"/>\n   </g>\n   <g id=\"patch_7\">\n    <path d=\"M 421.144034 294.118125 \nL 421.144034 22.318125 \n\" style=\"fill:none;stroke:#000000;stroke-linecap:square;stroke-linejoin:miter;stroke-width:0.8;\"/>\n   </g>\n   <g id=\"patch_8\">\n    <path d=\"M 66.053125 294.118125 \nL 421.144034 294.118125 \n\" style=\"fill:none;stroke:#000000;stroke-linecap:square;stroke-linejoin:miter;stroke-width:0.8;\"/>\n   </g>\n   <g id=\"patch_9\">\n    <path d=\"M 66.053125 22.318125 \nL 421.144034 22.318125 \n\" style=\"fill:none;stroke:#000000;stroke-linecap:square;stroke-linejoin:miter;stroke-width:0.8;\"/>\n   </g>\n   <g id=\"text_17\">\n    <!-- Gender -->\n    <defs>\n     <path d=\"M 59.515625 10.40625 \nL 59.515625 29.984375 \nL 43.40625 29.984375 \nL 43.40625 38.09375 \nL 69.28125 38.09375 \nL 69.28125 6.78125 \nQ 63.578125 2.734375 56.6875 0.65625 \nQ 49.8125 -1.421875 42 -1.421875 \nQ 24.90625 -1.421875 15.25 8.5625 \nQ 5.609375 18.5625 5.609375 36.375 \nQ 5.609375 54.25 15.25 64.234375 \nQ 24.90625 74.21875 42 74.21875 \nQ 49.125 74.21875 55.546875 72.453125 \nQ 61.96875 70.703125 67.390625 67.28125 \nL 67.390625 56.78125 \nQ 61.921875 61.421875 55.765625 63.765625 \nQ 49.609375 66.109375 42.828125 66.109375 \nQ 29.4375 66.109375 22.71875 58.640625 \nQ 16.015625 51.171875 16.015625 36.375 \nQ 16.015625 21.625 22.71875 14.15625 \nQ 29.4375 6.6875 42.828125 6.6875 \nQ 48.046875 6.6875 52.140625 7.59375 \nQ 56.25 8.5 59.515625 10.40625 \nz\n\" id=\"DejaVuSans-71\"/>\n     <path d=\"M 45.40625 46.390625 \nL 45.40625 75.984375 \nL 54.390625 75.984375 \nL 54.390625 0 \nL 45.40625 0 \nL 45.40625 8.203125 \nQ 42.578125 3.328125 38.25 0.953125 \nQ 33.9375 -1.421875 27.875 -1.421875 \nQ 17.96875 -1.421875 11.734375 6.484375 \nQ 5.515625 14.40625 5.515625 27.296875 \nQ 5.515625 40.1875 11.734375 48.09375 \nQ 17.96875 56 27.875 56 \nQ 33.9375 56 38.25 53.625 \nQ 42.578125 51.265625 45.40625 46.390625 \nz\nM 14.796875 27.296875 \nQ 14.796875 17.390625 18.875 11.75 \nQ 22.953125 6.109375 30.078125 6.109375 \nQ 37.203125 6.109375 41.296875 11.75 \nQ 45.40625 17.390625 45.40625 27.296875 \nQ 45.40625 37.203125 41.296875 42.84375 \nQ 37.203125 48.484375 30.078125 48.484375 \nQ 22.953125 48.484375 18.875 42.84375 \nQ 14.796875 37.203125 14.796875 27.296875 \nz\n\" id=\"DejaVuSans-100\"/>\n    </defs>\n    <g transform=\"translate(221.487642 16.318125)scale(0.12 -0.12)\">\n     <use xlink:href=\"#DejaVuSans-71\"/>\n     <use x=\"77.490234\" xlink:href=\"#DejaVuSans-101\"/>\n     <use x=\"139.013672\" xlink:href=\"#DejaVuSans-110\"/>\n     <use x=\"202.392578\" xlink:href=\"#DejaVuSans-100\"/>\n     <use x=\"265.869141\" xlink:href=\"#DejaVuSans-101\"/>\n     <use x=\"327.392578\" xlink:href=\"#DejaVuSans-114\"/>\n    </g>\n   </g>\n  </g>\n  <g id=\"axes_2\">\n   <g id=\"patch_10\">\n    <path d=\"M 492.162216 294.118125 \nL 847.253125 294.118125 \nL 847.253125 22.318125 \nL 492.162216 22.318125 \nz\n\" style=\"fill:#ffffff;\"/>\n   </g>\n   <g id=\"patch_11\">\n    <path clip-path=\"url(#pabecb51e0d)\" d=\"M 508.302712 294.118125 \nL 554.418414 294.118125 \nL 554.418414 73.512043 \nL 508.302712 73.512043 \nz\n\" style=\"fill:#1f77b4;stroke:#000000;stroke-linejoin:miter;\"/>\n   </g>\n   <g id=\"patch_12\">\n    <path clip-path=\"url(#pabecb51e0d)\" d=\"M 554.418414 294.118125 \nL 600.534117 294.118125 \nL 600.534117 171.542705 \nL 554.418414 171.542705 \nz\n\" style=\"fill:#1f77b4;stroke:#000000;stroke-linejoin:miter;\"/>\n   </g>\n   <g id=\"patch_13\">\n    <path clip-path=\"url(#pabecb51e0d)\" d=\"M 600.534117 294.118125 \nL 646.649819 294.118125 \nL 646.649819 35.260982 \nL 600.534117 35.260982 \nz\n\" style=\"fill:#1f77b4;stroke:#000000;stroke-linejoin:miter;\"/>\n   </g>\n   <g id=\"patch_14\">\n    <path clip-path=\"url(#pabecb51e0d)\" d=\"M 646.649819 294.118125 \nL 692.765522 294.118125 \nL 692.765522 108.668059 \nL 646.649819 108.668059 \nz\n\" style=\"fill:#1f77b4;stroke:#000000;stroke-linejoin:miter;\"/>\n   </g>\n   <g id=\"patch_15\">\n    <path clip-path=\"url(#pabecb51e0d)\" d=\"M 692.765522 294.118125 \nL 738.881224 294.118125 \nL 738.881224 199.581273 \nL 692.765522 199.581273 \nz\n\" style=\"fill:#1f77b4;stroke:#000000;stroke-linejoin:miter;\"/>\n   </g>\n   <g id=\"patch_16\">\n    <path clip-path=\"url(#pabecb51e0d)\" d=\"M 738.881224 294.118125 \nL 784.996927 294.118125 \nL 784.996927 211.898861 \nL 738.881224 211.898861 \nz\n\" style=\"fill:#1f77b4;stroke:#000000;stroke-linejoin:miter;\"/>\n   </g>\n   <g id=\"patch_17\">\n    <path clip-path=\"url(#pabecb51e0d)\" d=\"M 784.996927 294.118125 \nL 831.112629 294.118125 \nL 831.112629 274.972888 \nL 784.996927 274.972888 \nz\n\" style=\"fill:#1f77b4;stroke:#000000;stroke-linejoin:miter;\"/>\n   </g>\n   <g id=\"matplotlib.axis_3\">\n    <g id=\"xtick_10\">\n     <g id=\"line2d_16\">\n      <g>\n       <use style=\"stroke:#000000;stroke-width:0.8;\" x=\"508.302712\" xlink:href=\"#ma0d3c32beb\" y=\"294.118125\"/>\n      </g>\n     </g>\n     <g id=\"text_18\">\n      <!-- 0 -->\n      <g transform=\"translate(505.121462 308.716563)scale(0.1 -0.1)\">\n       <use xlink:href=\"#DejaVuSans-48\"/>\n      </g>\n     </g>\n    </g>\n    <g id=\"xtick_11\">\n     <g id=\"line2d_17\">\n      <g>\n       <use style=\"stroke:#000000;stroke-width:0.8;\" x=\"548.653951\" xlink:href=\"#ma0d3c32beb\" y=\"294.118125\"/>\n      </g>\n     </g>\n     <g id=\"text_19\">\n      <!-- 1 -->\n      <g transform=\"translate(545.472701 308.716563)scale(0.1 -0.1)\">\n       <use xlink:href=\"#DejaVuSans-49\"/>\n      </g>\n     </g>\n    </g>\n    <g id=\"xtick_12\">\n     <g id=\"line2d_18\">\n      <g>\n       <use style=\"stroke:#000000;stroke-width:0.8;\" x=\"589.005191\" xlink:href=\"#ma0d3c32beb\" y=\"294.118125\"/>\n      </g>\n     </g>\n     <g id=\"text_20\">\n      <!-- 2 -->\n      <g transform=\"translate(585.823941 308.716563)scale(0.1 -0.1)\">\n       <use xlink:href=\"#DejaVuSans-50\"/>\n      </g>\n     </g>\n    </g>\n    <g id=\"xtick_13\">\n     <g id=\"line2d_19\">\n      <g>\n       <use style=\"stroke:#000000;stroke-width:0.8;\" x=\"629.356431\" xlink:href=\"#ma0d3c32beb\" y=\"294.118125\"/>\n      </g>\n     </g>\n     <g id=\"text_21\">\n      <!-- 3 -->\n      <defs>\n       <path d=\"M 40.578125 39.3125 \nQ 47.65625 37.796875 51.625 33 \nQ 55.609375 28.21875 55.609375 21.1875 \nQ 55.609375 10.40625 48.1875 4.484375 \nQ 40.765625 -1.421875 27.09375 -1.421875 \nQ 22.515625 -1.421875 17.65625 -0.515625 \nQ 12.796875 0.390625 7.625 2.203125 \nL 7.625 11.71875 \nQ 11.71875 9.328125 16.59375 8.109375 \nQ 21.484375 6.890625 26.8125 6.890625 \nQ 36.078125 6.890625 40.9375 10.546875 \nQ 45.796875 14.203125 45.796875 21.1875 \nQ 45.796875 27.640625 41.28125 31.265625 \nQ 36.765625 34.90625 28.71875 34.90625 \nL 20.21875 34.90625 \nL 20.21875 43.015625 \nL 29.109375 43.015625 \nQ 36.375 43.015625 40.234375 45.921875 \nQ 44.09375 48.828125 44.09375 54.296875 \nQ 44.09375 59.90625 40.109375 62.90625 \nQ 36.140625 65.921875 28.71875 65.921875 \nQ 24.65625 65.921875 20.015625 65.03125 \nQ 15.375 64.15625 9.8125 62.3125 \nL 9.8125 71.09375 \nQ 15.4375 72.65625 20.34375 73.4375 \nQ 25.25 74.21875 29.59375 74.21875 \nQ 40.828125 74.21875 47.359375 69.109375 \nQ 53.90625 64.015625 53.90625 55.328125 \nQ 53.90625 49.265625 50.4375 45.09375 \nQ 46.96875 40.921875 40.578125 39.3125 \nz\n\" id=\"DejaVuSans-51\"/>\n      </defs>\n      <g transform=\"translate(626.175181 308.716563)scale(0.1 -0.1)\">\n       <use xlink:href=\"#DejaVuSans-51\"/>\n      </g>\n     </g>\n    </g>\n    <g id=\"xtick_14\">\n     <g id=\"line2d_20\">\n      <g>\n       <use style=\"stroke:#000000;stroke-width:0.8;\" x=\"669.70767\" xlink:href=\"#ma0d3c32beb\" y=\"294.118125\"/>\n      </g>\n     </g>\n     <g id=\"text_22\">\n      <!-- 4 -->\n      <defs>\n       <path d=\"M 37.796875 64.3125 \nL 12.890625 25.390625 \nL 37.796875 25.390625 \nz\nM 35.203125 72.90625 \nL 47.609375 72.90625 \nL 47.609375 25.390625 \nL 58.015625 25.390625 \nL 58.015625 17.1875 \nL 47.609375 17.1875 \nL 47.609375 0 \nL 37.796875 0 \nL 37.796875 17.1875 \nL 4.890625 17.1875 \nL 4.890625 26.703125 \nz\n\" id=\"DejaVuSans-52\"/>\n      </defs>\n      <g transform=\"translate(666.52642 308.716563)scale(0.1 -0.1)\">\n       <use xlink:href=\"#DejaVuSans-52\"/>\n      </g>\n     </g>\n    </g>\n    <g id=\"xtick_15\">\n     <g id=\"line2d_21\">\n      <g>\n       <use style=\"stroke:#000000;stroke-width:0.8;\" x=\"710.05891\" xlink:href=\"#ma0d3c32beb\" y=\"294.118125\"/>\n      </g>\n     </g>\n     <g id=\"text_23\">\n      <!-- 5 -->\n      <g transform=\"translate(706.87766 308.716563)scale(0.1 -0.1)\">\n       <use xlink:href=\"#DejaVuSans-53\"/>\n      </g>\n     </g>\n    </g>\n    <g id=\"xtick_16\">\n     <g id=\"line2d_22\">\n      <g>\n       <use style=\"stroke:#000000;stroke-width:0.8;\" x=\"750.41015\" xlink:href=\"#ma0d3c32beb\" y=\"294.118125\"/>\n      </g>\n     </g>\n     <g id=\"text_24\">\n      <!-- 6 -->\n      <defs>\n       <path d=\"M 33.015625 40.375 \nQ 26.375 40.375 22.484375 35.828125 \nQ 18.609375 31.296875 18.609375 23.390625 \nQ 18.609375 15.53125 22.484375 10.953125 \nQ 26.375 6.390625 33.015625 6.390625 \nQ 39.65625 6.390625 43.53125 10.953125 \nQ 47.40625 15.53125 47.40625 23.390625 \nQ 47.40625 31.296875 43.53125 35.828125 \nQ 39.65625 40.375 33.015625 40.375 \nz\nM 52.59375 71.296875 \nL 52.59375 62.3125 \nQ 48.875 64.0625 45.09375 64.984375 \nQ 41.3125 65.921875 37.59375 65.921875 \nQ 27.828125 65.921875 22.671875 59.328125 \nQ 17.53125 52.734375 16.796875 39.40625 \nQ 19.671875 43.65625 24.015625 45.921875 \nQ 28.375 48.1875 33.59375 48.1875 \nQ 44.578125 48.1875 50.953125 41.515625 \nQ 57.328125 34.859375 57.328125 23.390625 \nQ 57.328125 12.15625 50.6875 5.359375 \nQ 44.046875 -1.421875 33.015625 -1.421875 \nQ 20.359375 -1.421875 13.671875 8.265625 \nQ 6.984375 17.96875 6.984375 36.375 \nQ 6.984375 53.65625 15.1875 63.9375 \nQ 23.390625 74.21875 37.203125 74.21875 \nQ 40.921875 74.21875 44.703125 73.484375 \nQ 48.484375 72.75 52.59375 71.296875 \nz\n\" id=\"DejaVuSans-54\"/>\n      </defs>\n      <g transform=\"translate(747.2289 308.716563)scale(0.1 -0.1)\">\n       <use xlink:href=\"#DejaVuSans-54\"/>\n      </g>\n     </g>\n    </g>\n    <g id=\"xtick_17\">\n     <g id=\"line2d_23\">\n      <g>\n       <use style=\"stroke:#000000;stroke-width:0.8;\" x=\"790.761389\" xlink:href=\"#ma0d3c32beb\" y=\"294.118125\"/>\n      </g>\n     </g>\n     <g id=\"text_25\">\n      <!-- 7 -->\n      <g transform=\"translate(787.580139 308.716563)scale(0.1 -0.1)\">\n       <use xlink:href=\"#DejaVuSans-55\"/>\n      </g>\n     </g>\n    </g>\n    <g id=\"xtick_18\">\n     <g id=\"line2d_24\">\n      <g>\n       <use style=\"stroke:#000000;stroke-width:0.8;\" x=\"831.112629\" xlink:href=\"#ma0d3c32beb\" y=\"294.118125\"/>\n      </g>\n     </g>\n     <g id=\"text_26\">\n      <!-- 8 -->\n      <defs>\n       <path d=\"M 31.78125 34.625 \nQ 24.75 34.625 20.71875 30.859375 \nQ 16.703125 27.09375 16.703125 20.515625 \nQ 16.703125 13.921875 20.71875 10.15625 \nQ 24.75 6.390625 31.78125 6.390625 \nQ 38.8125 6.390625 42.859375 10.171875 \nQ 46.921875 13.96875 46.921875 20.515625 \nQ 46.921875 27.09375 42.890625 30.859375 \nQ 38.875 34.625 31.78125 34.625 \nz\nM 21.921875 38.8125 \nQ 15.578125 40.375 12.03125 44.71875 \nQ 8.5 49.078125 8.5 55.328125 \nQ 8.5 64.0625 14.71875 69.140625 \nQ 20.953125 74.21875 31.78125 74.21875 \nQ 42.671875 74.21875 48.875 69.140625 \nQ 55.078125 64.0625 55.078125 55.328125 \nQ 55.078125 49.078125 51.53125 44.71875 \nQ 48 40.375 41.703125 38.8125 \nQ 48.828125 37.15625 52.796875 32.3125 \nQ 56.78125 27.484375 56.78125 20.515625 \nQ 56.78125 9.90625 50.3125 4.234375 \nQ 43.84375 -1.421875 31.78125 -1.421875 \nQ 19.734375 -1.421875 13.25 4.234375 \nQ 6.78125 9.90625 6.78125 20.515625 \nQ 6.78125 27.484375 10.78125 32.3125 \nQ 14.796875 37.15625 21.921875 38.8125 \nz\nM 18.3125 54.390625 \nQ 18.3125 48.734375 21.84375 45.5625 \nQ 25.390625 42.390625 31.78125 42.390625 \nQ 38.140625 42.390625 41.71875 45.5625 \nQ 45.3125 48.734375 45.3125 54.390625 \nQ 45.3125 60.0625 41.71875 63.234375 \nQ 38.140625 66.40625 31.78125 66.40625 \nQ 25.390625 66.40625 21.84375 63.234375 \nQ 18.3125 60.0625 18.3125 54.390625 \nz\n\" id=\"DejaVuSans-56\"/>\n      </defs>\n      <g transform=\"translate(827.931379 308.716563)scale(0.1 -0.1)\">\n       <use xlink:href=\"#DejaVuSans-56\"/>\n      </g>\n     </g>\n    </g>\n   </g>\n   <g id=\"matplotlib.axis_4\">\n    <g id=\"ytick_7\">\n     <g id=\"line2d_25\">\n      <g>\n       <use style=\"stroke:#000000;stroke-width:0.8;\" x=\"492.162216\" xlink:href=\"#m7aecd7a60c\" y=\"294.118125\"/>\n      </g>\n     </g>\n     <g id=\"text_27\">\n      <!-- 0 -->\n      <g transform=\"translate(478.799716 297.917344)scale(0.1 -0.1)\">\n       <use xlink:href=\"#DejaVuSans-48\"/>\n      </g>\n     </g>\n    </g>\n    <g id=\"ytick_8\">\n     <g id=\"line2d_26\">\n      <g>\n       <use style=\"stroke:#000000;stroke-width:0.8;\" x=\"492.162216\" xlink:href=\"#m7aecd7a60c\" y=\"247.750392\"/>\n      </g>\n     </g>\n     <g id=\"text_28\">\n      <!-- 20000 -->\n      <g transform=\"translate(453.349716 251.549611)scale(0.1 -0.1)\">\n       <use xlink:href=\"#DejaVuSans-50\"/>\n       <use x=\"63.623047\" xlink:href=\"#DejaVuSans-48\"/>\n       <use x=\"127.246094\" xlink:href=\"#DejaVuSans-48\"/>\n       <use x=\"190.869141\" xlink:href=\"#DejaVuSans-48\"/>\n       <use x=\"254.492188\" xlink:href=\"#DejaVuSans-48\"/>\n      </g>\n     </g>\n    </g>\n    <g id=\"ytick_9\">\n     <g id=\"line2d_27\">\n      <g>\n       <use style=\"stroke:#000000;stroke-width:0.8;\" x=\"492.162216\" xlink:href=\"#m7aecd7a60c\" y=\"201.382659\"/>\n      </g>\n     </g>\n     <g id=\"text_29\">\n      <!-- 40000 -->\n      <g transform=\"translate(453.349716 205.181878)scale(0.1 -0.1)\">\n       <use xlink:href=\"#DejaVuSans-52\"/>\n       <use x=\"63.623047\" xlink:href=\"#DejaVuSans-48\"/>\n       <use x=\"127.246094\" xlink:href=\"#DejaVuSans-48\"/>\n       <use x=\"190.869141\" xlink:href=\"#DejaVuSans-48\"/>\n       <use x=\"254.492188\" xlink:href=\"#DejaVuSans-48\"/>\n      </g>\n     </g>\n    </g>\n    <g id=\"ytick_10\">\n     <g id=\"line2d_28\">\n      <g>\n       <use style=\"stroke:#000000;stroke-width:0.8;\" x=\"492.162216\" xlink:href=\"#m7aecd7a60c\" y=\"155.014926\"/>\n      </g>\n     </g>\n     <g id=\"text_30\">\n      <!-- 60000 -->\n      <g transform=\"translate(453.349716 158.814145)scale(0.1 -0.1)\">\n       <use xlink:href=\"#DejaVuSans-54\"/>\n       <use x=\"63.623047\" xlink:href=\"#DejaVuSans-48\"/>\n       <use x=\"127.246094\" xlink:href=\"#DejaVuSans-48\"/>\n       <use x=\"190.869141\" xlink:href=\"#DejaVuSans-48\"/>\n       <use x=\"254.492188\" xlink:href=\"#DejaVuSans-48\"/>\n      </g>\n     </g>\n    </g>\n    <g id=\"ytick_11\">\n     <g id=\"line2d_29\">\n      <g>\n       <use style=\"stroke:#000000;stroke-width:0.8;\" x=\"492.162216\" xlink:href=\"#m7aecd7a60c\" y=\"108.647193\"/>\n      </g>\n     </g>\n     <g id=\"text_31\">\n      <!-- 80000 -->\n      <g transform=\"translate(453.349716 112.446412)scale(0.1 -0.1)\">\n       <use xlink:href=\"#DejaVuSans-56\"/>\n       <use x=\"63.623047\" xlink:href=\"#DejaVuSans-48\"/>\n       <use x=\"127.246094\" xlink:href=\"#DejaVuSans-48\"/>\n       <use x=\"190.869141\" xlink:href=\"#DejaVuSans-48\"/>\n       <use x=\"254.492188\" xlink:href=\"#DejaVuSans-48\"/>\n      </g>\n     </g>\n    </g>\n    <g id=\"ytick_12\">\n     <g id=\"line2d_30\">\n      <g>\n       <use style=\"stroke:#000000;stroke-width:0.8;\" x=\"492.162216\" xlink:href=\"#m7aecd7a60c\" y=\"62.27946\"/>\n      </g>\n     </g>\n     <g id=\"text_32\">\n      <!-- 100000 -->\n      <g transform=\"translate(446.987216 66.078679)scale(0.1 -0.1)\">\n       <use xlink:href=\"#DejaVuSans-49\"/>\n       <use x=\"63.623047\" xlink:href=\"#DejaVuSans-48\"/>\n       <use x=\"127.246094\" xlink:href=\"#DejaVuSans-48\"/>\n       <use x=\"190.869141\" xlink:href=\"#DejaVuSans-48\"/>\n       <use x=\"254.492188\" xlink:href=\"#DejaVuSans-48\"/>\n       <use x=\"318.115234\" xlink:href=\"#DejaVuSans-48\"/>\n      </g>\n     </g>\n    </g>\n    <g id=\"text_33\">\n     <!-- Frequency -->\n     <g transform=\"translate(440.907528 184.515781)rotate(-90)scale(0.1 -0.1)\">\n      <use xlink:href=\"#DejaVuSans-70\"/>\n      <use x=\"57.410156\" xlink:href=\"#DejaVuSans-114\"/>\n      <use x=\"98.492188\" xlink:href=\"#DejaVuSans-101\"/>\n      <use x=\"160.015625\" xlink:href=\"#DejaVuSans-113\"/>\n      <use x=\"223.492188\" xlink:href=\"#DejaVuSans-117\"/>\n      <use x=\"286.871094\" xlink:href=\"#DejaVuSans-101\"/>\n      <use x=\"348.394531\" xlink:href=\"#DejaVuSans-110\"/>\n      <use x=\"411.773438\" xlink:href=\"#DejaVuSans-99\"/>\n      <use x=\"466.753906\" xlink:href=\"#DejaVuSans-121\"/>\n     </g>\n    </g>\n   </g>\n   <g id=\"patch_18\">\n    <path d=\"M 492.162216 294.118125 \nL 492.162216 22.318125 \n\" style=\"fill:none;stroke:#000000;stroke-linecap:square;stroke-linejoin:miter;stroke-width:0.8;\"/>\n   </g>\n   <g id=\"patch_19\">\n    <path d=\"M 847.253125 294.118125 \nL 847.253125 22.318125 \n\" style=\"fill:none;stroke:#000000;stroke-linecap:square;stroke-linejoin:miter;stroke-width:0.8;\"/>\n   </g>\n   <g id=\"patch_20\">\n    <path d=\"M 492.162216 294.118125 \nL 847.253125 294.118125 \n\" style=\"fill:none;stroke:#000000;stroke-linecap:square;stroke-linejoin:miter;stroke-width:0.8;\"/>\n   </g>\n   <g id=\"patch_21\">\n    <path d=\"M 492.162216 22.318125 \nL 847.253125 22.318125 \n\" style=\"fill:none;stroke:#000000;stroke-linecap:square;stroke-linejoin:miter;stroke-width:0.8;\"/>\n   </g>\n   <g id=\"text_34\">\n    <!-- Age Range -->\n    <defs>\n     <path d=\"M 34.1875 63.1875 \nL 20.796875 26.90625 \nL 47.609375 26.90625 \nz\nM 28.609375 72.90625 \nL 39.796875 72.90625 \nL 67.578125 0 \nL 57.328125 0 \nL 50.6875 18.703125 \nL 17.828125 18.703125 \nL 11.1875 0 \nL 0.78125 0 \nz\n\" id=\"DejaVuSans-65\"/>\n     <path d=\"M 45.40625 27.984375 \nQ 45.40625 37.75 41.375 43.109375 \nQ 37.359375 48.484375 30.078125 48.484375 \nQ 22.859375 48.484375 18.828125 43.109375 \nQ 14.796875 37.75 14.796875 27.984375 \nQ 14.796875 18.265625 18.828125 12.890625 \nQ 22.859375 7.515625 30.078125 7.515625 \nQ 37.359375 7.515625 41.375 12.890625 \nQ 45.40625 18.265625 45.40625 27.984375 \nz\nM 54.390625 6.78125 \nQ 54.390625 -7.171875 48.1875 -13.984375 \nQ 42 -20.796875 29.203125 -20.796875 \nQ 24.46875 -20.796875 20.265625 -20.09375 \nQ 16.0625 -19.390625 12.109375 -17.921875 \nL 12.109375 -9.1875 \nQ 16.0625 -11.328125 19.921875 -12.34375 \nQ 23.78125 -13.375 27.78125 -13.375 \nQ 36.625 -13.375 41.015625 -8.765625 \nQ 45.40625 -4.15625 45.40625 5.171875 \nL 45.40625 9.625 \nQ 42.625 4.78125 38.28125 2.390625 \nQ 33.9375 0 27.875 0 \nQ 17.828125 0 11.671875 7.65625 \nQ 5.515625 15.328125 5.515625 27.984375 \nQ 5.515625 40.671875 11.671875 48.328125 \nQ 17.828125 56 27.875 56 \nQ 33.9375 56 38.28125 53.609375 \nQ 42.625 51.21875 45.40625 46.390625 \nL 45.40625 54.6875 \nL 54.390625 54.6875 \nz\n\" id=\"DejaVuSans-103\"/>\n     <path id=\"DejaVuSans-32\"/>\n     <path d=\"M 44.390625 34.1875 \nQ 47.5625 33.109375 50.5625 29.59375 \nQ 53.5625 26.078125 56.59375 19.921875 \nL 66.609375 0 \nL 56 0 \nL 46.6875 18.703125 \nQ 43.0625 26.03125 39.671875 28.421875 \nQ 36.28125 30.8125 30.421875 30.8125 \nL 19.671875 30.8125 \nL 19.671875 0 \nL 9.8125 0 \nL 9.8125 72.90625 \nL 32.078125 72.90625 \nQ 44.578125 72.90625 50.734375 67.671875 \nQ 56.890625 62.453125 56.890625 51.90625 \nQ 56.890625 45.015625 53.6875 40.46875 \nQ 50.484375 35.9375 44.390625 34.1875 \nz\nM 19.671875 64.796875 \nL 19.671875 38.921875 \nL 32.078125 38.921875 \nQ 39.203125 38.921875 42.84375 42.21875 \nQ 46.484375 45.515625 46.484375 51.90625 \nQ 46.484375 58.296875 42.84375 61.546875 \nQ 39.203125 64.796875 32.078125 64.796875 \nz\n\" id=\"DejaVuSans-82\"/>\n     <path d=\"M 34.28125 27.484375 \nQ 23.390625 27.484375 19.1875 25 \nQ 14.984375 22.515625 14.984375 16.5 \nQ 14.984375 11.71875 18.140625 8.90625 \nQ 21.296875 6.109375 26.703125 6.109375 \nQ 34.1875 6.109375 38.703125 11.40625 \nQ 43.21875 16.703125 43.21875 25.484375 \nL 43.21875 27.484375 \nz\nM 52.203125 31.203125 \nL 52.203125 0 \nL 43.21875 0 \nL 43.21875 8.296875 \nQ 40.140625 3.328125 35.546875 0.953125 \nQ 30.953125 -1.421875 24.3125 -1.421875 \nQ 15.921875 -1.421875 10.953125 3.296875 \nQ 6 8.015625 6 15.921875 \nQ 6 25.140625 12.171875 29.828125 \nQ 18.359375 34.515625 30.609375 34.515625 \nL 43.21875 34.515625 \nL 43.21875 35.40625 \nQ 43.21875 41.609375 39.140625 45 \nQ 35.0625 48.390625 27.6875 48.390625 \nQ 23 48.390625 18.546875 47.265625 \nQ 14.109375 46.140625 10.015625 43.890625 \nL 10.015625 52.203125 \nQ 14.9375 54.109375 19.578125 55.046875 \nQ 24.21875 56 28.609375 56 \nQ 40.484375 56 46.34375 49.84375 \nQ 52.203125 43.703125 52.203125 31.203125 \nz\n\" id=\"DejaVuSans-97\"/>\n    </defs>\n    <g transform=\"translate(637.047983 16.318125)scale(0.12 -0.12)\">\n     <use xlink:href=\"#DejaVuSans-65\"/>\n     <use x=\"68.408203\" xlink:href=\"#DejaVuSans-103\"/>\n     <use x=\"131.884766\" xlink:href=\"#DejaVuSans-101\"/>\n     <use x=\"193.408203\" xlink:href=\"#DejaVuSans-32\"/>\n     <use x=\"225.195312\" xlink:href=\"#DejaVuSans-82\"/>\n     <use x=\"294.646484\" xlink:href=\"#DejaVuSans-97\"/>\n     <use x=\"355.925781\" xlink:href=\"#DejaVuSans-110\"/>\n     <use x=\"419.304688\" xlink:href=\"#DejaVuSans-103\"/>\n     <use x=\"482.78125\" xlink:href=\"#DejaVuSans-101\"/>\n    </g>\n   </g>\n  </g>\n </g>\n <defs>\n  <clipPath id=\"p994b9fd724\">\n   <rect height=\"271.8\" width=\"355.090909\" x=\"66.053125\" y=\"22.318125\"/>\n  </clipPath>\n  <clipPath id=\"pabecb51e0d\">\n   <rect height=\"271.8\" width=\"355.090909\" x=\"492.162216\" y=\"22.318125\"/>\n  </clipPath>\n </defs>\n</svg>\n",
      "text/plain": "<Figure size 1008x360 with 2 Axes>"
     },
     "metadata": {
      "needs_background": "light"
     },
     "output_type": "display_data"
    }
   ],
   "source": [
    "fig, axes = plt.subplots(nrows=1, ncols=2,figsize=(14, 5), sharey=False)\n",
    "user_info['gender'].plot.hist(ax=axes[0],bins=3,edgecolor='black', title=\"Gender\")\n",
    "user_info['age_range'].plot.hist(ax=axes[1],bins=7,edgecolor='black', title=\"Age Range\")"
   ]
  },
  {
   "cell_type": "markdown",
   "metadata": {},
   "outputs": [],
   "source": [
    "### For User_log data\n",
    "1. Principle: One brand contains multi items, but one item only belongs to one brand."
   ]
  },
  {
   "cell_type": "code",
   "execution_count": 16,
   "metadata": {},
   "outputs": [
    {
     "data": {
      "text/html": "<div>\n<style scoped>\n    .dataframe tbody tr th:only-of-type {\n        vertical-align: middle;\n    }\n\n    .dataframe tbody tr th {\n        vertical-align: top;\n    }\n\n    .dataframe thead th {\n        text-align: right;\n    }\n</style>\n<table border=\"1\" class=\"dataframe\">\n  <thead>\n    <tr style=\"text-align: right;\">\n      <th></th>\n      <th>item_id</th>\n      <th>brand_id</th>\n    </tr>\n  </thead>\n  <tbody>\n    <tr>\n      <td>10</td>\n      <td>239288</td>\n      <td>4953.0</td>\n    </tr>\n    <tr>\n      <td>40817</td>\n      <td>239288</td>\n      <td>4953.0</td>\n    </tr>\n    <tr>\n      <td>55038</td>\n      <td>239288</td>\n      <td>4953.0</td>\n    </tr>\n  </tbody>\n</table>\n</div>",
      "text/plain": "       item_id  brand_id\n10      239288    4953.0\n40817   239288    4953.0\n55038   239288    4953.0"
     },
     "execution_count": 16,
     "metadata": {},
     "output_type": "execute_result"
    }
   ],
   "source": [
    "# Test relationship/principle\n",
    "user_log[['item_id','brand_id']][user_log['item_id']==239288].head(3)"
   ]
  },
  {
   "cell_type": "code",
   "execution_count": 17,
   "metadata": {},
   "outputs": [
    {
     "data": {
      "text/html": "<div>\n<style scoped>\n    .dataframe tbody tr th:only-of-type {\n        vertical-align: middle;\n    }\n\n    .dataframe tbody tr th {\n        vertical-align: top;\n    }\n\n    .dataframe thead th {\n        text-align: right;\n    }\n</style>\n<table border=\"1\" class=\"dataframe\">\n  <thead>\n    <tr style=\"text-align: right;\">\n      <th></th>\n      <th>item_id</th>\n      <th>brand_id</th>\n    </tr>\n  </thead>\n  <tbody>\n    <tr>\n      <td>32109</td>\n      <td>157368</td>\n      <td>NaN</td>\n    </tr>\n  </tbody>\n</table>\n</div>",
      "text/plain": "       item_id  brand_id\n32109   157368       NaN"
     },
     "execution_count": 17,
     "metadata": {},
     "output_type": "execute_result"
    }
   ],
   "source": [
    "# Also have some items does not have brand_id\n",
    "user_log[['item_id','brand_id']][user_log['item_id']==157368].head()"
   ]
  },
  {
   "cell_type": "markdown",
   "metadata": {},
   "outputs": [],
   "source": [
    "2. Fill missing value  \n",
    "We can see that after fill lots of brand_id, user_log still has missing brand_id.\n",
    "Some items don't have a mapped brand_id."
   ]
  },
  {
   "cell_type": "code",
   "execution_count": 18,
   "metadata": {},
   "outputs": [
    {
     "name": "stdout",
     "output_type": "stream",
     "text": "Done\n"
    }
   ],
   "source": [
    "f_temp = user_log.drop_duplicates(subset=['item_id','brand_id']).set_index('item_id')['brand_id'].to_dict()\n",
    "user_log[user_log['brand_id'].isna()] = user_log[user_log['brand_id'].isna()].apply(lambda x: x.fillna(f_temp[x['item_id']]), axis=1)\n",
    "print(\"Done\")"
   ]
  },
  {
   "cell_type": "markdown",
   "metadata": {},
   "outputs": [],
   "source": [
    "4. Check the result."
   ]
  },
  {
   "cell_type": "code",
   "execution_count": 19,
   "metadata": {},
   "outputs": [
    {
     "name": "stdout",
     "output_type": "stream",
     "text": "In User_log, 'brand_id' still missing: \n 86604\n"
    }
   ],
   "source": [
    "print(\"In User_log, 'brand_id' still missing: \\n\", len(user_log[user_log['brand_id'].isna()]))"
   ]
  },
  {
   "cell_type": "markdown",
   "metadata": {},
   "outputs": [],
   "source": [
    "### Change Data Type\n",
    "Save some space/memory"
   ]
  },
  {
   "cell_type": "code",
   "execution_count": 20,
   "metadata": {},
   "outputs": [],
   "source": [
    "user_info[['age_range','gender']] = user_info[['age_range','gender']].astype('Int8')  # int8 : (from -128 to 127)\n",
    "user_log[['user_id','item_id','cat_id']] = user_log[['user_id','item_id','cat_id']].astype('Int64')\n",
    "user_log[['merchant_id','brand_id','time_stamp']] = user_log[['merchant_id','brand_id','time_stamp']].astype('Int16')\n",
    "user_log[['action_type']] = user_log[['action_type']].astype('Int8')"
   ]
  },
  {
   "cell_type": "code",
   "execution_count": 21,
   "metadata": {},
   "outputs": [
    {
     "name": "stdout",
     "output_type": "stream",
     "text": "<class 'pandas.core.frame.DataFrame'>\nInt64Index: 424170 entries, 0 to 424169\nData columns (total 3 columns):\nuser_id      424170 non-null int64\nage_range    424170 non-null Int8\ngender       424170 non-null Int8\ndtypes: Int8(2), int64(1)\nmemory usage: 8.1 MB\n"
    }
   ],
   "source": [
    "user_info.info()"
   ]
  },
  {
   "cell_type": "code",
   "execution_count": 22,
   "metadata": {},
   "outputs": [
    {
     "name": "stdout",
     "output_type": "stream",
     "text": "<class 'pandas.core.frame.DataFrame'>\nInt64Index: 54925330 entries, 0 to 54925329\nData columns (total 9 columns):\nuser_id        Int64\nitem_id        Int64\ncat_id         Int64\nmerchant_id    Int16\nbrand_id       Int16\ntime_stamp     Int16\naction_type    Int8\ntime_mm        float64\ntime_dd        float64\ndtypes: Int16(3), Int64(3), Int8(1), float64(2)\nmemory usage: 3.2 GB\n"
    }
   ],
   "source": [
    "user_log.info()"
   ]
  },
  {
   "cell_type": "markdown",
   "metadata": {},
   "outputs": [],
   "source": [
    "# Feature Extraction\n",
    "## A. Method"
   ]
  },
  {
   "cell_type": "code",
   "execution_count": 25,
   "metadata": {},
   "outputs": [],
   "source": [
    "def feature_extract(df:pd.DataFrame, cols, grop, aggs, rname, types):\n",
    "    if types == 'cnt':\n",
    "        return df[cols].groupby(grop, as_index=False).count().rename(columns=rname)\n",
    "    \n",
    "    if types == 'sub_agg':\n",
    "        return df.groupby(grop, as_index=False).agg(aggs).rename(columns=rname)"
   ]
  },
  {
   "cell_type": "code",
   "execution_count": 26,
   "metadata": {},
   "outputs": [],
   "source": [
    "def max_min_normalization(df:pd.DataFrame):\n",
    "    return (df-df.min())/(df.max()-df.min())"
   ]
  },
  {
   "cell_type": "code",
   "execution_count": 27,
   "metadata": {},
   "outputs": [],
   "source": [
    "def time_diff(t):\n",
    "    return (datetime.strptime(str(max(t)), '%m%d') - datetime.strptime(str(min(t)), '%m%d')).days"
   ]
  },
  {
   "cell_type": "code",
   "execution_count": 105,
   "metadata": {},
   "outputs": [],
   "source": [
    "def auto_PCA(df:pd.DataFrame, maintain_columns=[], n=4):\n",
    "    pca = PCA(n_components=n)\n",
    "    pca.fit(df.drop(columns = maintain_columns))\n",
    "    # the number x new feature can represent xx% infomation\n",
    "    ratio = pca.explained_variance_ratio_\n",
    "\n",
    "    def top_x():\n",
    "        sum_v = 0\n",
    "        for i, v in enumerate(ratio):\n",
    "            sum_v += v\n",
    "            # if features contains 90% info\n",
    "            if sum_v > 0.9:\n",
    "                return i+1\n",
    "        print(\"Set n > \", n)\n",
    "        return 0\n",
    "\n",
    "    n = top_x()\n",
    "    if n == 0: return df, n\n",
    "\n",
    "    pca = PCA(n_components=n)\n",
    "    X = pca.fit_transform(df.drop(columns = maintain_columns))\n",
    "    X = pd.DataFrame(max_min_normalization(X))\n",
    "    df = df[maintain_columns]\n",
    "    df = pd.merge(df, X, right_index=True, left_index=True)\n",
    "    return df,n"
   ]
  },
  {
   "cell_type": "markdown",
   "metadata": {},
   "outputs": [],
   "source": [
    "## B. Generate Feature (Dictonary)\n",
    "### 1. For User\n",
    "For each user_id:  \n",
    "(How many kinds of xxxx that the user_id has an action)\n",
    "1. Extract the count of action_types  \n",
    "2. Extract the count of merchant_id  \n",
    "3. Extract the count of item_id  \n",
    "4. Extract the count of cat_id(categary)  \n",
    "5. Extract the count of brand_id\n",
    "\n",
    "用户每月交互、购买的次数"
   ]
  },
  {
   "cell_type": "code",
   "execution_count": 89,
   "metadata": {},
   "outputs": [
    {
     "name": "stdout",
     "output_type": "stream",
     "text": "------Start------\n------Done------\n"
    }
   ],
   "source": [
    "print('------Start------')\n",
    "f_user = pd.DataFrame(user_info['user_id'])\n",
    "f_temp = feature_extract(user_log,['user_id','action_type'],['user_id'],None,{'action_type':'f_u_action'},'cnt')\n",
    "f_user = pd.merge(f_user, f_temp, on=['user_id'])\n",
    "\n",
    "aggs = {'merchant_id':lambda x: len(set(x)), \n",
    "        'item_id':lambda x: len(set(x)),\n",
    "        'cat_id':lambda x: len(set(x)),\n",
    "        'brand_id':lambda x: len(set(x))}\n",
    "rnames = {'merchant_id':'f_u_merchant','item_id':'f_u_item','cat_id':'f_u_cat','brand_id':'f_u_brand'}\n",
    "f_temp = feature_extract(user_log, None, ['user_id'], aggs, rnames, 'sub_agg')\n",
    "f_user = pd.merge(f_user, f_temp, on=['user_id'])\n",
    "print('------Done------')"
   ]
  },
  {
   "cell_type": "code",
   "execution_count": 93,
   "metadata": {},
   "outputs": [],
   "source": [
    "cols = [n for n in f_user.columns if n != 'user_id']\n",
    "f_user[cols] = max_min_normalization(f_user.drop(columns='user_id'))"
   ]
  },
  {
   "cell_type": "code",
   "execution_count": 94,
   "metadata": {},
   "outputs": [
    {
     "data": {
      "text/html": "<div>\n<style scoped>\n    .dataframe tbody tr th:only-of-type {\n        vertical-align: middle;\n    }\n\n    .dataframe tbody tr th {\n        vertical-align: top;\n    }\n\n    .dataframe thead th {\n        text-align: right;\n    }\n</style>\n<table border=\"1\" class=\"dataframe\">\n  <thead>\n    <tr style=\"text-align: right;\">\n      <th></th>\n      <th>user_id</th>\n      <th>f_u_action</th>\n      <th>f_u_merchant</th>\n      <th>f_u_item</th>\n      <th>f_u_cat</th>\n      <th>f_u_brand</th>\n    </tr>\n  </thead>\n  <tbody>\n    <tr>\n      <td>0</td>\n      <td>376517</td>\n      <td>0.005323</td>\n      <td>0.011296</td>\n      <td>0.006010</td>\n      <td>0.038929</td>\n      <td>0.011816</td>\n    </tr>\n    <tr>\n      <td>1</td>\n      <td>234512</td>\n      <td>0.003733</td>\n      <td>0.011891</td>\n      <td>0.004428</td>\n      <td>0.041363</td>\n      <td>0.011816</td>\n    </tr>\n    <tr>\n      <td>2</td>\n      <td>344532</td>\n      <td>0.006152</td>\n      <td>0.011296</td>\n      <td>0.008382</td>\n      <td>0.058394</td>\n      <td>0.012438</td>\n    </tr>\n    <tr>\n      <td>3</td>\n      <td>186135</td>\n      <td>0.013687</td>\n      <td>0.005945</td>\n      <td>0.003163</td>\n      <td>0.024331</td>\n      <td>0.005597</td>\n    </tr>\n    <tr>\n      <td>4</td>\n      <td>30230</td>\n      <td>0.002074</td>\n      <td>0.007729</td>\n      <td>0.003638</td>\n      <td>0.029197</td>\n      <td>0.008085</td>\n    </tr>\n  </tbody>\n</table>\n</div>",
      "text/plain": "   user_id  f_u_action  f_u_merchant  f_u_item   f_u_cat  f_u_brand\n0   376517    0.005323      0.011296  0.006010  0.038929   0.011816\n1   234512    0.003733      0.011891  0.004428  0.041363   0.011816\n2   344532    0.006152      0.011296  0.008382  0.058394   0.012438\n3   186135    0.013687      0.005945  0.003163  0.024331   0.005597\n4    30230    0.002074      0.007729  0.003638  0.029197   0.008085"
     },
     "execution_count": 94,
     "metadata": {},
     "output_type": "execute_result"
    }
   ],
   "source": [
    "f_user.head()"
   ]
  },
  {
   "cell_type": "code",
   "execution_count": 106,
   "metadata": {},
   "outputs": [],
   "source": [
    "f_user,_ = auto_PCA(f_user, maintain_columns=['user_id'], n=4)\n"
   ]
  },
  {
   "cell_type": "code",
   "execution_count": 107,
   "metadata": {},
   "outputs": [
    {
     "data": {
      "text/html": "<div>\n<style scoped>\n    .dataframe tbody tr th:only-of-type {\n        vertical-align: middle;\n    }\n\n    .dataframe tbody tr th {\n        vertical-align: top;\n    }\n\n    .dataframe thead th {\n        text-align: right;\n    }\n</style>\n<table border=\"1\" class=\"dataframe\">\n  <thead>\n    <tr style=\"text-align: right;\">\n      <th></th>\n      <th>user_id</th>\n      <th>0</th>\n      <th>1</th>\n    </tr>\n  </thead>\n  <tbody>\n    <tr>\n      <td>0</td>\n      <td>376517</td>\n      <td>0.058598</td>\n      <td>0.067834</td>\n    </tr>\n    <tr>\n      <td>1</td>\n      <td>234512</td>\n      <td>0.059333</td>\n      <td>0.066510</td>\n    </tr>\n    <tr>\n      <td>2</td>\n      <td>344532</td>\n      <td>0.067432</td>\n      <td>0.062029</td>\n    </tr>\n    <tr>\n      <td>3</td>\n      <td>186135</td>\n      <td>0.050585</td>\n      <td>0.071046</td>\n    </tr>\n    <tr>\n      <td>4</td>\n      <td>30230</td>\n      <td>0.052267</td>\n      <td>0.068397</td>\n    </tr>\n  </tbody>\n</table>\n</div>",
      "text/plain": "   user_id         0         1\n0   376517  0.058598  0.067834\n1   234512  0.059333  0.066510\n2   344532  0.067432  0.062029\n3   186135  0.050585  0.071046\n4    30230  0.052267  0.068397"
     },
     "execution_count": 107,
     "metadata": {},
     "output_type": "execute_result"
    }
   ],
   "source": [
    "f_user.head()"
   ]
  },
  {
   "cell_type": "markdown",
   "metadata": {},
   "outputs": [],
   "source": [
    "### 2. For Merchant\n",
    "\n",
    "For each merchant:\n",
    "\n",
    "1. Extract the count of action_types\n",
    "2. Extract the count of user_id\n",
    "3. Extract the count of item_id\n",
    "4. Extract the count of cat_id(categary)\n",
    "5. Extract the count of brand_id   \n",
    "\n",
    "商铺每个月有多少用户交互  "
   ]
  },
  {
   "cell_type": "code",
   "execution_count": 108,
   "metadata": {},
   "outputs": [],
   "source": [
    "f_merchant = pd.DataFrame(user_log['merchant_id']).drop_duplicates()\n",
    "f_merchant_user = f_merchant.copy()"
   ]
  },
  {
   "cell_type": "code",
   "execution_count": 109,
   "metadata": {},
   "outputs": [
    {
     "name": "stdout",
     "output_type": "stream",
     "text": "------Start------\n------Done------\n"
    }
   ],
   "source": [
    "print('------Start------')\n",
    "\n",
    "f_temp = feature_extract(user_log,['merchant_id','action_type'],['merchant_id'],None,{'action_type':'f_m_action'},'cnt')\n",
    "f_merchant = pd.merge(f_merchant, f_temp, on=['merchant_id'])\n",
    "\n",
    "aggs = {'user_id':lambda x: len(set(x)), \n",
    "        'item_id':lambda x: len(set(x)),\n",
    "        'cat_id':lambda x: len(set(x)),\n",
    "        'brand_id':lambda x: len(set(x))}\n",
    "rnames = {'user_id':'f_m_user','item_id':'f_m_item','cat_id':'f_m_cat','brand_id':'f_m_brand'}\n",
    "f_temp = feature_extract(user_log, None, ['merchant_id'], aggs, rnames, 'sub_agg')\n",
    "f_merchant = pd.merge(f_merchant, f_temp, on=['merchant_id'])\n",
    "\n",
    "print('------Done------')"
   ]
  },
  {
   "cell_type": "code",
   "execution_count": 112,
   "metadata": {},
   "outputs": [],
   "source": [
    "cols = [i for i in f_merchant.columns if i != 'merchant_id']\n",
    "f_merchant[cols] = max_min_normalization(f_merchant.drop(columns='merchant_id'))"
   ]
  },
  {
   "cell_type": "code",
   "execution_count": 113,
   "metadata": {},
   "outputs": [
    {
     "data": {
      "text/html": "<div>\n<style scoped>\n    .dataframe tbody tr th:only-of-type {\n        vertical-align: middle;\n    }\n\n    .dataframe tbody tr th {\n        vertical-align: top;\n    }\n\n    .dataframe thead th {\n        text-align: right;\n    }\n</style>\n<table border=\"1\" class=\"dataframe\">\n  <thead>\n    <tr style=\"text-align: right;\">\n      <th></th>\n      <th>merchant_id</th>\n      <th>f_m_action</th>\n      <th>f_m_user</th>\n      <th>f_m_item</th>\n      <th>f_m_cat</th>\n      <th>f_m_brand</th>\n    </tr>\n  </thead>\n  <tbody>\n    <tr>\n      <td>0</td>\n      <td>2882</td>\n      <td>0.012479</td>\n      <td>0.030134</td>\n      <td>0.053789</td>\n      <td>0.018797</td>\n      <td>0.002933</td>\n    </tr>\n    <tr>\n      <td>1</td>\n      <td>1253</td>\n      <td>0.069678</td>\n      <td>0.153207</td>\n      <td>0.114949</td>\n      <td>0.033835</td>\n      <td>0.011730</td>\n    </tr>\n    <tr>\n      <td>2</td>\n      <td>883</td>\n      <td>0.061223</td>\n      <td>0.063626</td>\n      <td>0.118799</td>\n      <td>0.067669</td>\n      <td>0.005865</td>\n    </tr>\n    <tr>\n      <td>3</td>\n      <td>420</td>\n      <td>0.287469</td>\n      <td>0.346181</td>\n      <td>0.158618</td>\n      <td>0.075188</td>\n      <td>0.017595</td>\n    </tr>\n    <tr>\n      <td>4</td>\n      <td>4605</td>\n      <td>0.076439</td>\n      <td>0.202515</td>\n      <td>0.024310</td>\n      <td>0.112782</td>\n      <td>0.002933</td>\n    </tr>\n  </tbody>\n</table>\n</div>",
      "text/plain": "   merchant_id  f_m_action  f_m_user  f_m_item   f_m_cat  f_m_brand\n0         2882    0.012479  0.030134  0.053789  0.018797   0.002933\n1         1253    0.069678  0.153207  0.114949  0.033835   0.011730\n2          883    0.061223  0.063626  0.118799  0.067669   0.005865\n3          420    0.287469  0.346181  0.158618  0.075188   0.017595\n4         4605    0.076439  0.202515  0.024310  0.112782   0.002933"
     },
     "execution_count": 113,
     "metadata": {},
     "output_type": "execute_result"
    }
   ],
   "source": [
    "f_merchant.head()"
   ]
  },
  {
   "cell_type": "code",
   "execution_count": 114,
   "metadata": {},
   "outputs": [],
   "source": [
    "f_merchant,_ = auto_PCA(f_merchant, maintain_columns=['merchant_id'], n=4)"
   ]
  },
  {
   "cell_type": "code",
   "execution_count": 115,
   "metadata": {},
   "outputs": [
    {
     "data": {
      "text/html": "<div>\n<style scoped>\n    .dataframe tbody tr th:only-of-type {\n        vertical-align: middle;\n    }\n\n    .dataframe tbody tr th {\n        vertical-align: top;\n    }\n\n    .dataframe thead th {\n        text-align: right;\n    }\n</style>\n<table border=\"1\" class=\"dataframe\">\n  <thead>\n    <tr style=\"text-align: right;\">\n      <th></th>\n      <th>merchant_id</th>\n      <th>0</th>\n      <th>1</th>\n      <th>2</th>\n    </tr>\n  </thead>\n  <tbody>\n    <tr>\n      <td>0</td>\n      <td>2882</td>\n      <td>0.372533</td>\n      <td>0.366608</td>\n      <td>0.396464</td>\n    </tr>\n    <tr>\n      <td>1</td>\n      <td>1253</td>\n      <td>0.437256</td>\n      <td>0.330333</td>\n      <td>0.398835</td>\n    </tr>\n    <tr>\n      <td>2</td>\n      <td>883</td>\n      <td>0.419042</td>\n      <td>0.365779</td>\n      <td>0.414876</td>\n    </tr>\n    <tr>\n      <td>3</td>\n      <td>420</td>\n      <td>0.560522</td>\n      <td>0.257749</td>\n      <td>0.372548</td>\n    </tr>\n    <tr>\n      <td>4</td>\n      <td>4605</td>\n      <td>0.458448</td>\n      <td>0.348996</td>\n      <td>0.342660</td>\n    </tr>\n  </tbody>\n</table>\n</div>",
      "text/plain": "   merchant_id         0         1         2\n0         2882  0.372533  0.366608  0.396464\n1         1253  0.437256  0.330333  0.398835\n2          883  0.419042  0.365779  0.414876\n3          420  0.560522  0.257749  0.372548\n4         4605  0.458448  0.348996  0.342660"
     },
     "execution_count": 115,
     "metadata": {},
     "output_type": "execute_result"
    }
   ],
   "source": [
    "f_merchant.head()"
   ]
  },
  {
   "cell_type": "markdown",
   "execution_count": null,
   "metadata": {},
   "outputs": [],
   "source": [
    "For each merchant:\n",
    "\n",
    "6. Extract the count of action_types based on different gender  \n",
    "7. Extract the count of action_types based on different age"
   ]
  },
  {
   "cell_type": "code",
   "execution_count": 116,
   "metadata": {},
   "outputs": [],
   "source": [
    "user_log = user_log.merge(user_info,on=['user_id'])"
   ]
  },
  {
   "cell_type": "code",
   "execution_count": 117,
   "metadata": {},
   "outputs": [],
   "source": [
    "for i in range(3):\n",
    "    f_temp = feature_extract(user_log[user_log['gender'] == i],['merchant_id','gender'],'merchant_id',None,{'gender':'g_' + str(i)},'cnt')\n",
    "    f_merchant_user = f_merchant_user.merge(f_temp, on=['merchant_id'], how='left')"
   ]
  },
  {
   "cell_type": "code",
   "execution_count": 118,
   "metadata": {},
   "outputs": [],
   "source": [
    "for i in range(9):\n",
    "    f_temp = feature_extract(user_log[user_log['age_range'] == i],['merchant_id','age_range'],'merchant_id',None,{'age_range':'a_' + str(i)},'cnt')\n",
    "    f_merchant_user = f_merchant_user.merge(f_temp, on=['merchant_id'], how='left')"
   ]
  },
  {
   "cell_type": "code",
   "execution_count": 119,
   "metadata": {},
   "outputs": [],
   "source": [
    "cols = [i for i in f_merchant_user.columns if i != 'merchant_id']\n",
    "f_merchant_user[cols]= max_min_normalization(f_merchant_user.drop(columns='merchant_id'))\n"
   ]
  },
  {
   "cell_type": "code",
   "execution_count": 120,
   "metadata": {},
   "outputs": [
    {
     "data": {
      "text/html": "<div>\n<style scoped>\n    .dataframe tbody tr th:only-of-type {\n        vertical-align: middle;\n    }\n\n    .dataframe tbody tr th {\n        vertical-align: top;\n    }\n\n    .dataframe thead th {\n        text-align: right;\n    }\n</style>\n<table border=\"1\" class=\"dataframe\">\n  <thead>\n    <tr style=\"text-align: right;\">\n      <th></th>\n      <th>merchant_id</th>\n      <th>g_0</th>\n      <th>g_1</th>\n      <th>g_2</th>\n      <th>a_0</th>\n      <th>a_1</th>\n      <th>a_2</th>\n      <th>a_3</th>\n      <th>a_4</th>\n      <th>a_5</th>\n      <th>a_6</th>\n      <th>a_7</th>\n      <th>a_8</th>\n    </tr>\n  </thead>\n  <tbody>\n    <tr>\n      <td>0</td>\n      <td>420</td>\n      <td>0.286914</td>\n      <td>0.084905</td>\n      <td>0.215430</td>\n      <td>0.209402</td>\n      <td>0.083333</td>\n      <td>0.124203</td>\n      <td>0.286523</td>\n      <td>0.334569</td>\n      <td>0.251624</td>\n      <td>0.219975</td>\n      <td>0.321311</td>\n      <td>0.222441</td>\n    </tr>\n    <tr>\n      <td>1</td>\n      <td>4605</td>\n      <td>0.077571</td>\n      <td>0.018731</td>\n      <td>0.064635</td>\n      <td>0.060183</td>\n      <td>0.000000</td>\n      <td>0.090171</td>\n      <td>0.075860</td>\n      <td>0.059485</td>\n      <td>0.056013</td>\n      <td>0.050307</td>\n      <td>0.067633</td>\n      <td>0.070866</td>\n    </tr>\n    <tr>\n      <td>2</td>\n      <td>3828</td>\n      <td>0.986441</td>\n      <td>0.260324</td>\n      <td>0.947391</td>\n      <td>0.950557</td>\n      <td>0.041667</td>\n      <td>0.386078</td>\n      <td>0.785038</td>\n      <td>0.951817</td>\n      <td>1.000000</td>\n      <td>1.000000</td>\n      <td>0.928010</td>\n      <td>0.576772</td>\n    </tr>\n    <tr>\n      <td>3</td>\n      <td>1200</td>\n      <td>0.041729</td>\n      <td>0.050827</td>\n      <td>0.073342</td>\n      <td>0.036209</td>\n      <td>0.000000</td>\n      <td>0.042295</td>\n      <td>0.066774</td>\n      <td>0.067591</td>\n      <td>0.047568</td>\n      <td>0.039151</td>\n      <td>0.055992</td>\n      <td>0.073622</td>\n    </tr>\n    <tr>\n      <td>4</td>\n      <td>4043</td>\n      <td>0.086946</td>\n      <td>0.022417</td>\n      <td>0.069324</td>\n      <td>0.066105</td>\n      <td>0.000000</td>\n      <td>0.116652</td>\n      <td>0.093746</td>\n      <td>0.058086</td>\n      <td>0.051033</td>\n      <td>0.054968</td>\n      <td>0.078203</td>\n      <td>0.033465</td>\n    </tr>\n  </tbody>\n</table>\n</div>",
      "text/plain": "   merchant_id       g_0       g_1       g_2       a_0       a_1       a_2  \\\n0          420  0.286914  0.084905  0.215430  0.209402  0.083333  0.124203   \n1         4605  0.077571  0.018731  0.064635  0.060183  0.000000  0.090171   \n2         3828  0.986441  0.260324  0.947391  0.950557  0.041667  0.386078   \n3         1200  0.041729  0.050827  0.073342  0.036209  0.000000  0.042295   \n4         4043  0.086946  0.022417  0.069324  0.066105  0.000000  0.116652   \n\n        a_3       a_4       a_5       a_6       a_7       a_8  \n0  0.286523  0.334569  0.251624  0.219975  0.321311  0.222441  \n1  0.075860  0.059485  0.056013  0.050307  0.067633  0.070866  \n2  0.785038  0.951817  1.000000  1.000000  0.928010  0.576772  \n3  0.066774  0.067591  0.047568  0.039151  0.055992  0.073622  \n4  0.093746  0.058086  0.051033  0.054968  0.078203  0.033465  "
     },
     "execution_count": 120,
     "metadata": {},
     "output_type": "execute_result"
    }
   ],
   "source": [
    "f_merchant_user.head()"
   ]
  },
  {
   "cell_type": "code",
   "execution_count": 121,
   "metadata": {},
   "outputs": [],
   "source": [
    "# f_merchant_user,_ = auto_PCA(f_merchant_user, maintain_columns=['merchant_id'], n=4)"
   ]
  },
  {
   "cell_type": "code",
   "execution_count": 122,
   "metadata": {},
   "outputs": [
    {
     "data": {
      "text/html": "<div>\n<style scoped>\n    .dataframe tbody tr th:only-of-type {\n        vertical-align: middle;\n    }\n\n    .dataframe tbody tr th {\n        vertical-align: top;\n    }\n\n    .dataframe thead th {\n        text-align: right;\n    }\n</style>\n<table border=\"1\" class=\"dataframe\">\n  <thead>\n    <tr style=\"text-align: right;\">\n      <th></th>\n      <th>merchant_id</th>\n      <th>0</th>\n      <th>1</th>\n    </tr>\n  </thead>\n  <tbody>\n    <tr>\n      <td>0</td>\n      <td>420</td>\n      <td>0.382557</td>\n      <td>0.152495</td>\n    </tr>\n    <tr>\n      <td>1</td>\n      <td>4605</td>\n      <td>0.213249</td>\n      <td>0.183821</td>\n    </tr>\n    <tr>\n      <td>2</td>\n      <td>3828</td>\n      <td>0.926057</td>\n      <td>0.000000</td>\n    </tr>\n    <tr>\n      <td>3</td>\n      <td>1200</td>\n      <td>0.203615</td>\n      <td>0.180044</td>\n    </tr>\n    <tr>\n      <td>4</td>\n      <td>4043</td>\n      <td>0.217471</td>\n      <td>0.188986</td>\n    </tr>\n  </tbody>\n</table>\n</div>",
      "text/plain": "   merchant_id         0         1\n0          420  0.382557  0.152495\n1         4605  0.213249  0.183821\n2         3828  0.926057  0.000000\n3         1200  0.203615  0.180044\n4         4043  0.217471  0.188986"
     },
     "execution_count": 122,
     "metadata": {},
     "output_type": "execute_result"
    }
   ],
   "source": [
    "# f_merchant_user.head()"
   ]
  },
  {
   "cell_type": "markdown",
   "metadata": {},
   "outputs": [],
   "source": [
    "### 3. For Category\n",
    "\n",
    "For each category\n",
    "\n",
    "1. Extract the count of action_types\n",
    "2. Extract the count of user_id\n",
    "3. Extract the count of merchant_id\n",
    "4. Extract the count of item_id\n",
    "5. Extract the count of brand_id"
   ]
  },
  {
   "cell_type": "code",
   "execution_count": 123,
   "metadata": {},
   "outputs": [],
   "source": [
    "f_cat = pd.DataFrame(user_log['cat_id']).drop_duplicates()"
   ]
  },
  {
   "cell_type": "code",
   "execution_count": 124,
   "metadata": {},
   "outputs": [
    {
     "name": "stdout",
     "output_type": "stream",
     "text": "------Start------\n------Done------\n"
    }
   ],
   "source": [
    "print('------Start------')\n",
    "\n",
    "f_temp = feature_extract(user_log,['cat_id','action_type'],['cat_id'],None,{'action_type':'f_c_action'},'cnt')\n",
    "f_cat = pd.merge(f_cat, f_temp, on=['cat_id'])\n",
    "\n",
    "aggs = {'user_id':lambda x: len(set(x)), \n",
    "        'merchant_id':lambda x: len(set(x)),\n",
    "        'item_id':lambda x: len(set(x)),\n",
    "        'brand_id':lambda x: len(set(x))}\n",
    "rnames = {'user_id':'f_c_user','merchant_id':'f_c_merchant','item_id':'f_c_item','brand_id':'f_c_brand'}\n",
    "f_temp = feature_extract(user_log, None, ['cat_id'], aggs, rnames, 'sub_agg')\n",
    "f_cat = pd.merge(f_cat, f_temp, on=['cat_id'])\n",
    "\n",
    "print('------Done------')"
   ]
  },
  {
   "cell_type": "code",
   "execution_count": 125,
   "metadata": {},
   "outputs": [],
   "source": [
    "cols = [i for i in f_cat.columns if i != 'cat_id']\n",
    "f_cat[cols]= max_min_normalization(f_cat.drop(columns='cat_id'))"
   ]
  },
  {
   "cell_type": "code",
   "execution_count": 126,
   "metadata": {},
   "outputs": [
    {
     "data": {
      "text/html": "<div>\n<style scoped>\n    .dataframe tbody tr th:only-of-type {\n        vertical-align: middle;\n    }\n\n    .dataframe tbody tr th {\n        vertical-align: top;\n    }\n\n    .dataframe thead th {\n        text-align: right;\n    }\n</style>\n<table border=\"1\" class=\"dataframe\">\n  <thead>\n    <tr style=\"text-align: right;\">\n      <th></th>\n      <th>cat_id</th>\n      <th>f_c_action</th>\n      <th>f_c_user</th>\n      <th>f_c_merchant</th>\n      <th>f_c_item</th>\n      <th>f_c_brand</th>\n    </tr>\n  </thead>\n  <tbody>\n    <tr>\n      <td>0</td>\n      <td>833</td>\n      <td>0.023198</td>\n      <td>0.132500</td>\n      <td>0.358156</td>\n      <td>0.037017</td>\n      <td>0.336864</td>\n    </tr>\n    <tr>\n      <td>1</td>\n      <td>1271</td>\n      <td>0.152113</td>\n      <td>0.468678</td>\n      <td>0.431442</td>\n      <td>0.202642</td>\n      <td>0.420551</td>\n    </tr>\n    <tr>\n      <td>2</td>\n      <td>1467</td>\n      <td>0.183625</td>\n      <td>0.487507</td>\n      <td>0.508274</td>\n      <td>0.294936</td>\n      <td>0.516949</td>\n    </tr>\n    <tr>\n      <td>3</td>\n      <td>1095</td>\n      <td>0.266248</td>\n      <td>0.679624</td>\n      <td>0.821513</td>\n      <td>0.341172</td>\n      <td>0.813559</td>\n    </tr>\n    <tr>\n      <td>4</td>\n      <td>602</td>\n      <td>0.287638</td>\n      <td>0.478519</td>\n      <td>0.218676</td>\n      <td>0.138310</td>\n      <td>0.194915</td>\n    </tr>\n  </tbody>\n</table>\n</div>",
      "text/plain": "   cat_id  f_c_action  f_c_user  f_c_merchant  f_c_item  f_c_brand\n0     833    0.023198  0.132500      0.358156  0.037017   0.336864\n1    1271    0.152113  0.468678      0.431442  0.202642   0.420551\n2    1467    0.183625  0.487507      0.508274  0.294936   0.516949\n3    1095    0.266248  0.679624      0.821513  0.341172   0.813559\n4     602    0.287638  0.478519      0.218676  0.138310   0.194915"
     },
     "execution_count": 126,
     "metadata": {},
     "output_type": "execute_result"
    }
   ],
   "source": [
    "f_cat.head()"
   ]
  },
  {
   "cell_type": "code",
   "execution_count": 127,
   "metadata": {},
   "outputs": [],
   "source": [
    "f_cat,_ = auto_PCA(f_cat, maintain_columns=['cat_id'], n=4)"
   ]
  },
  {
   "cell_type": "code",
   "execution_count": 128,
   "metadata": {},
   "outputs": [
    {
     "data": {
      "text/html": "<div>\n<style scoped>\n    .dataframe tbody tr th:only-of-type {\n        vertical-align: middle;\n    }\n\n    .dataframe tbody tr th {\n        vertical-align: top;\n    }\n\n    .dataframe thead th {\n        text-align: right;\n    }\n</style>\n<table border=\"1\" class=\"dataframe\">\n  <thead>\n    <tr style=\"text-align: right;\">\n      <th></th>\n      <th>cat_id</th>\n      <th>0</th>\n    </tr>\n  </thead>\n  <tbody>\n    <tr>\n      <td>0</td>\n      <td>833</td>\n      <td>0.239082</td>\n    </tr>\n    <tr>\n      <td>1</td>\n      <td>1271</td>\n      <td>0.387345</td>\n    </tr>\n    <tr>\n      <td>2</td>\n      <td>1467</td>\n      <td>0.454549</td>\n    </tr>\n    <tr>\n      <td>3</td>\n      <td>1095</td>\n      <td>0.687975</td>\n    </tr>\n    <tr>\n      <td>4</td>\n      <td>602</td>\n      <td>0.266619</td>\n    </tr>\n  </tbody>\n</table>\n</div>",
      "text/plain": "   cat_id         0\n0     833  0.239082\n1    1271  0.387345\n2    1467  0.454549\n3    1095  0.687975\n4     602  0.266619"
     },
     "execution_count": 128,
     "metadata": {},
     "output_type": "execute_result"
    }
   ],
   "source": [
    "f_cat.head()"
   ]
  },
  {
   "cell_type": "markdown",
   "metadata": {},
   "outputs": [],
   "source": [
    "### 4. For Brand\n",
    "\n",
    "For each Brand\n",
    "\n",
    "1. Extract the count of action_types\n",
    "2. Extract the count of user_id\n",
    "3. Extract the count of merchant_id\n",
    "4. Extract the count of item_id\n",
    "5. Extract the count of cat_id"
   ]
  },
  {
   "cell_type": "code",
   "execution_count": 129,
   "metadata": {},
   "outputs": [],
   "source": [
    "f_brand = pd.DataFrame(user_log['brand_id']).drop_duplicates().dropna()"
   ]
  },
  {
   "cell_type": "code",
   "execution_count": 130,
   "metadata": {},
   "outputs": [
    {
     "name": "stdout",
     "output_type": "stream",
     "text": "------Start------\n------Done------\n"
    }
   ],
   "source": [
    "print('------Start------')\n",
    "\n",
    "f_temp = feature_extract(user_log,['brand_id','action_type'],['brand_id'],None,{'action_type':'f_b_action'},'cnt')\n",
    "f_brand = pd.merge(f_brand, f_temp, on=['brand_id'])\n",
    "\n",
    "aggs = {'user_id':lambda x: len(set(x)), \n",
    "        'merchant_id':lambda x: len(set(x)),\n",
    "        'item_id':lambda x: len(set(x)),\n",
    "        'cat_id':lambda x: len(set(x))}\n",
    "rnames = {'user_id':'f_b_user','merchant_id':'f_b_merchant','item_id':'f_b_item','cat_id':'f_b_cat'}\n",
    "f_temp = feature_extract(user_log, None, ['brand_id'], aggs, rnames, 'sub_agg')\n",
    "f_brand = pd.merge(f_brand, f_temp, on=['brand_id'])\n",
    "\n",
    "print('------Done------')"
   ]
  },
  {
   "cell_type": "code",
   "execution_count": 135,
   "metadata": {},
   "outputs": [],
   "source": [
    "cols = [i for i in f_brand.columns if i != 'brand_id']\n",
    "f_brand[cols]= max_min_normalization(f_brand.drop(columns='brand_id'))"
   ]
  },
  {
   "cell_type": "code",
   "execution_count": 136,
   "metadata": {},
   "outputs": [
    {
     "data": {
      "text/html": "<div>\n<style scoped>\n    .dataframe tbody tr th:only-of-type {\n        vertical-align: middle;\n    }\n\n    .dataframe tbody tr th {\n        vertical-align: top;\n    }\n\n    .dataframe thead th {\n        text-align: right;\n    }\n</style>\n<table border=\"1\" class=\"dataframe\">\n  <thead>\n    <tr style=\"text-align: right;\">\n      <th></th>\n      <th>brand_id</th>\n      <th>f_b_action</th>\n      <th>f_b_user</th>\n      <th>f_b_merchant</th>\n      <th>f_b_item</th>\n      <th>f_b_cat</th>\n    </tr>\n  </thead>\n  <tbody>\n    <tr>\n      <td>0</td>\n      <td>2661</td>\n      <td>0.012350</td>\n      <td>0.026321</td>\n      <td>0.001312</td>\n      <td>0.051379</td>\n      <td>0.010204</td>\n    </tr>\n    <tr>\n      <td>1</td>\n      <td>1049</td>\n      <td>0.011333</td>\n      <td>0.038287</td>\n      <td>0.000000</td>\n      <td>0.021655</td>\n      <td>0.008163</td>\n    </tr>\n    <tr>\n      <td>2</td>\n      <td>1647</td>\n      <td>0.059742</td>\n      <td>0.054797</td>\n      <td>0.000000</td>\n      <td>0.110317</td>\n      <td>0.036735</td>\n    </tr>\n    <tr>\n      <td>3</td>\n      <td>4953</td>\n      <td>0.174837</td>\n      <td>0.236520</td>\n      <td>0.000000</td>\n      <td>0.060981</td>\n      <td>0.026531</td>\n    </tr>\n    <tr>\n      <td>4</td>\n      <td>7622</td>\n      <td>0.074586</td>\n      <td>0.173457</td>\n      <td>0.005249</td>\n      <td>0.024923</td>\n      <td>0.044898</td>\n    </tr>\n  </tbody>\n</table>\n</div>",
      "text/plain": "   brand_id  f_b_action  f_b_user  f_b_merchant  f_b_item   f_b_cat\n0      2661    0.012350  0.026321      0.001312  0.051379  0.010204\n1      1049    0.011333  0.038287      0.000000  0.021655  0.008163\n2      1647    0.059742  0.054797      0.000000  0.110317  0.036735\n3      4953    0.174837  0.236520      0.000000  0.060981  0.026531\n4      7622    0.074586  0.173457      0.005249  0.024923  0.044898"
     },
     "execution_count": 136,
     "metadata": {},
     "output_type": "execute_result"
    }
   ],
   "source": [
    "f_brand.head()"
   ]
  },
  {
   "cell_type": "code",
   "execution_count": 139,
   "metadata": {},
   "outputs": [],
   "source": [
    "f_brand,_ = auto_PCA(f_brand, maintain_columns=['brand_id'], n=4)"
   ]
  },
  {
   "cell_type": "code",
   "execution_count": 140,
   "metadata": {},
   "outputs": [
    {
     "data": {
      "text/html": "<div>\n<style scoped>\n    .dataframe tbody tr th:only-of-type {\n        vertical-align: middle;\n    }\n\n    .dataframe tbody tr th {\n        vertical-align: top;\n    }\n\n    .dataframe thead th {\n        text-align: right;\n    }\n</style>\n<table border=\"1\" class=\"dataframe\">\n  <thead>\n    <tr style=\"text-align: right;\">\n      <th></th>\n      <th>brand_id</th>\n      <th>0</th>\n      <th>1</th>\n    </tr>\n  </thead>\n  <tbody>\n    <tr>\n      <td>0</td>\n      <td>2661</td>\n      <td>0.283892</td>\n      <td>0.279410</td>\n    </tr>\n    <tr>\n      <td>1</td>\n      <td>1049</td>\n      <td>0.279895</td>\n      <td>0.266240</td>\n    </tr>\n    <tr>\n      <td>2</td>\n      <td>1647</td>\n      <td>0.327444</td>\n      <td>0.292187</td>\n    </tr>\n    <tr>\n      <td>3</td>\n      <td>4953</td>\n      <td>0.416118</td>\n      <td>0.212150</td>\n    </tr>\n    <tr>\n      <td>4</td>\n      <td>7622</td>\n      <td>0.355782</td>\n      <td>0.240068</td>\n    </tr>\n  </tbody>\n</table>\n</div>",
      "text/plain": "   brand_id         0         1\n0      2661  0.283892  0.279410\n1      1049  0.279895  0.266240\n2      1647  0.327444  0.292187\n3      4953  0.416118  0.212150\n4      7622  0.355782  0.240068"
     },
     "execution_count": 140,
     "metadata": {},
     "output_type": "execute_result"
    }
   ],
   "source": [
    "f_brand.head()"
   ]
  },
  {
   "cell_type": "markdown",
   "execution_count": null,
   "metadata": {},
   "outputs": [],
   "source": [
    "## C. Merge Feature Table(Dictonary)\n",
    "\n",
    "Generated Features  \n",
    "f_user  \n",
    "f_merchant  \n",
    "f_merchant_user  \n",
    "f_item  \n",
    "f_cat  \n",
    "f_brand\n"
   ]
  },
  {
   "cell_type": "code",
   "execution_count": 141,
   "metadata": {},
   "outputs": [
    {
     "data": {
      "text/html": "<div>\n<style scoped>\n    .dataframe tbody tr th:only-of-type {\n        vertical-align: middle;\n    }\n\n    .dataframe tbody tr th {\n        vertical-align: top;\n    }\n\n    .dataframe thead th {\n        text-align: right;\n    }\n</style>\n<table border=\"1\" class=\"dataframe\">\n  <thead>\n    <tr style=\"text-align: right;\">\n      <th></th>\n      <th>user_id</th>\n      <th>merchant_id</th>\n      <th>label</th>\n    </tr>\n  </thead>\n  <tbody>\n    <tr>\n      <td>0</td>\n      <td>34176</td>\n      <td>3906</td>\n      <td>0</td>\n    </tr>\n    <tr>\n      <td>1</td>\n      <td>34176</td>\n      <td>121</td>\n      <td>0</td>\n    </tr>\n    <tr>\n      <td>2</td>\n      <td>34176</td>\n      <td>4356</td>\n      <td>1</td>\n    </tr>\n    <tr>\n      <td>3</td>\n      <td>34176</td>\n      <td>2217</td>\n      <td>0</td>\n    </tr>\n    <tr>\n      <td>4</td>\n      <td>230784</td>\n      <td>4818</td>\n      <td>0</td>\n    </tr>\n    <tr>\n      <td>...</td>\n      <td>...</td>\n      <td>...</td>\n      <td>...</td>\n    </tr>\n    <tr>\n      <td>260859</td>\n      <td>359807</td>\n      <td>4325</td>\n      <td>0</td>\n    </tr>\n    <tr>\n      <td>260860</td>\n      <td>294527</td>\n      <td>3971</td>\n      <td>0</td>\n    </tr>\n    <tr>\n      <td>260861</td>\n      <td>294527</td>\n      <td>152</td>\n      <td>0</td>\n    </tr>\n    <tr>\n      <td>260862</td>\n      <td>294527</td>\n      <td>2537</td>\n      <td>0</td>\n    </tr>\n    <tr>\n      <td>260863</td>\n      <td>229247</td>\n      <td>4140</td>\n      <td>0</td>\n    </tr>\n  </tbody>\n</table>\n<p>260864 rows × 3 columns</p>\n</div>",
      "text/plain": "        user_id  merchant_id  label\n0         34176         3906      0\n1         34176          121      0\n2         34176         4356      1\n3         34176         2217      0\n4        230784         4818      0\n...         ...          ...    ...\n260859   359807         4325      0\n260860   294527         3971      0\n260861   294527          152      0\n260862   294527         2537      0\n260863   229247         4140      0\n\n[260864 rows x 3 columns]"
     },
     "execution_count": 141,
     "metadata": {},
     "output_type": "execute_result"
    }
   ],
   "source": [
    "train[train[label=1]]"
   ]
  },
  {
   "cell_type": "code",
   "execution_count": 146,
   "metadata": {},
   "outputs": [
    {
     "data": {
      "text/html": "<div>\n<style scoped>\n    .dataframe tbody tr th:only-of-type {\n        vertical-align: middle;\n    }\n\n    .dataframe tbody tr th {\n        vertical-align: top;\n    }\n\n    .dataframe thead th {\n        text-align: right;\n    }\n</style>\n<table border=\"1\" class=\"dataframe\">\n  <thead>\n    <tr style=\"text-align: right;\">\n      <th></th>\n      <th>user_id</th>\n      <th>merchant_id</th>\n      <th>label</th>\n    </tr>\n  </thead>\n  <tbody>\n    <tr>\n      <td>2</td>\n      <td>34176</td>\n      <td>4356</td>\n      <td>1</td>\n    </tr>\n    <tr>\n      <td>7</td>\n      <td>231552</td>\n      <td>3828</td>\n      <td>1</td>\n    </tr>\n    <tr>\n      <td>53</td>\n      <td>306816</td>\n      <td>1489</td>\n      <td>1</td>\n    </tr>\n    <tr>\n      <td>57</td>\n      <td>176256</td>\n      <td>3323</td>\n      <td>1</td>\n    </tr>\n    <tr>\n      <td>59</td>\n      <td>307584</td>\n      <td>1340</td>\n      <td>1</td>\n    </tr>\n    <tr>\n      <td>...</td>\n      <td>...</td>\n      <td>...</td>\n      <td>...</td>\n    </tr>\n    <tr>\n      <td>260747</td>\n      <td>208511</td>\n      <td>2592</td>\n      <td>1</td>\n    </tr>\n    <tr>\n      <td>260793</td>\n      <td>87935</td>\n      <td>1964</td>\n      <td>1</td>\n    </tr>\n    <tr>\n      <td>260794</td>\n      <td>87935</td>\n      <td>3734</td>\n      <td>1</td>\n    </tr>\n    <tr>\n      <td>260799</td>\n      <td>350591</td>\n      <td>4394</td>\n      <td>1</td>\n    </tr>\n    <tr>\n      <td>260842</td>\n      <td>422783</td>\n      <td>2026</td>\n      <td>1</td>\n    </tr>\n  </tbody>\n</table>\n<p>15952 rows × 3 columns</p>\n</div>",
      "text/plain": "        user_id  merchant_id  label\n2         34176         4356      1\n7        231552         3828      1\n53       306816         1489      1\n57       176256         3323      1\n59       307584         1340      1\n...         ...          ...    ...\n260747   208511         2592      1\n260793    87935         1964      1\n260794    87935         3734      1\n260799   350591         4394      1\n260842   422783         2026      1\n\n[15952 rows x 3 columns]"
     },
     "execution_count": 146,
     "metadata": {},
     "output_type": "execute_result"
    }
   ],
   "source": [
    "train[train['label']==1]"
   ]
  },
  {
   "cell_type": "code",
   "execution_count": 147,
   "metadata": {},
   "outputs": [
    {
     "data": {
      "text/plain": "0.06115063788027478"
     },
     "execution_count": 147,
     "metadata": {},
     "output_type": "execute_result"
    }
   ],
   "source": [
    "15952/260864"
   ]
  },
  {
   "cell_type": "code",
   "execution_count": null,
   "metadata": {},
   "outputs": [],
   "source": [
    "f_user\n",
    "f_merchant\n",
    "f_merchant_user\n",
    "f_cat\n",
    "f_brand"
   ]
  },
  {
   "cell_type": "code",
   "execution_count": 173,
   "metadata": {},
   "outputs": [],
   "source": [
    "f_temp = user_log[['merchant_id','cat_id','brand_id']].drop_duplicates(subset=None, keep = 'first')"
   ]
  },
  {
   "cell_type": "code",
   "execution_count": 174,
   "metadata": {},
   "outputs": [],
   "source": [
    "train_temp = pd.merge(train, f_temp, on=['merchant_id'], how='left')"
   ]
  },
  {
   "cell_type": "code",
   "execution_count": null,
   "metadata": {},
   "outputs": [],
   "source": [
    "train_temp = pd.merge(train, user_info, on=['user_id'], how='left')"
   ]
  },
  {
   "cell_type": "code",
   "execution_count": 175,
   "metadata": {},
   "outputs": [
    {
     "data": {
      "text/html": "<div>\n<style scoped>\n    .dataframe tbody tr th:only-of-type {\n        vertical-align: middle;\n    }\n\n    .dataframe tbody tr th {\n        vertical-align: top;\n    }\n\n    .dataframe thead th {\n        text-align: right;\n    }\n</style>\n<table border=\"1\" class=\"dataframe\">\n  <thead>\n    <tr style=\"text-align: right;\">\n      <th></th>\n      <th>user_id</th>\n      <th>merchant_id</th>\n      <th>label</th>\n      <th>cat_id</th>\n      <th>brand_id</th>\n    </tr>\n  </thead>\n  <tbody>\n    <tr>\n      <td>0</td>\n      <td>34176</td>\n      <td>3906</td>\n      <td>0</td>\n      <td>1095</td>\n      <td>6268</td>\n    </tr>\n    <tr>\n      <td>1</td>\n      <td>34176</td>\n      <td>3906</td>\n      <td>0</td>\n      <td>1397</td>\n      <td>6268</td>\n    </tr>\n    <tr>\n      <td>2</td>\n      <td>34176</td>\n      <td>3906</td>\n      <td>0</td>\n      <td>821</td>\n      <td>6268</td>\n    </tr>\n    <tr>\n      <td>3</td>\n      <td>34176</td>\n      <td>3906</td>\n      <td>0</td>\n      <td>154</td>\n      <td>6268</td>\n    </tr>\n    <tr>\n      <td>4</td>\n      <td>34176</td>\n      <td>3906</td>\n      <td>0</td>\n      <td>1577</td>\n      <td>6268</td>\n    </tr>\n    <tr>\n      <td>...</td>\n      <td>...</td>\n      <td>...</td>\n      <td>...</td>\n      <td>...</td>\n      <td>...</td>\n    </tr>\n    <tr>\n      <td>8651324</td>\n      <td>294527</td>\n      <td>2537</td>\n      <td>0</td>\n      <td>544</td>\n      <td>NaN</td>\n    </tr>\n    <tr>\n      <td>8651325</td>\n      <td>229247</td>\n      <td>4140</td>\n      <td>0</td>\n      <td>737</td>\n      <td>5697</td>\n    </tr>\n    <tr>\n      <td>8651326</td>\n      <td>229247</td>\n      <td>4140</td>\n      <td>0</td>\n      <td>1326</td>\n      <td>5697</td>\n    </tr>\n    <tr>\n      <td>8651327</td>\n      <td>229247</td>\n      <td>4140</td>\n      <td>0</td>\n      <td>737</td>\n      <td>NaN</td>\n    </tr>\n    <tr>\n      <td>8651328</td>\n      <td>229247</td>\n      <td>4140</td>\n      <td>0</td>\n      <td>126</td>\n      <td>NaN</td>\n    </tr>\n  </tbody>\n</table>\n<p>8651329 rows × 5 columns</p>\n</div>",
      "text/plain": "         user_id  merchant_id  label  cat_id  brand_id\n0          34176         3906      0    1095      6268\n1          34176         3906      0    1397      6268\n2          34176         3906      0     821      6268\n3          34176         3906      0     154      6268\n4          34176         3906      0    1577      6268\n...          ...          ...    ...     ...       ...\n8651324   294527         2537      0     544       NaN\n8651325   229247         4140      0     737      5697\n8651326   229247         4140      0    1326      5697\n8651327   229247         4140      0     737       NaN\n8651328   229247         4140      0     126       NaN\n\n[8651329 rows x 5 columns]"
     },
     "execution_count": 175,
     "metadata": {},
     "output_type": "execute_result"
    }
   ],
   "source": [
    "train_temp"
   ]
  },
  {
   "cell_type": "code",
   "execution_count": 176,
   "metadata": {},
   "outputs": [],
   "source": [
    "train_temp = pd.merge(train_temp, f_user, on=['user_id'], how='left')"
   ]
  },
  {
   "cell_type": "code",
   "execution_count": 177,
   "metadata": {},
   "outputs": [],
   "source": [
    "train_temp = pd.merge(train_temp, f_merchant, on=['merchant_id'], how='left')"
   ]
  },
  {
   "cell_type": "code",
   "execution_count": 178,
   "metadata": {},
   "outputs": [],
   "source": [
    "# train_temp = pd.merge(train_temp, f_merchant_user, on=['merchant_id'], how='left')"
   ]
  },
  {
   "cell_type": "code",
   "execution_count": 179,
   "metadata": {},
   "outputs": [],
   "source": [
    "train_temp = pd.merge(train_temp, f_cat, on=['cat_id'], how='left')"
   ]
  },
  {
   "cell_type": "code",
   "execution_count": 180,
   "metadata": {},
   "outputs": [],
   "source": [
    "train_temp = pd.merge(train_temp, f_brand, on=['brand_id'], how='left')"
   ]
  },
  {
   "cell_type": "code",
   "execution_count": null,
   "metadata": {},
   "outputs": [],
   "source": [
    "train_temp = train_temp.drop(colunms=['cat_id','brand_id'])"
   ]
  },
  {
   "cell_type": "code",
   "execution_count": 181,
   "metadata": {},
   "outputs": [
    {
     "data": {
      "text/html": "<div>\n<style scoped>\n    .dataframe tbody tr th:only-of-type {\n        vertical-align: middle;\n    }\n\n    .dataframe tbody tr th {\n        vertical-align: top;\n    }\n\n    .dataframe thead th {\n        text-align: right;\n    }\n</style>\n<table border=\"1\" class=\"dataframe\">\n  <thead>\n    <tr style=\"text-align: right;\">\n      <th></th>\n      <th>user_id</th>\n      <th>merchant_id</th>\n      <th>label</th>\n      <th>cat_id</th>\n      <th>brand_id</th>\n      <th>0_x</th>\n      <th>1_x</th>\n      <th>0_y</th>\n      <th>1_y</th>\n      <th>2</th>\n      <th>0_x</th>\n      <th>1_x</th>\n      <th>0_y</th>\n      <th>0</th>\n      <th>1_y</th>\n    </tr>\n  </thead>\n  <tbody>\n    <tr>\n      <td>0</td>\n      <td>34176</td>\n      <td>3906</td>\n      <td>0</td>\n      <td>1095</td>\n      <td>6268</td>\n      <td>0.117340</td>\n      <td>0.081067</td>\n      <td>0.399161</td>\n      <td>0.374431</td>\n      <td>0.374951</td>\n      <td>0.17177</td>\n      <td>0.186469</td>\n      <td>0.687975</td>\n      <td>0.299165</td>\n      <td>0.272028</td>\n    </tr>\n    <tr>\n      <td>1</td>\n      <td>34176</td>\n      <td>3906</td>\n      <td>0</td>\n      <td>1397</td>\n      <td>6268</td>\n      <td>0.117340</td>\n      <td>0.081067</td>\n      <td>0.399161</td>\n      <td>0.374431</td>\n      <td>0.374951</td>\n      <td>0.17177</td>\n      <td>0.186469</td>\n      <td>0.617998</td>\n      <td>0.299165</td>\n      <td>0.272028</td>\n    </tr>\n    <tr>\n      <td>2</td>\n      <td>34176</td>\n      <td>3906</td>\n      <td>0</td>\n      <td>821</td>\n      <td>6268</td>\n      <td>0.117340</td>\n      <td>0.081067</td>\n      <td>0.399161</td>\n      <td>0.374431</td>\n      <td>0.374951</td>\n      <td>0.17177</td>\n      <td>0.186469</td>\n      <td>0.647551</td>\n      <td>0.299165</td>\n      <td>0.272028</td>\n    </tr>\n    <tr>\n      <td>3</td>\n      <td>34176</td>\n      <td>3906</td>\n      <td>0</td>\n      <td>154</td>\n      <td>6268</td>\n      <td>0.117340</td>\n      <td>0.081067</td>\n      <td>0.399161</td>\n      <td>0.374431</td>\n      <td>0.374951</td>\n      <td>0.17177</td>\n      <td>0.186469</td>\n      <td>0.506193</td>\n      <td>0.299165</td>\n      <td>0.272028</td>\n    </tr>\n    <tr>\n      <td>4</td>\n      <td>34176</td>\n      <td>3906</td>\n      <td>0</td>\n      <td>1577</td>\n      <td>6268</td>\n      <td>0.117340</td>\n      <td>0.081067</td>\n      <td>0.399161</td>\n      <td>0.374431</td>\n      <td>0.374951</td>\n      <td>0.17177</td>\n      <td>0.186469</td>\n      <td>0.790117</td>\n      <td>0.299165</td>\n      <td>0.272028</td>\n    </tr>\n    <tr>\n      <td>...</td>\n      <td>...</td>\n      <td>...</td>\n      <td>...</td>\n      <td>...</td>\n      <td>...</td>\n      <td>...</td>\n      <td>...</td>\n      <td>...</td>\n      <td>...</td>\n      <td>...</td>\n      <td>...</td>\n      <td>...</td>\n      <td>...</td>\n      <td>...</td>\n      <td>...</td>\n    </tr>\n    <tr>\n      <td>8651324</td>\n      <td>294527</td>\n      <td>2537</td>\n      <td>0</td>\n      <td>544</td>\n      <td>NaN</td>\n      <td>0.068114</td>\n      <td>0.073351</td>\n      <td>0.426898</td>\n      <td>0.352208</td>\n      <td>0.356847</td>\n      <td>NaN</td>\n      <td>NaN</td>\n      <td>0.005423</td>\n      <td>NaN</td>\n      <td>NaN</td>\n    </tr>\n    <tr>\n      <td>8651325</td>\n      <td>229247</td>\n      <td>4140</td>\n      <td>0</td>\n      <td>737</td>\n      <td>5697</td>\n      <td>0.081227</td>\n      <td>0.070473</td>\n      <td>0.366351</td>\n      <td>0.363906</td>\n      <td>0.394474</td>\n      <td>NaN</td>\n      <td>NaN</td>\n      <td>0.542879</td>\n      <td>0.278784</td>\n      <td>0.274658</td>\n    </tr>\n    <tr>\n      <td>8651326</td>\n      <td>229247</td>\n      <td>4140</td>\n      <td>0</td>\n      <td>1326</td>\n      <td>5697</td>\n      <td>0.081227</td>\n      <td>0.070473</td>\n      <td>0.366351</td>\n      <td>0.363906</td>\n      <td>0.394474</td>\n      <td>NaN</td>\n      <td>NaN</td>\n      <td>0.271944</td>\n      <td>0.278784</td>\n      <td>0.274658</td>\n    </tr>\n    <tr>\n      <td>8651327</td>\n      <td>229247</td>\n      <td>4140</td>\n      <td>0</td>\n      <td>737</td>\n      <td>NaN</td>\n      <td>0.081227</td>\n      <td>0.070473</td>\n      <td>0.366351</td>\n      <td>0.363906</td>\n      <td>0.394474</td>\n      <td>NaN</td>\n      <td>NaN</td>\n      <td>0.542879</td>\n      <td>NaN</td>\n      <td>NaN</td>\n    </tr>\n    <tr>\n      <td>8651328</td>\n      <td>229247</td>\n      <td>4140</td>\n      <td>0</td>\n      <td>126</td>\n      <td>NaN</td>\n      <td>0.081227</td>\n      <td>0.070473</td>\n      <td>0.366351</td>\n      <td>0.363906</td>\n      <td>0.394474</td>\n      <td>NaN</td>\n      <td>NaN</td>\n      <td>0.035751</td>\n      <td>NaN</td>\n      <td>NaN</td>\n    </tr>\n  </tbody>\n</table>\n<p>8651329 rows × 15 columns</p>\n</div>",
      "text/plain": "         user_id  merchant_id  label  cat_id  brand_id       0_x       1_x  \\\n0          34176         3906      0    1095      6268  0.117340  0.081067   \n1          34176         3906      0    1397      6268  0.117340  0.081067   \n2          34176         3906      0     821      6268  0.117340  0.081067   \n3          34176         3906      0     154      6268  0.117340  0.081067   \n4          34176         3906      0    1577      6268  0.117340  0.081067   \n...          ...          ...    ...     ...       ...       ...       ...   \n8651324   294527         2537      0     544       NaN  0.068114  0.073351   \n8651325   229247         4140      0     737      5697  0.081227  0.070473   \n8651326   229247         4140      0    1326      5697  0.081227  0.070473   \n8651327   229247         4140      0     737       NaN  0.081227  0.070473   \n8651328   229247         4140      0     126       NaN  0.081227  0.070473   \n\n              0_y       1_y         2      0_x       1_x       0_y         0  \\\n0        0.399161  0.374431  0.374951  0.17177  0.186469  0.687975  0.299165   \n1        0.399161  0.374431  0.374951  0.17177  0.186469  0.617998  0.299165   \n2        0.399161  0.374431  0.374951  0.17177  0.186469  0.647551  0.299165   \n3        0.399161  0.374431  0.374951  0.17177  0.186469  0.506193  0.299165   \n4        0.399161  0.374431  0.374951  0.17177  0.186469  0.790117  0.299165   \n...           ...       ...       ...      ...       ...       ...       ...   \n8651324  0.426898  0.352208  0.356847      NaN       NaN  0.005423       NaN   \n8651325  0.366351  0.363906  0.394474      NaN       NaN  0.542879  0.278784   \n8651326  0.366351  0.363906  0.394474      NaN       NaN  0.271944  0.278784   \n8651327  0.366351  0.363906  0.394474      NaN       NaN  0.542879       NaN   \n8651328  0.366351  0.363906  0.394474      NaN       NaN  0.035751       NaN   \n\n              1_y  \n0        0.272028  \n1        0.272028  \n2        0.272028  \n3        0.272028  \n4        0.272028  \n...           ...  \n8651324       NaN  \n8651325  0.274658  \n8651326  0.274658  \n8651327       NaN  \n8651328       NaN  \n\n[8651329 rows x 15 columns]"
     },
     "execution_count": 181,
     "metadata": {},
     "output_type": "execute_result"
    }
   ],
   "source": [
    "train_temp"
   ]
  },
  {
   "cell_type": "code",
   "execution_count": 187,
   "metadata": {},
   "outputs": [
    {
     "data": {
      "text/html": "<div>\n<style scoped>\n    .dataframe tbody tr th:only-of-type {\n        vertical-align: middle;\n    }\n\n    .dataframe tbody tr th {\n        vertical-align: top;\n    }\n\n    .dataframe thead th {\n        text-align: right;\n    }\n</style>\n<table border=\"1\" class=\"dataframe\">\n  <thead>\n    <tr style=\"text-align: right;\">\n      <th></th>\n      <th>merchant_id</th>\n      <th>0</th>\n      <th>1</th>\n    </tr>\n  </thead>\n  <tbody>\n    <tr>\n      <td>0</td>\n      <td>420</td>\n      <td>0.382557</td>\n      <td>0.152495</td>\n    </tr>\n    <tr>\n      <td>1</td>\n      <td>4605</td>\n      <td>0.213249</td>\n      <td>0.183821</td>\n    </tr>\n    <tr>\n      <td>2</td>\n      <td>3828</td>\n      <td>0.926057</td>\n      <td>0.000000</td>\n    </tr>\n    <tr>\n      <td>3</td>\n      <td>1200</td>\n      <td>0.203615</td>\n      <td>0.180044</td>\n    </tr>\n    <tr>\n      <td>4</td>\n      <td>4043</td>\n      <td>0.217471</td>\n      <td>0.188986</td>\n    </tr>\n    <tr>\n      <td>...</td>\n      <td>...</td>\n      <td>...</td>\n      <td>...</td>\n    </tr>\n    <tr>\n      <td>458</td>\n      <td>1842</td>\n      <td>0.156177</td>\n      <td>0.194856</td>\n    </tr>\n    <tr>\n      <td>459</td>\n      <td>2542</td>\n      <td>0.156905</td>\n      <td>0.186957</td>\n    </tr>\n    <tr>\n      <td>460</td>\n      <td>2244</td>\n      <td>0.155217</td>\n      <td>0.185678</td>\n    </tr>\n    <tr>\n      <td>461</td>\n      <td>3879</td>\n      <td>0.154040</td>\n      <td>0.186571</td>\n    </tr>\n    <tr>\n      <td>462</td>\n      <td>2339</td>\n      <td>0.156338</td>\n      <td>0.194238</td>\n    </tr>\n  </tbody>\n</table>\n<p>463 rows × 3 columns</p>\n</div>",
      "text/plain": "     merchant_id         0         1\n0            420  0.382557  0.152495\n1           4605  0.213249  0.183821\n2           3828  0.926057  0.000000\n3           1200  0.203615  0.180044\n4           4043  0.217471  0.188986\n..           ...       ...       ...\n458         1842  0.156177  0.194856\n459         2542  0.156905  0.186957\n460         2244  0.155217  0.185678\n461         3879  0.154040  0.186571\n462         2339  0.156338  0.194238\n\n[463 rows x 3 columns]"
     },
     "execution_count": 187,
     "metadata": {},
     "output_type": "execute_result"
    }
   ],
   "source": [
    "train_temp['f_age'] = train_temp.apply(lambda x: f_merchant_user[f_merchant_user['merchant_id'] == x['merchant_id']]['a_' + str(x['age'])])"
   ]
  },
  {
   "cell_type": "code",
   "execution_count": 188,
   "metadata": {},
   "outputs": [
    {
     "data": {
      "text/html": "<div>\n<style scoped>\n    .dataframe tbody tr th:only-of-type {\n        vertical-align: middle;\n    }\n\n    .dataframe tbody tr th {\n        vertical-align: top;\n    }\n\n    .dataframe thead th {\n        text-align: right;\n    }\n</style>\n<table border=\"1\" class=\"dataframe\">\n  <thead>\n    <tr style=\"text-align: right;\">\n      <th></th>\n      <th>merchant_id</th>\n      <th>0</th>\n      <th>1</th>\n      <th>2</th>\n    </tr>\n  </thead>\n  <tbody>\n    <tr>\n      <td>0</td>\n      <td>2882</td>\n      <td>0.372533</td>\n      <td>0.366608</td>\n      <td>0.396464</td>\n    </tr>\n    <tr>\n      <td>1</td>\n      <td>1253</td>\n      <td>0.437256</td>\n      <td>0.330333</td>\n      <td>0.398835</td>\n    </tr>\n    <tr>\n      <td>2</td>\n      <td>883</td>\n      <td>0.419042</td>\n      <td>0.365779</td>\n      <td>0.414876</td>\n    </tr>\n    <tr>\n      <td>3</td>\n      <td>420</td>\n      <td>0.560522</td>\n      <td>0.257749</td>\n      <td>0.372548</td>\n    </tr>\n    <tr>\n      <td>4</td>\n      <td>4605</td>\n      <td>0.458448</td>\n      <td>0.348996</td>\n      <td>0.342660</td>\n    </tr>\n    <tr>\n      <td>...</td>\n      <td>...</td>\n      <td>...</td>\n      <td>...</td>\n      <td>...</td>\n    </tr>\n    <tr>\n      <td>4990</td>\n      <td>2408</td>\n      <td>0.366897</td>\n      <td>0.394446</td>\n      <td>0.380059</td>\n    </tr>\n    <tr>\n      <td>4991</td>\n      <td>2979</td>\n      <td>0.347775</td>\n      <td>0.373684</td>\n      <td>0.379057</td>\n    </tr>\n    <tr>\n      <td>4992</td>\n      <td>3808</td>\n      <td>0.349199</td>\n      <td>0.374788</td>\n      <td>0.378463</td>\n    </tr>\n    <tr>\n      <td>4993</td>\n      <td>3532</td>\n      <td>0.354472</td>\n      <td>0.380161</td>\n      <td>0.379309</td>\n    </tr>\n    <tr>\n      <td>4994</td>\n      <td>4103</td>\n      <td>0.359019</td>\n      <td>0.386431</td>\n      <td>0.379110</td>\n    </tr>\n  </tbody>\n</table>\n<p>4995 rows × 4 columns</p>\n</div>",
      "text/plain": "      merchant_id         0         1         2\n0            2882  0.372533  0.366608  0.396464\n1            1253  0.437256  0.330333  0.398835\n2             883  0.419042  0.365779  0.414876\n3             420  0.560522  0.257749  0.372548\n4            4605  0.458448  0.348996  0.342660\n...           ...       ...       ...       ...\n4990         2408  0.366897  0.394446  0.380059\n4991         2979  0.347775  0.373684  0.379057\n4992         3808  0.349199  0.374788  0.378463\n4993         3532  0.354472  0.380161  0.379309\n4994         4103  0.359019  0.386431  0.379110\n\n[4995 rows x 4 columns]"
     },
     "execution_count": 188,
     "metadata": {},
     "output_type": "execute_result"
    }
   ],
   "source": [
    "train_temp['f_gender'] = train_temp.apply(lambda x: f_merchant_user[f_merchant_user['merchant_id'] == x['merchant_id']]['g_' + str(x['gender'])])"
   ]
  },
  {
   "cell_type": "code",
   "execution_count": null,
   "metadata": {},
   "outputs": [],
   "source": []
  }
 ],
 "metadata": {
  "kernelspec": {
   "display_name": "Python 3",
   "language": "python",
   "name": "python3"
  },
  "language_info": {
   "codemirror_mode": {
    "name": "ipython",
    "version": 3
   },
   "file_extension": ".py",
   "mimetype": "text/x-python",
   "name": "python",
   "nbconvert_exporter": "python",
   "pygments_lexer": "ipython3",
   "version": "3.7.2"
  }
 },
 "nbformat": 4,
 "nbformat_minor": 2
}